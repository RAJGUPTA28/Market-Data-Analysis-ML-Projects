{
 "cells": [
  {
   "cell_type": "code",
   "execution_count": 1,
   "id": "ef185531",
   "metadata": {
    "_cell_guid": "b1076dfc-b9ad-4769-8c92-a6c4dae69d19",
    "_uuid": "8f2839f25d086af736a60e9eeb907d3b93b6e0e5",
    "execution": {
     "iopub.execute_input": "2022-08-13T12:11:37.217629Z",
     "iopub.status.busy": "2022-08-13T12:11:37.216227Z",
     "iopub.status.idle": "2022-08-13T12:11:37.247588Z",
     "shell.execute_reply": "2022-08-13T12:11:37.246224Z"
    },
    "papermill": {
     "duration": 0.054669,
     "end_time": "2022-08-13T12:11:37.251321",
     "exception": false,
     "start_time": "2022-08-13T12:11:37.196652",
     "status": "completed"
    },
    "tags": []
   },
   "outputs": [
    {
     "name": "stdout",
     "output_type": "stream",
     "text": [
      "/kaggle/input/bank-marketing-dataset/bank.csv\n"
     ]
    }
   ],
   "source": [
    "# This Python 3 environment comes with many helpful analytics libraries installed\n",
    "# It is defined by the kaggle/python Docker image: https://github.com/kaggle/docker-python\n",
    "# For example, here's several helpful packages to load\n",
    "\n",
    "import numpy as np # linear algebra\n",
    "import pandas as pd # data processing, CSV file I/O (e.g. pd.read_csv)\n",
    "\n",
    "# Input data files are available in the read-only \"../input/\" directory\n",
    "# For example, running this (by clicking run or pressing Shift+Enter) will list all files under the input directory\n",
    "\n",
    "import os\n",
    "for dirname, _, filenames in os.walk('/kaggle/input'):\n",
    "    for filename in filenames:\n",
    "        print(os.path.join(dirname, filename))\n",
    "\n",
    "# You can write up to 20GB to the current directory (/kaggle/working/) that gets preserved as output when you create a version using \"Save & Run All\" \n",
    "# You can also write temporary files to /kaggle/temp/, but they won't be saved outside of the current session"
   ]
  },
  {
   "cell_type": "markdown",
   "id": "d85c4167",
   "metadata": {
    "papermill": {
     "duration": 0.017855,
     "end_time": "2022-08-13T12:11:37.284818",
     "exception": false,
     "start_time": "2022-08-13T12:11:37.266963",
     "status": "completed"
    },
    "tags": []
   },
   "source": [
    "# ***BANK MARKETING EFFECTIVENESS***"
   ]
  },
  {
   "cell_type": "markdown",
   "id": "e90cd24c",
   "metadata": {
    "papermill": {
     "duration": 0.01476,
     "end_time": "2022-08-13T12:11:37.315689",
     "exception": false,
     "start_time": "2022-08-13T12:11:37.300929",
     "status": "completed"
    },
    "tags": []
   },
   "source": [
    "**TERM DEPOSIT**\n",
    "* A term deposit is a type of deposit account held at a financial institution where money is locked up for some set period of time. \n",
    "* Term deposits are usually short-term deposits with maturities ranging from one month to a few years."
   ]
  },
  {
   "cell_type": "markdown",
   "id": "587b7581",
   "metadata": {
    "papermill": {
     "duration": 0.014783,
     "end_time": "2022-08-13T12:11:37.345547",
     "exception": false,
     "start_time": "2022-08-13T12:11:37.330764",
     "status": "completed"
    },
    "tags": []
   },
   "source": [
    "**AIM**\n",
    "* *USING THE GIVEN DATASET AND DEVELOPING A ML MODEL OUT OF IT WITH  **TARGET: DEPOSIT (YES /NO)** FOR CLASSIFYING A NEW CUSTOMER BASED ON GIVEN FEATURES AND ALSO  **DETERMINING THE MOST RELEVANT FEATURE** OF CLASSIFICATION*\n"
   ]
  },
  {
   "cell_type": "markdown",
   "id": "22dfc87d",
   "metadata": {
    "papermill": {
     "duration": 0.014843,
     "end_time": "2022-08-13T12:11:37.375587",
     "exception": false,
     "start_time": "2022-08-13T12:11:37.360744",
     "status": "completed"
    },
    "tags": []
   },
   "source": [
    "**ABOUT NOTEBOOK**\n",
    "\n",
    "***NOTEBOOK SECTIONS :***\n",
    "\n",
    "* 1) DATA LOADING AND DATA INSIGHTS(SHAPE , COLUMNS ,INFORMATION )\n",
    "* 2) DATA CLEANING (HANDLING NULL ,DROPPING IRRELEVANT FEATURES)\n",
    "* 3) DATA VISUALISATION & PLOTTING CORRELATION HEATMAP\n",
    "* 4) FEATURE ENGINEERING (HANDING OUTLIERS)\n",
    "* 5) CATEGORICAL VARIABLES ENCODING\n",
    "* 6) SPLITTING DATA INTO TRAINING AND TESTING SETS\n",
    "* 7) SCALING DATA USING STANDARDSCALER\n",
    "* 8) MODEL SELECTION BASED ON ***CROSS VAL SCORES*** (XGB CLASSIFIER VS RANDOM FOREST)\n",
    "* 9) MODEL ***MODEL OPTIMAL PARAMETER SELECTION*** USING GRIDCV\n",
    "* 10)MODEL BUILDING USING ABOVE RESULTS\n",
    "* 11) FINDING MOST IMPORTANT FEATURES OF CLASSIFICATION OF DEPOSIT\n",
    "* 12) PLOTTING CONFUSION MATRIX"
   ]
  },
  {
   "cell_type": "code",
   "execution_count": 2,
   "id": "7a24ce41",
   "metadata": {
    "execution": {
     "iopub.execute_input": "2022-08-13T12:11:37.407229Z",
     "iopub.status.busy": "2022-08-13T12:11:37.406831Z",
     "iopub.status.idle": "2022-08-13T12:11:38.990738Z",
     "shell.execute_reply": "2022-08-13T12:11:38.989625Z"
    },
    "papermill": {
     "duration": 1.602837,
     "end_time": "2022-08-13T12:11:38.993418",
     "exception": false,
     "start_time": "2022-08-13T12:11:37.390581",
     "status": "completed"
    },
    "tags": []
   },
   "outputs": [],
   "source": [
    "#importing the libraries \n",
    "\n",
    "import numpy as np\n",
    "import pandas as pd\n",
    "import matplotlib.pyplot as plt\n",
    "import seaborn as sns\n",
    "\n",
    "\n",
    "from sklearn.model_selection import train_test_split\n",
    "from sklearn.preprocessing import StandardScaler\n",
    "from sklearn.model_selection import cross_val_score\n",
    "\n",
    "\n",
    "from sklearn.model_selection import GridSearchCV\n",
    "from sklearn.ensemble import RandomForestClassifier\n",
    "from xgboost import XGBClassifier\n",
    "\n",
    "\n",
    "from sklearn.metrics import confusion_matrix"
   ]
  },
  {
   "cell_type": "code",
   "execution_count": 3,
   "id": "18639449",
   "metadata": {
    "execution": {
     "iopub.execute_input": "2022-08-13T12:11:39.025022Z",
     "iopub.status.busy": "2022-08-13T12:11:39.024628Z",
     "iopub.status.idle": "2022-08-13T12:11:39.104365Z",
     "shell.execute_reply": "2022-08-13T12:11:39.103209Z"
    },
    "papermill": {
     "duration": 0.098565,
     "end_time": "2022-08-13T12:11:39.106955",
     "exception": false,
     "start_time": "2022-08-13T12:11:39.008390",
     "status": "completed"
    },
    "tags": []
   },
   "outputs": [
    {
     "data": {
      "text/html": [
       "<div>\n",
       "<style scoped>\n",
       "    .dataframe tbody tr th:only-of-type {\n",
       "        vertical-align: middle;\n",
       "    }\n",
       "\n",
       "    .dataframe tbody tr th {\n",
       "        vertical-align: top;\n",
       "    }\n",
       "\n",
       "    .dataframe thead th {\n",
       "        text-align: right;\n",
       "    }\n",
       "</style>\n",
       "<table border=\"1\" class=\"dataframe\">\n",
       "  <thead>\n",
       "    <tr style=\"text-align: right;\">\n",
       "      <th></th>\n",
       "      <th>age</th>\n",
       "      <th>job</th>\n",
       "      <th>marital</th>\n",
       "      <th>education</th>\n",
       "      <th>default</th>\n",
       "      <th>balance</th>\n",
       "      <th>housing</th>\n",
       "      <th>loan</th>\n",
       "      <th>contact</th>\n",
       "      <th>day</th>\n",
       "      <th>month</th>\n",
       "      <th>duration</th>\n",
       "      <th>campaign</th>\n",
       "      <th>pdays</th>\n",
       "      <th>previous</th>\n",
       "      <th>poutcome</th>\n",
       "      <th>deposit</th>\n",
       "    </tr>\n",
       "  </thead>\n",
       "  <tbody>\n",
       "    <tr>\n",
       "      <th>0</th>\n",
       "      <td>59</td>\n",
       "      <td>admin.</td>\n",
       "      <td>married</td>\n",
       "      <td>secondary</td>\n",
       "      <td>no</td>\n",
       "      <td>2343</td>\n",
       "      <td>yes</td>\n",
       "      <td>no</td>\n",
       "      <td>unknown</td>\n",
       "      <td>5</td>\n",
       "      <td>may</td>\n",
       "      <td>1042</td>\n",
       "      <td>1</td>\n",
       "      <td>-1</td>\n",
       "      <td>0</td>\n",
       "      <td>unknown</td>\n",
       "      <td>yes</td>\n",
       "    </tr>\n",
       "    <tr>\n",
       "      <th>1</th>\n",
       "      <td>56</td>\n",
       "      <td>admin.</td>\n",
       "      <td>married</td>\n",
       "      <td>secondary</td>\n",
       "      <td>no</td>\n",
       "      <td>45</td>\n",
       "      <td>no</td>\n",
       "      <td>no</td>\n",
       "      <td>unknown</td>\n",
       "      <td>5</td>\n",
       "      <td>may</td>\n",
       "      <td>1467</td>\n",
       "      <td>1</td>\n",
       "      <td>-1</td>\n",
       "      <td>0</td>\n",
       "      <td>unknown</td>\n",
       "      <td>yes</td>\n",
       "    </tr>\n",
       "    <tr>\n",
       "      <th>2</th>\n",
       "      <td>41</td>\n",
       "      <td>technician</td>\n",
       "      <td>married</td>\n",
       "      <td>secondary</td>\n",
       "      <td>no</td>\n",
       "      <td>1270</td>\n",
       "      <td>yes</td>\n",
       "      <td>no</td>\n",
       "      <td>unknown</td>\n",
       "      <td>5</td>\n",
       "      <td>may</td>\n",
       "      <td>1389</td>\n",
       "      <td>1</td>\n",
       "      <td>-1</td>\n",
       "      <td>0</td>\n",
       "      <td>unknown</td>\n",
       "      <td>yes</td>\n",
       "    </tr>\n",
       "    <tr>\n",
       "      <th>3</th>\n",
       "      <td>55</td>\n",
       "      <td>services</td>\n",
       "      <td>married</td>\n",
       "      <td>secondary</td>\n",
       "      <td>no</td>\n",
       "      <td>2476</td>\n",
       "      <td>yes</td>\n",
       "      <td>no</td>\n",
       "      <td>unknown</td>\n",
       "      <td>5</td>\n",
       "      <td>may</td>\n",
       "      <td>579</td>\n",
       "      <td>1</td>\n",
       "      <td>-1</td>\n",
       "      <td>0</td>\n",
       "      <td>unknown</td>\n",
       "      <td>yes</td>\n",
       "    </tr>\n",
       "    <tr>\n",
       "      <th>4</th>\n",
       "      <td>54</td>\n",
       "      <td>admin.</td>\n",
       "      <td>married</td>\n",
       "      <td>tertiary</td>\n",
       "      <td>no</td>\n",
       "      <td>184</td>\n",
       "      <td>no</td>\n",
       "      <td>no</td>\n",
       "      <td>unknown</td>\n",
       "      <td>5</td>\n",
       "      <td>may</td>\n",
       "      <td>673</td>\n",
       "      <td>2</td>\n",
       "      <td>-1</td>\n",
       "      <td>0</td>\n",
       "      <td>unknown</td>\n",
       "      <td>yes</td>\n",
       "    </tr>\n",
       "  </tbody>\n",
       "</table>\n",
       "</div>"
      ],
      "text/plain": [
       "   age         job  marital  education default  balance housing loan  contact  \\\n",
       "0   59      admin.  married  secondary      no     2343     yes   no  unknown   \n",
       "1   56      admin.  married  secondary      no       45      no   no  unknown   \n",
       "2   41  technician  married  secondary      no     1270     yes   no  unknown   \n",
       "3   55    services  married  secondary      no     2476     yes   no  unknown   \n",
       "4   54      admin.  married   tertiary      no      184      no   no  unknown   \n",
       "\n",
       "   day month  duration  campaign  pdays  previous poutcome deposit  \n",
       "0    5   may      1042         1     -1         0  unknown     yes  \n",
       "1    5   may      1467         1     -1         0  unknown     yes  \n",
       "2    5   may      1389         1     -1         0  unknown     yes  \n",
       "3    5   may       579         1     -1         0  unknown     yes  \n",
       "4    5   may       673         2     -1         0  unknown     yes  "
      ]
     },
     "execution_count": 3,
     "metadata": {},
     "output_type": "execute_result"
    }
   ],
   "source": [
    "df =pd.read_csv('/kaggle/input/bank-marketing-dataset/bank.csv')\n",
    "df.head(5)"
   ]
  },
  {
   "cell_type": "markdown",
   "id": "090a2901",
   "metadata": {
    "papermill": {
     "duration": 0.01493,
     "end_time": "2022-08-13T12:11:39.137559",
     "exception": false,
     "start_time": "2022-08-13T12:11:39.122629",
     "status": "completed"
    },
    "tags": []
   },
   "source": [
    "# EDA *(Exploratory Data Analysis)*"
   ]
  },
  {
   "cell_type": "code",
   "execution_count": 4,
   "id": "6311de32",
   "metadata": {
    "execution": {
     "iopub.execute_input": "2022-08-13T12:11:39.170996Z",
     "iopub.status.busy": "2022-08-13T12:11:39.169917Z",
     "iopub.status.idle": "2022-08-13T12:11:39.176309Z",
     "shell.execute_reply": "2022-08-13T12:11:39.175341Z"
    },
    "papermill": {
     "duration": 0.025142,
     "end_time": "2022-08-13T12:11:39.178470",
     "exception": false,
     "start_time": "2022-08-13T12:11:39.153328",
     "status": "completed"
    },
    "tags": []
   },
   "outputs": [
    {
     "data": {
      "text/plain": [
       "(11162, 17)"
      ]
     },
     "execution_count": 4,
     "metadata": {},
     "output_type": "execute_result"
    }
   ],
   "source": [
    "df.shape"
   ]
  },
  {
   "cell_type": "code",
   "execution_count": 5,
   "id": "f6c58871",
   "metadata": {
    "execution": {
     "iopub.execute_input": "2022-08-13T12:11:39.212038Z",
     "iopub.status.busy": "2022-08-13T12:11:39.211359Z",
     "iopub.status.idle": "2022-08-13T12:11:39.217304Z",
     "shell.execute_reply": "2022-08-13T12:11:39.216526Z"
    },
    "papermill": {
     "duration": 0.025012,
     "end_time": "2022-08-13T12:11:39.219453",
     "exception": false,
     "start_time": "2022-08-13T12:11:39.194441",
     "status": "completed"
    },
    "tags": []
   },
   "outputs": [
    {
     "data": {
      "text/plain": [
       "Index(['age', 'job', 'marital', 'education', 'default', 'balance', 'housing',\n",
       "       'loan', 'contact', 'day', 'month', 'duration', 'campaign', 'pdays',\n",
       "       'previous', 'poutcome', 'deposit'],\n",
       "      dtype='object')"
      ]
     },
     "execution_count": 5,
     "metadata": {},
     "output_type": "execute_result"
    }
   ],
   "source": [
    "df.columns"
   ]
  },
  {
   "cell_type": "code",
   "execution_count": 6,
   "id": "e2cdc0da",
   "metadata": {
    "execution": {
     "iopub.execute_input": "2022-08-13T12:11:39.252686Z",
     "iopub.status.busy": "2022-08-13T12:11:39.251997Z",
     "iopub.status.idle": "2022-08-13T12:11:39.267768Z",
     "shell.execute_reply": "2022-08-13T12:11:39.266643Z"
    },
    "papermill": {
     "duration": 0.03517,
     "end_time": "2022-08-13T12:11:39.270281",
     "exception": false,
     "start_time": "2022-08-13T12:11:39.235111",
     "status": "completed"
    },
    "tags": []
   },
   "outputs": [
    {
     "data": {
      "text/plain": [
       "Index(['job', 'marital', 'education', 'default', 'housing', 'loan', 'contact',\n",
       "       'month', 'poutcome', 'deposit'],\n",
       "      dtype='object')"
      ]
     },
     "execution_count": 6,
     "metadata": {},
     "output_type": "execute_result"
    }
   ],
   "source": [
    "cat_features = df.select_dtypes('object').columns\n",
    "cat_features"
   ]
  },
  {
   "cell_type": "code",
   "execution_count": 7,
   "id": "423df65f",
   "metadata": {
    "execution": {
     "iopub.execute_input": "2022-08-13T12:11:39.304249Z",
     "iopub.status.busy": "2022-08-13T12:11:39.303472Z",
     "iopub.status.idle": "2022-08-13T12:11:39.323785Z",
     "shell.execute_reply": "2022-08-13T12:11:39.322155Z"
    },
    "papermill": {
     "duration": 0.040845,
     "end_time": "2022-08-13T12:11:39.326674",
     "exception": false,
     "start_time": "2022-08-13T12:11:39.285829",
     "status": "completed"
    },
    "tags": []
   },
   "outputs": [
    {
     "name": "stdout",
     "output_type": "stream",
     "text": [
      "*All categorical features and their distinct values* \n",
      "\n",
      "job  -->  ['admin.' 'technician' 'services' 'management' 'retired' 'blue-collar'\n",
      " 'unemployed' 'entrepreneur' 'housemaid' 'unknown' 'self-employed'\n",
      " 'student']\n",
      "\n",
      "marital  -->  ['married' 'single' 'divorced']\n",
      "\n",
      "education  -->  ['secondary' 'tertiary' 'primary' 'unknown']\n",
      "\n",
      "default  -->  ['no' 'yes']\n",
      "\n",
      "housing  -->  ['yes' 'no']\n",
      "\n",
      "loan  -->  ['no' 'yes']\n",
      "\n",
      "contact  -->  ['unknown' 'cellular' 'telephone']\n",
      "\n",
      "month  -->  ['may' 'jun' 'jul' 'aug' 'oct' 'nov' 'dec' 'jan' 'feb' 'mar' 'apr' 'sep']\n",
      "\n",
      "poutcome  -->  ['unknown' 'other' 'failure' 'success']\n",
      "\n",
      "deposit  -->  ['yes' 'no']\n",
      "\n"
     ]
    }
   ],
   "source": [
    "print('*All categorical features and their distinct values* \\n')\n",
    "for c in cat_features:\n",
    "    \n",
    "    print(c , ' --> ',df[c].unique())\n",
    "    print()\n",
    "   "
   ]
  },
  {
   "cell_type": "code",
   "execution_count": null,
   "id": "512c057a",
   "metadata": {
    "papermill": {
     "duration": 0.015244,
     "end_time": "2022-08-13T12:11:39.358240",
     "exception": false,
     "start_time": "2022-08-13T12:11:39.342996",
     "status": "completed"
    },
    "tags": []
   },
   "outputs": [],
   "source": []
  },
  {
   "cell_type": "code",
   "execution_count": 8,
   "id": "5f0eab1e",
   "metadata": {
    "execution": {
     "iopub.execute_input": "2022-08-13T12:11:39.391903Z",
     "iopub.status.busy": "2022-08-13T12:11:39.390820Z",
     "iopub.status.idle": "2022-08-13T12:11:39.432462Z",
     "shell.execute_reply": "2022-08-13T12:11:39.431220Z"
    },
    "papermill": {
     "duration": 0.060875,
     "end_time": "2022-08-13T12:11:39.434891",
     "exception": false,
     "start_time": "2022-08-13T12:11:39.374016",
     "status": "completed"
    },
    "tags": []
   },
   "outputs": [
    {
     "data": {
      "text/html": [
       "<div>\n",
       "<style scoped>\n",
       "    .dataframe tbody tr th:only-of-type {\n",
       "        vertical-align: middle;\n",
       "    }\n",
       "\n",
       "    .dataframe tbody tr th {\n",
       "        vertical-align: top;\n",
       "    }\n",
       "\n",
       "    .dataframe thead th {\n",
       "        text-align: right;\n",
       "    }\n",
       "</style>\n",
       "<table border=\"1\" class=\"dataframe\">\n",
       "  <thead>\n",
       "    <tr style=\"text-align: right;\">\n",
       "      <th></th>\n",
       "      <th>count</th>\n",
       "      <th>mean</th>\n",
       "      <th>std</th>\n",
       "      <th>min</th>\n",
       "      <th>25%</th>\n",
       "      <th>50%</th>\n",
       "      <th>75%</th>\n",
       "      <th>max</th>\n",
       "    </tr>\n",
       "  </thead>\n",
       "  <tbody>\n",
       "    <tr>\n",
       "      <th>age</th>\n",
       "      <td>11162.0</td>\n",
       "      <td>41.231948</td>\n",
       "      <td>11.913369</td>\n",
       "      <td>18.0</td>\n",
       "      <td>32.0</td>\n",
       "      <td>39.0</td>\n",
       "      <td>49.00</td>\n",
       "      <td>95.0</td>\n",
       "    </tr>\n",
       "    <tr>\n",
       "      <th>balance</th>\n",
       "      <td>11162.0</td>\n",
       "      <td>1528.538524</td>\n",
       "      <td>3225.413326</td>\n",
       "      <td>-6847.0</td>\n",
       "      <td>122.0</td>\n",
       "      <td>550.0</td>\n",
       "      <td>1708.00</td>\n",
       "      <td>81204.0</td>\n",
       "    </tr>\n",
       "    <tr>\n",
       "      <th>day</th>\n",
       "      <td>11162.0</td>\n",
       "      <td>15.658036</td>\n",
       "      <td>8.420740</td>\n",
       "      <td>1.0</td>\n",
       "      <td>8.0</td>\n",
       "      <td>15.0</td>\n",
       "      <td>22.00</td>\n",
       "      <td>31.0</td>\n",
       "    </tr>\n",
       "    <tr>\n",
       "      <th>duration</th>\n",
       "      <td>11162.0</td>\n",
       "      <td>371.993818</td>\n",
       "      <td>347.128386</td>\n",
       "      <td>2.0</td>\n",
       "      <td>138.0</td>\n",
       "      <td>255.0</td>\n",
       "      <td>496.00</td>\n",
       "      <td>3881.0</td>\n",
       "    </tr>\n",
       "    <tr>\n",
       "      <th>campaign</th>\n",
       "      <td>11162.0</td>\n",
       "      <td>2.508421</td>\n",
       "      <td>2.722077</td>\n",
       "      <td>1.0</td>\n",
       "      <td>1.0</td>\n",
       "      <td>2.0</td>\n",
       "      <td>3.00</td>\n",
       "      <td>63.0</td>\n",
       "    </tr>\n",
       "    <tr>\n",
       "      <th>pdays</th>\n",
       "      <td>11162.0</td>\n",
       "      <td>51.330407</td>\n",
       "      <td>108.758282</td>\n",
       "      <td>-1.0</td>\n",
       "      <td>-1.0</td>\n",
       "      <td>-1.0</td>\n",
       "      <td>20.75</td>\n",
       "      <td>854.0</td>\n",
       "    </tr>\n",
       "    <tr>\n",
       "      <th>previous</th>\n",
       "      <td>11162.0</td>\n",
       "      <td>0.832557</td>\n",
       "      <td>2.292007</td>\n",
       "      <td>0.0</td>\n",
       "      <td>0.0</td>\n",
       "      <td>0.0</td>\n",
       "      <td>1.00</td>\n",
       "      <td>58.0</td>\n",
       "    </tr>\n",
       "  </tbody>\n",
       "</table>\n",
       "</div>"
      ],
      "text/plain": [
       "            count         mean          std     min    25%    50%      75%  \\\n",
       "age       11162.0    41.231948    11.913369    18.0   32.0   39.0    49.00   \n",
       "balance   11162.0  1528.538524  3225.413326 -6847.0  122.0  550.0  1708.00   \n",
       "day       11162.0    15.658036     8.420740     1.0    8.0   15.0    22.00   \n",
       "duration  11162.0   371.993818   347.128386     2.0  138.0  255.0   496.00   \n",
       "campaign  11162.0     2.508421     2.722077     1.0    1.0    2.0     3.00   \n",
       "pdays     11162.0    51.330407   108.758282    -1.0   -1.0   -1.0    20.75   \n",
       "previous  11162.0     0.832557     2.292007     0.0    0.0    0.0     1.00   \n",
       "\n",
       "              max  \n",
       "age          95.0  \n",
       "balance   81204.0  \n",
       "day          31.0  \n",
       "duration   3881.0  \n",
       "campaign     63.0  \n",
       "pdays       854.0  \n",
       "previous     58.0  "
      ]
     },
     "execution_count": 8,
     "metadata": {},
     "output_type": "execute_result"
    }
   ],
   "source": [
    "df.describe().T"
   ]
  },
  {
   "cell_type": "code",
   "execution_count": 9,
   "id": "89c74843",
   "metadata": {
    "execution": {
     "iopub.execute_input": "2022-08-13T12:11:39.469179Z",
     "iopub.status.busy": "2022-08-13T12:11:39.468383Z",
     "iopub.status.idle": "2022-08-13T12:11:39.482646Z",
     "shell.execute_reply": "2022-08-13T12:11:39.481626Z"
    },
    "papermill": {
     "duration": 0.034062,
     "end_time": "2022-08-13T12:11:39.484993",
     "exception": false,
     "start_time": "2022-08-13T12:11:39.450931",
     "status": "completed"
    },
    "tags": []
   },
   "outputs": [
    {
     "data": {
      "text/plain": [
       "age          0\n",
       "job          0\n",
       "marital      0\n",
       "education    0\n",
       "default      0\n",
       "balance      0\n",
       "housing      0\n",
       "loan         0\n",
       "contact      0\n",
       "day          0\n",
       "month        0\n",
       "duration     0\n",
       "campaign     0\n",
       "pdays        0\n",
       "previous     0\n",
       "poutcome     0\n",
       "deposit      0\n",
       "dtype: int64"
      ]
     },
     "execution_count": 9,
     "metadata": {},
     "output_type": "execute_result"
    }
   ],
   "source": [
    "#checking for NULL\n",
    "df.isnull().sum()"
   ]
  },
  {
   "cell_type": "markdown",
   "id": "4886e338",
   "metadata": {
    "papermill": {
     "duration": 0.016213,
     "end_time": "2022-08-13T12:11:39.517537",
     "exception": false,
     "start_time": "2022-08-13T12:11:39.501324",
     "status": "completed"
    },
    "tags": []
   },
   "source": [
    "# *DATA VISUALISATION*"
   ]
  },
  {
   "cell_type": "code",
   "execution_count": 10,
   "id": "5ee7b70e",
   "metadata": {
    "execution": {
     "iopub.execute_input": "2022-08-13T12:11:39.556854Z",
     "iopub.status.busy": "2022-08-13T12:11:39.556310Z",
     "iopub.status.idle": "2022-08-13T12:11:40.636641Z",
     "shell.execute_reply": "2022-08-13T12:11:40.635782Z"
    },
    "papermill": {
     "duration": 1.103235,
     "end_time": "2022-08-13T12:11:40.639646",
     "exception": false,
     "start_time": "2022-08-13T12:11:39.536411",
     "status": "completed"
    },
    "tags": []
   },
   "outputs": [
    {
     "name": "stderr",
     "output_type": "stream",
     "text": [
      "/opt/conda/lib/python3.7/site-packages/seaborn/distributions.py:2619: FutureWarning: `distplot` is a deprecated function and will be removed in a future version. Please adapt your code to use either `displot` (a figure-level function with similar flexibility) or `histplot` (an axes-level function for histograms).\n",
      "  warnings.warn(msg, FutureWarning)\n",
      "/opt/conda/lib/python3.7/site-packages/seaborn/_decorators.py:43: FutureWarning: Pass the following variable as a keyword arg: x. From version 0.12, the only valid positional argument will be `data`, and passing other arguments without an explicit keyword will result in an error or misinterpretation.\n",
      "  FutureWarning\n"
     ]
    },
    {
     "data": {
      "image/png": "[encoded data removed]",
      "text/plain": [
       "<Figure size 936x720 with 4 Axes>"
      ]
     },
     "metadata": {
      "needs_background": "light"
     },
     "output_type": "display_data"
    }
   ],
   "source": [
    "plt.figure(figsize = (13 ,10))\n",
    "\n",
    "plt.subplot(2,2,1)\n",
    "sns.distplot(df['age'] ,color ='b')\n",
    "plt.title('Age Distribution')\n",
    "\n",
    "plt.subplot(2,2,2)\n",
    "sns.countplot(df['marital'] ,hue =df['deposit'] ,color ='r')\n",
    "plt.title('Marital Status')\n",
    "\n",
    "plt.subplot(2,2,3)\n",
    "plt.pie(df['education'].value_counts() ,labels =['secondary', 'tertiary', 'primary', 'unknown'],colors =['r','pink','b' ,'m'] ,autopct ='%.2f' ,explode =[0 ,0.05,0,0] ,shadow=.5 ,radius =1.1  )\n",
    "plt.legend()\n",
    "plt.title('Education Status'  )\n",
    "\n",
    "plt.subplot(2,2,4)\n",
    "plt.pie(df['default'].value_counts() ,labels =['no' ,'yes'],colors =['m' ,'c'] ,autopct ='%.2f' ,explode =[0 ,0.5] ,shadow=.5 ,radius =1.1  )\n",
    "plt.title('Default')\n",
    "\n",
    "plt.tight_layout()"
   ]
  },
  {
   "cell_type": "code",
   "execution_count": 11,
   "id": "7de17e92",
   "metadata": {
    "execution": {
     "iopub.execute_input": "2022-08-13T12:11:40.679043Z",
     "iopub.status.busy": "2022-08-13T12:11:40.678344Z",
     "iopub.status.idle": "2022-08-13T12:11:40.941959Z",
     "shell.execute_reply": "2022-08-13T12:11:40.940832Z"
    },
    "papermill": {
     "duration": 0.287592,
     "end_time": "2022-08-13T12:11:40.944824",
     "exception": false,
     "start_time": "2022-08-13T12:11:40.657232",
     "status": "completed"
    },
    "tags": []
   },
   "outputs": [
    {
     "name": "stderr",
     "output_type": "stream",
     "text": [
      "/opt/conda/lib/python3.7/site-packages/seaborn/_decorators.py:43: FutureWarning: Pass the following variable as a keyword arg: x. From version 0.12, the only valid positional argument will be `data`, and passing other arguments without an explicit keyword will result in an error or misinterpretation.\n",
      "  FutureWarning\n"
     ]
    },
    {
     "data": {
      "text/plain": [
       "<AxesSubplot:title={'center':'Job Status'}, xlabel='job', ylabel='count'>"
      ]
     },
     "execution_count": 11,
     "metadata": {},
     "output_type": "execute_result"
    },
    {
     "data": {
      "image/png": "[encoded data removed]",
      "text/plain": [
       "<Figure size 1080x360 with 1 Axes>"
      ]
     },
     "metadata": {
      "needs_background": "light"
     },
     "output_type": "display_data"
    }
   ],
   "source": [
    "plt.figure(figsize =(15 ,5))\n",
    "plt.title('Job Status')\n",
    "sns.countplot(df['job'])\n"
   ]
  },
  {
   "cell_type": "code",
   "execution_count": 12,
   "id": "7d1fdbcc",
   "metadata": {
    "execution": {
     "iopub.execute_input": "2022-08-13T12:11:40.982815Z",
     "iopub.status.busy": "2022-08-13T12:11:40.982228Z",
     "iopub.status.idle": "2022-08-13T12:11:41.829022Z",
     "shell.execute_reply": "2022-08-13T12:11:41.827870Z"
    },
    "papermill": {
     "duration": 0.86909,
     "end_time": "2022-08-13T12:11:41.831670",
     "exception": false,
     "start_time": "2022-08-13T12:11:40.962580",
     "status": "completed"
    },
    "tags": []
   },
   "outputs": [
    {
     "data": {
      "text/plain": [
       "<matplotlib.legend.Legend at 0x7f6a33a26fd0>"
      ]
     },
     "execution_count": 12,
     "metadata": {},
     "output_type": "execute_result"
    },
    {
     "data": {
      "image/png": "[encoded data removed]",
      "text/plain": [
       "<Figure size 1008x720 with 4 Axes>"
      ]
     },
     "metadata": {},
     "output_type": "display_data"
    }
   ],
   "source": [
    "plt.figure(figsize = (14 ,10))\n",
    "plt.subplot(2,2,1)\n",
    "plt.pie(df['default'].value_counts() ,colors =['y' ,'c'] ,explode =[0 ,0.7] ,autopct ='%.2f'  \n",
    "        ,shadow = True,pctdistance =0.6 \n",
    ",labels = ['no' ,'yes'] ,labeldistance=1.1,radius =1.1)\n",
    "plt.title('Default')\n",
    "plt.legend()\n",
    "\n",
    "plt.subplot(2,2,2)\n",
    "plt.pie(df['housing'].value_counts() ,colors =['b' ,'pink'] ,explode =[0 ,0.07] ,autopct ='%.2f'  \n",
    "        ,shadow = True,pctdistance =0.6 \n",
    ",labels = ['no' ,'yes'] ,labeldistance=1.1,radius =1.1)\n",
    "plt.title('Housing')\n",
    "plt.legend()\n",
    "\n",
    "plt.subplot(2,2,3)\n",
    "plt.pie(df['loan'].value_counts() ,colors =['m' ,'b'] ,explode =[0 ,0.3] ,autopct ='%.2f'  \n",
    "        ,shadow = True,pctdistance =0.6\n",
    ",labels = ['no' ,'yes'] ,labeldistance=1.1,radius =1.1)\n",
    "plt.title('Loan')\n",
    "plt.legend()\n",
    "\n",
    "plt.subplot(2,2,4)\n",
    "plt.pie(df['deposit'].value_counts() ,colors =['r' ,'c'] ,explode =[0 ,0.07] ,autopct ='%.2f'  \n",
    "        ,shadow = True,pctdistance =0.6\n",
    ",labels = ['no' ,'yes'] ,labeldistance=1.1,radius =1.1)\n",
    "plt.title('Deposit')\n",
    "plt.legend()\n"
   ]
  },
  {
   "cell_type": "code",
   "execution_count": 13,
   "id": "824e86da",
   "metadata": {
    "execution": {
     "iopub.execute_input": "2022-08-13T12:11:41.873281Z",
     "iopub.status.busy": "2022-08-13T12:11:41.872051Z",
     "iopub.status.idle": "2022-08-13T12:11:42.228262Z",
     "shell.execute_reply": "2022-08-13T12:11:42.227181Z"
    },
    "papermill": {
     "duration": 0.379613,
     "end_time": "2022-08-13T12:11:42.230840",
     "exception": false,
     "start_time": "2022-08-13T12:11:41.851227",
     "status": "completed"
    },
    "tags": []
   },
   "outputs": [
    {
     "name": "stderr",
     "output_type": "stream",
     "text": [
      "/opt/conda/lib/python3.7/site-packages/seaborn/_decorators.py:43: FutureWarning: Pass the following variable as a keyword arg: x. From version 0.12, the only valid positional argument will be `data`, and passing other arguments without an explicit keyword will result in an error or misinterpretation.\n",
      "  FutureWarning\n",
      "/opt/conda/lib/python3.7/site-packages/seaborn/_decorators.py:43: FutureWarning: Pass the following variable as a keyword arg: x. From version 0.12, the only valid positional argument will be `data`, and passing other arguments without an explicit keyword will result in an error or misinterpretation.\n",
      "  FutureWarning\n"
     ]
    },
    {
     "data": {
      "text/plain": [
       "Text(0.5, 1.0, 'Education Distribution with Deposit')"
      ]
     },
     "execution_count": 13,
     "metadata": {},
     "output_type": "execute_result"
    },
    {
     "data": {
      "image/png": "[encoded data removed]",
      "text/plain": [
       "<Figure size 1008x360 with 2 Axes>"
      ]
     },
     "metadata": {
      "needs_background": "light"
     },
     "output_type": "display_data"
    }
   ],
   "source": [
    "\n",
    "plt.figure(figsize =(14 ,5))\n",
    "plt.subplot(1 ,2,1)\n",
    "plt.title('Education Distribution')\n",
    "sns.countplot(df['education'])\n",
    "plt.subplot(1 ,2,2)\n",
    "sns.countplot(df['education'] ,hue =df['deposit'] ,color = 'c')\n",
    "plt.title('Education Distribution with Deposit')\n"
   ]
  },
  {
   "cell_type": "code",
   "execution_count": 14,
   "id": "042f9e29",
   "metadata": {
    "execution": {
     "iopub.execute_input": "2022-08-13T12:11:42.272213Z",
     "iopub.status.busy": "2022-08-13T12:11:42.271470Z",
     "iopub.status.idle": "2022-08-13T12:11:42.626451Z",
     "shell.execute_reply": "2022-08-13T12:11:42.625278Z"
    },
    "papermill": {
     "duration": 0.378694,
     "end_time": "2022-08-13T12:11:42.629050",
     "exception": false,
     "start_time": "2022-08-13T12:11:42.250356",
     "status": "completed"
    },
    "tags": []
   },
   "outputs": [
    {
     "name": "stderr",
     "output_type": "stream",
     "text": [
      "/opt/conda/lib/python3.7/site-packages/seaborn/_decorators.py:43: FutureWarning: Pass the following variable as a keyword arg: x. From version 0.12, the only valid positional argument will be `data`, and passing other arguments without an explicit keyword will result in an error or misinterpretation.\n",
      "  FutureWarning\n",
      "/opt/conda/lib/python3.7/site-packages/seaborn/_decorators.py:43: FutureWarning: Pass the following variable as a keyword arg: x. From version 0.12, the only valid positional argument will be `data`, and passing other arguments without an explicit keyword will result in an error or misinterpretation.\n",
      "  FutureWarning\n"
     ]
    },
    {
     "data": {
      "text/plain": [
       "<AxesSubplot:title={'center':'Poutcome Distribution with Deposit'}, xlabel='poutcome', ylabel='count'>"
      ]
     },
     "execution_count": 14,
     "metadata": {},
     "output_type": "execute_result"
    },
    {
     "data": {
      "image/png": "[encoded data removed]",
      "text/plain": [
       "<Figure size 1008x360 with 2 Axes>"
      ]
     },
     "metadata": {
      "needs_background": "light"
     },
     "output_type": "display_data"
    }
   ],
   "source": [
    "plt.figure(figsize =(14 ,5))\n",
    "plt.subplot(1 ,2,1)\n",
    "plt.title('Poutcome Distribution')\n",
    "sns.countplot(df['poutcome'])\n",
    "plt.subplot(1,2,2)\n",
    "plt.title('Poutcome Distribution with Deposit')\n",
    "sns.countplot(df['poutcome'] ,hue =df['deposit'] ,color ='m' )"
   ]
  },
  {
   "cell_type": "code",
   "execution_count": 15,
   "id": "e655a1ac",
   "metadata": {
    "execution": {
     "iopub.execute_input": "2022-08-13T12:11:42.670702Z",
     "iopub.status.busy": "2022-08-13T12:11:42.670309Z",
     "iopub.status.idle": "2022-08-13T12:11:43.501207Z",
     "shell.execute_reply": "2022-08-13T12:11:43.500016Z"
    },
    "papermill": {
     "duration": 0.854879,
     "end_time": "2022-08-13T12:11:43.503842",
     "exception": false,
     "start_time": "2022-08-13T12:11:42.648963",
     "status": "completed"
    },
    "tags": []
   },
   "outputs": [
    {
     "name": "stderr",
     "output_type": "stream",
     "text": [
      "/opt/conda/lib/python3.7/site-packages/seaborn/distributions.py:2619: FutureWarning: `distplot` is a deprecated function and will be removed in a future version. Please adapt your code to use either `displot` (a figure-level function with similar flexibility) or `histplot` (an axes-level function for histograms).\n",
      "  warnings.warn(msg, FutureWarning)\n",
      "/opt/conda/lib/python3.7/site-packages/seaborn/distributions.py:2619: FutureWarning: `distplot` is a deprecated function and will be removed in a future version. Please adapt your code to use either `displot` (a figure-level function with similar flexibility) or `histplot` (an axes-level function for histograms).\n",
      "  warnings.warn(msg, FutureWarning)\n"
     ]
    },
    {
     "data": {
      "text/plain": [
       "<AxesSubplot:xlabel='duration', ylabel='Density'>"
      ]
     },
     "execution_count": 15,
     "metadata": {},
     "output_type": "execute_result"
    },
    {
     "data": {
      "image/png": "[encoded data removed]",
      "text/plain": [
       "<Figure size 1008x360 with 2 Axes>"
      ]
     },
     "metadata": {
      "needs_background": "light"
     },
     "output_type": "display_data"
    }
   ],
   "source": [
    "plt.figure(figsize = (14 ,5))\n",
    "plt.subplot(1,2,1)\n",
    "sns.distplot(df['balance'],color ='m')\n",
    "plt.subplot(1,2,2)\n",
    "sns.distplot(df['duration'] ,color ='r')"
   ]
  },
  {
   "cell_type": "code",
   "execution_count": 16,
   "id": "e08dabb7",
   "metadata": {
    "execution": {
     "iopub.execute_input": "2022-08-13T12:11:43.547116Z",
     "iopub.status.busy": "2022-08-13T12:11:43.546369Z",
     "iopub.status.idle": "2022-08-13T12:11:44.090438Z",
     "shell.execute_reply": "2022-08-13T12:11:44.089583Z"
    },
    "papermill": {
     "duration": 0.568168,
     "end_time": "2022-08-13T12:11:44.092680",
     "exception": false,
     "start_time": "2022-08-13T12:11:43.524512",
     "status": "completed"
    },
    "tags": []
   },
   "outputs": [
    {
     "name": "stderr",
     "output_type": "stream",
     "text": [
      "/opt/conda/lib/python3.7/site-packages/seaborn/_decorators.py:43: FutureWarning: Pass the following variable as a keyword arg: x. From version 0.12, the only valid positional argument will be `data`, and passing other arguments without an explicit keyword will result in an error or misinterpretation.\n",
      "  FutureWarning\n"
     ]
    },
    {
     "data": {
      "text/plain": [
       "Text(0.5, 1.0, 'Campaign Distribution with Deposit')"
      ]
     },
     "execution_count": 16,
     "metadata": {},
     "output_type": "execute_result"
    },
    {
     "data": {
      "image/png": "[encoded data removed]",
      "text/plain": [
       "<Figure size 1080x432 with 1 Axes>"
      ]
     },
     "metadata": {
      "needs_background": "light"
     },
     "output_type": "display_data"
    }
   ],
   "source": [
    "\n",
    "plt.figure(figsize =(15 , 6))\n",
    "sns.countplot(df['campaign'], hue=df['deposit'] ,color ='b')\n",
    "plt.legend()\n",
    "plt.title('Campaign Distribution with Deposit')"
   ]
  },
  {
   "cell_type": "code",
   "execution_count": 17,
   "id": "144c2508",
   "metadata": {
    "execution": {
     "iopub.execute_input": "2022-08-13T12:11:44.137572Z",
     "iopub.status.busy": "2022-08-13T12:11:44.136606Z",
     "iopub.status.idle": "2022-08-13T12:11:44.604008Z",
     "shell.execute_reply": "2022-08-13T12:11:44.602751Z"
    },
    "papermill": {
     "duration": 0.492914,
     "end_time": "2022-08-13T12:11:44.606465",
     "exception": false,
     "start_time": "2022-08-13T12:11:44.113551",
     "status": "completed"
    },
    "tags": []
   },
   "outputs": [
    {
     "name": "stderr",
     "output_type": "stream",
     "text": [
      "/opt/conda/lib/python3.7/site-packages/seaborn/_decorators.py:43: FutureWarning: Pass the following variable as a keyword arg: x. From version 0.12, the only valid positional argument will be `data`, and passing other arguments without an explicit keyword will result in an error or misinterpretation.\n",
      "  FutureWarning\n",
      "/opt/conda/lib/python3.7/site-packages/seaborn/_decorators.py:43: FutureWarning: Pass the following variable as a keyword arg: x. From version 0.12, the only valid positional argument will be `data`, and passing other arguments without an explicit keyword will result in an error or misinterpretation.\n",
      "  FutureWarning\n"
     ]
    },
    {
     "data": {
      "text/plain": [
       "Text(0.5, 1.0, 'Month Distribution with Deposit')"
      ]
     },
     "execution_count": 17,
     "metadata": {},
     "output_type": "execute_result"
    },
    {
     "data": {
      "image/png": "[encoded data removed]",
      "text/plain": [
       "<Figure size 1008x360 with 2 Axes>"
      ]
     },
     "metadata": {
      "needs_background": "light"
     },
     "output_type": "display_data"
    }
   ],
   "source": [
    "plt.figure(figsize =(14 ,5))\n",
    "plt.subplot(1 ,2,1)\n",
    "sns.countplot(df['month'])\n",
    "plt.title('Month Distribution')\n",
    "plt.subplot(1 ,2,2)\n",
    "sns.countplot(df['month'] ,hue =df['deposit'] ,color ='pink')\n",
    "plt.title('Month Distribution with Deposit')"
   ]
  },
  {
   "cell_type": "code",
   "execution_count": 18,
   "id": "8f3da3d7",
   "metadata": {
    "execution": {
     "iopub.execute_input": "2022-08-13T12:11:44.651952Z",
     "iopub.status.busy": "2022-08-13T12:11:44.651234Z",
     "iopub.status.idle": "2022-08-13T12:11:45.526957Z",
     "shell.execute_reply": "2022-08-13T12:11:45.525837Z"
    },
    "papermill": {
     "duration": 0.901396,
     "end_time": "2022-08-13T12:11:45.529423",
     "exception": false,
     "start_time": "2022-08-13T12:11:44.628027",
     "status": "completed"
    },
    "tags": []
   },
   "outputs": [
    {
     "data": {
      "text/plain": [
       "<AxesSubplot:xlabel='job', ylabel='age'>"
      ]
     },
     "execution_count": 18,
     "metadata": {},
     "output_type": "execute_result"
    },
    {
     "data": {
      "image/png": "[encoded data removed]",
      "text/plain": [
       "<Figure size 1008x720 with 2 Axes>"
      ]
     },
     "metadata": {
      "needs_background": "light"
     },
     "output_type": "display_data"
    }
   ],
   "source": [
    "plt.figure(figsize =(14,10))\n",
    "plt.subplot(2,1,1)\n",
    "sns.boxplot(x= df['job'] ,y=df['age'])\n",
    "plt.title('Age v/s job')\n",
    "plt.subplot(2,1,2)\n",
    "sns.boxplot(x= df['job'] ,y=df['age'] ,hue =df['deposit'] ,color ='r')"
   ]
  },
  {
   "cell_type": "markdown",
   "id": "b1c81536",
   "metadata": {
    "papermill": {
     "duration": 0.022547,
     "end_time": "2022-08-13T12:11:45.574463",
     "exception": false,
     "start_time": "2022-08-13T12:11:45.551916",
     "status": "completed"
    },
    "tags": []
   },
   "source": [
    "**CORRELATION MATRIX**"
   ]
  },
  {
   "cell_type": "code",
   "execution_count": 19,
   "id": "4195a641",
   "metadata": {
    "execution": {
     "iopub.execute_input": "2022-08-13T12:11:45.621217Z",
     "iopub.status.busy": "2022-08-13T12:11:45.620449Z",
     "iopub.status.idle": "2022-08-13T12:11:46.120541Z",
     "shell.execute_reply": "2022-08-13T12:11:46.119388Z"
    },
    "papermill": {
     "duration": 0.52621,
     "end_time": "2022-08-13T12:11:46.122966",
     "exception": false,
     "start_time": "2022-08-13T12:11:45.596756",
     "status": "completed"
    },
    "tags": []
   },
   "outputs": [
    {
     "data": {
      "text/plain": [
       "<AxesSubplot:>"
      ]
     },
     "execution_count": 19,
     "metadata": {},
     "output_type": "execute_result"
    },
    {
     "data": {
      "image/png": "[encoded data removed]",
      "text/plain": [
       "<Figure size 864x864 with 2 Axes>"
      ]
     },
     "metadata": {
      "needs_background": "light"
     },
     "output_type": "display_data"
    }
   ],
   "source": [
    "#corelation matrix\n",
    "plt.figure(figsize = (12,12))\n",
    "correlation = df.corr()\n",
    "sns.heatmap(correlation ,annot =True ,cmap ='CMRmap' )"
   ]
  },
  {
   "cell_type": "markdown",
   "id": "a3a72058",
   "metadata": {
    "papermill": {
     "duration": 0.022595,
     "end_time": "2022-08-13T12:11:46.168523",
     "exception": false,
     "start_time": "2022-08-13T12:11:46.145928",
     "status": "completed"
    },
    "tags": []
   },
   "source": [
    "***OUTCOME OF EDA AND  DATA VISUALISATION***"
   ]
  },
  {
   "cell_type": "markdown",
   "id": "69430be9",
   "metadata": {
    "papermill": {
     "duration": 0.022911,
     "end_time": "2022-08-13T12:11:46.214368",
     "exception": false,
     "start_time": "2022-08-13T12:11:46.191457",
     "status": "completed"
    },
    "tags": []
   },
   "source": [
    "**After EDA we found**\n",
    "* ***No missing values***\n",
    "* ***default feature donot play any significant imp role***\n",
    "* ****We found some Outliers in the features (age , balance ,duration , pdays and  previous)****"
   ]
  },
  {
   "cell_type": "markdown",
   "id": "aaebd556",
   "metadata": {
    "papermill": {
     "duration": 0.022609,
     "end_time": "2022-08-13T12:11:46.259897",
     "exception": false,
     "start_time": "2022-08-13T12:11:46.237288",
     "status": "completed"
    },
    "tags": []
   },
   "source": [
    "# ***FEATURE ENGINEERING***"
   ]
  },
  {
   "cell_type": "code",
   "execution_count": 20,
   "id": "7e69a288",
   "metadata": {
    "execution": {
     "iopub.execute_input": "2022-08-13T12:11:46.307907Z",
     "iopub.status.busy": "2022-08-13T12:11:46.307060Z",
     "iopub.status.idle": "2022-08-13T12:11:46.326815Z",
     "shell.execute_reply": "2022-08-13T12:11:46.325705Z"
    },
    "papermill": {
     "duration": 0.046385,
     "end_time": "2022-08-13T12:11:46.329084",
     "exception": false,
     "start_time": "2022-08-13T12:11:46.282699",
     "status": "completed"
    },
    "tags": []
   },
   "outputs": [
    {
     "data": {
      "text/html": [
       "<div>\n",
       "<style scoped>\n",
       "    .dataframe tbody tr th:only-of-type {\n",
       "        vertical-align: middle;\n",
       "    }\n",
       "\n",
       "    .dataframe tbody tr th {\n",
       "        vertical-align: top;\n",
       "    }\n",
       "\n",
       "    .dataframe thead th {\n",
       "        text-align: right;\n",
       "    }\n",
       "</style>\n",
       "<table border=\"1\" class=\"dataframe\">\n",
       "  <thead>\n",
       "    <tr style=\"text-align: right;\">\n",
       "      <th></th>\n",
       "      <th>age</th>\n",
       "      <th>job</th>\n",
       "      <th>marital</th>\n",
       "      <th>education</th>\n",
       "      <th>default</th>\n",
       "      <th>balance</th>\n",
       "      <th>housing</th>\n",
       "      <th>loan</th>\n",
       "      <th>contact</th>\n",
       "      <th>day</th>\n",
       "      <th>month</th>\n",
       "      <th>duration</th>\n",
       "      <th>campaign</th>\n",
       "      <th>pdays</th>\n",
       "      <th>previous</th>\n",
       "      <th>poutcome</th>\n",
       "      <th>deposit</th>\n",
       "    </tr>\n",
       "  </thead>\n",
       "  <tbody>\n",
       "    <tr>\n",
       "      <th>0</th>\n",
       "      <td>59</td>\n",
       "      <td>admin.</td>\n",
       "      <td>married</td>\n",
       "      <td>secondary</td>\n",
       "      <td>no</td>\n",
       "      <td>2343</td>\n",
       "      <td>yes</td>\n",
       "      <td>no</td>\n",
       "      <td>unknown</td>\n",
       "      <td>5</td>\n",
       "      <td>may</td>\n",
       "      <td>1042</td>\n",
       "      <td>1</td>\n",
       "      <td>-1</td>\n",
       "      <td>0</td>\n",
       "      <td>unknown</td>\n",
       "      <td>yes</td>\n",
       "    </tr>\n",
       "    <tr>\n",
       "      <th>1</th>\n",
       "      <td>56</td>\n",
       "      <td>admin.</td>\n",
       "      <td>married</td>\n",
       "      <td>secondary</td>\n",
       "      <td>no</td>\n",
       "      <td>45</td>\n",
       "      <td>no</td>\n",
       "      <td>no</td>\n",
       "      <td>unknown</td>\n",
       "      <td>5</td>\n",
       "      <td>may</td>\n",
       "      <td>1467</td>\n",
       "      <td>1</td>\n",
       "      <td>-1</td>\n",
       "      <td>0</td>\n",
       "      <td>unknown</td>\n",
       "      <td>yes</td>\n",
       "    </tr>\n",
       "    <tr>\n",
       "      <th>2</th>\n",
       "      <td>41</td>\n",
       "      <td>technician</td>\n",
       "      <td>married</td>\n",
       "      <td>secondary</td>\n",
       "      <td>no</td>\n",
       "      <td>1270</td>\n",
       "      <td>yes</td>\n",
       "      <td>no</td>\n",
       "      <td>unknown</td>\n",
       "      <td>5</td>\n",
       "      <td>may</td>\n",
       "      <td>1389</td>\n",
       "      <td>1</td>\n",
       "      <td>-1</td>\n",
       "      <td>0</td>\n",
       "      <td>unknown</td>\n",
       "      <td>yes</td>\n",
       "    </tr>\n",
       "    <tr>\n",
       "      <th>3</th>\n",
       "      <td>55</td>\n",
       "      <td>services</td>\n",
       "      <td>married</td>\n",
       "      <td>secondary</td>\n",
       "      <td>no</td>\n",
       "      <td>2476</td>\n",
       "      <td>yes</td>\n",
       "      <td>no</td>\n",
       "      <td>unknown</td>\n",
       "      <td>5</td>\n",
       "      <td>may</td>\n",
       "      <td>579</td>\n",
       "      <td>1</td>\n",
       "      <td>-1</td>\n",
       "      <td>0</td>\n",
       "      <td>unknown</td>\n",
       "      <td>yes</td>\n",
       "    </tr>\n",
       "    <tr>\n",
       "      <th>4</th>\n",
       "      <td>54</td>\n",
       "      <td>admin.</td>\n",
       "      <td>married</td>\n",
       "      <td>tertiary</td>\n",
       "      <td>no</td>\n",
       "      <td>184</td>\n",
       "      <td>no</td>\n",
       "      <td>no</td>\n",
       "      <td>unknown</td>\n",
       "      <td>5</td>\n",
       "      <td>may</td>\n",
       "      <td>673</td>\n",
       "      <td>2</td>\n",
       "      <td>-1</td>\n",
       "      <td>0</td>\n",
       "      <td>unknown</td>\n",
       "      <td>yes</td>\n",
       "    </tr>\n",
       "  </tbody>\n",
       "</table>\n",
       "</div>"
      ],
      "text/plain": [
       "   age         job  marital  education default  balance housing loan  contact  \\\n",
       "0   59      admin.  married  secondary      no     2343     yes   no  unknown   \n",
       "1   56      admin.  married  secondary      no       45      no   no  unknown   \n",
       "2   41  technician  married  secondary      no     1270     yes   no  unknown   \n",
       "3   55    services  married  secondary      no     2476     yes   no  unknown   \n",
       "4   54      admin.  married   tertiary      no      184      no   no  unknown   \n",
       "\n",
       "   day month  duration  campaign  pdays  previous poutcome deposit  \n",
       "0    5   may      1042         1     -1         0  unknown     yes  \n",
       "1    5   may      1467         1     -1         0  unknown     yes  \n",
       "2    5   may      1389         1     -1         0  unknown     yes  \n",
       "3    5   may       579         1     -1         0  unknown     yes  \n",
       "4    5   may       673         2     -1         0  unknown     yes  "
      ]
     },
     "execution_count": 20,
     "metadata": {},
     "output_type": "execute_result"
    }
   ],
   "source": [
    "df2 = df.copy()\n",
    "df2.head()"
   ]
  },
  {
   "cell_type": "markdown",
   "id": "b69d68d8",
   "metadata": {
    "papermill": {
     "duration": 0.022989,
     "end_time": "2022-08-13T12:11:46.375266",
     "exception": false,
     "start_time": "2022-08-13T12:11:46.352277",
     "status": "completed"
    },
    "tags": []
   },
   "source": [
    "***REMOVING OUTLIERS***"
   ]
  },
  {
   "cell_type": "code",
   "execution_count": 21,
   "id": "a58bbe5c",
   "metadata": {
    "execution": {
     "iopub.execute_input": "2022-08-13T12:11:46.423819Z",
     "iopub.status.busy": "2022-08-13T12:11:46.423140Z",
     "iopub.status.idle": "2022-08-13T12:11:46.436638Z",
     "shell.execute_reply": "2022-08-13T12:11:46.435496Z"
    },
    "papermill": {
     "duration": 0.040444,
     "end_time": "2022-08-13T12:11:46.438981",
     "exception": false,
     "start_time": "2022-08-13T12:11:46.398537",
     "status": "completed"
    },
    "tags": []
   },
   "outputs": [
    {
     "data": {
      "text/plain": [
       "deposit  default\n",
       "no       no         5757\n",
       "         yes         116\n",
       "yes      no         5237\n",
       "         yes          52\n",
       "dtype: int64"
      ]
     },
     "execution_count": 21,
     "metadata": {},
     "output_type": "execute_result"
    }
   ],
   "source": [
    "df2.groupby(['deposit' ,'default']).size()\n",
    "#so dropping default as no imp role\n",
    "#most of its values are no "
   ]
  },
  {
   "cell_type": "code",
   "execution_count": 22,
   "id": "fae10140",
   "metadata": {
    "execution": {
     "iopub.execute_input": "2022-08-13T12:11:46.488201Z",
     "iopub.status.busy": "2022-08-13T12:11:46.487722Z",
     "iopub.status.idle": "2022-08-13T12:11:46.502804Z",
     "shell.execute_reply": "2022-08-13T12:11:46.501706Z"
    },
    "papermill": {
     "duration": 0.042986,
     "end_time": "2022-08-13T12:11:46.505743",
     "exception": false,
     "start_time": "2022-08-13T12:11:46.462757",
     "status": "completed"
    },
    "tags": []
   },
   "outputs": [
    {
     "data": {
      "text/plain": [
       "deposit  pdays\n",
       "no       -1       4940\n",
       "          1          2\n",
       "          2          6\n",
       "          5          2\n",
       "          6          2\n",
       "                  ... \n",
       "yes       804        1\n",
       "          805        1\n",
       "          828        1\n",
       "          842        1\n",
       "          854        1\n",
       "Length: 732, dtype: int64"
      ]
     },
     "execution_count": 22,
     "metadata": {},
     "output_type": "execute_result"
    }
   ],
   "source": [
    "df2.groupby(['deposit' ,'pdays']).size()\n",
    "#similarly pdays also has no significance \n",
    "#most of its values are -1"
   ]
  },
  {
   "cell_type": "code",
   "execution_count": 23,
   "id": "f64721e3",
   "metadata": {
    "execution": {
     "iopub.execute_input": "2022-08-13T12:11:46.555812Z",
     "iopub.status.busy": "2022-08-13T12:11:46.555441Z",
     "iopub.status.idle": "2022-08-13T12:11:46.562974Z",
     "shell.execute_reply": "2022-08-13T12:11:46.561835Z"
    },
    "papermill": {
     "duration": 0.034972,
     "end_time": "2022-08-13T12:11:46.565055",
     "exception": false,
     "start_time": "2022-08-13T12:11:46.530083",
     "status": "completed"
    },
    "tags": []
   },
   "outputs": [],
   "source": [
    "df2.drop(columns =['default' ,'pdays'] ,axis =1 ,inplace = True)"
   ]
  },
  {
   "cell_type": "code",
   "execution_count": 24,
   "id": "d65dc952",
   "metadata": {
    "execution": {
     "iopub.execute_input": "2022-08-13T12:11:46.614620Z",
     "iopub.status.busy": "2022-08-13T12:11:46.614240Z",
     "iopub.status.idle": "2022-08-13T12:11:46.621340Z",
     "shell.execute_reply": "2022-08-13T12:11:46.620217Z"
    },
    "papermill": {
     "duration": 0.034604,
     "end_time": "2022-08-13T12:11:46.623652",
     "exception": false,
     "start_time": "2022-08-13T12:11:46.589048",
     "status": "completed"
    },
    "tags": []
   },
   "outputs": [
    {
     "data": {
      "text/plain": [
       "Index(['age', 'job', 'marital', 'education', 'balance', 'housing', 'loan',\n",
       "       'contact', 'day', 'month', 'duration', 'campaign', 'previous',\n",
       "       'poutcome', 'deposit'],\n",
       "      dtype='object')"
      ]
     },
     "execution_count": 24,
     "metadata": {},
     "output_type": "execute_result"
    }
   ],
   "source": [
    "df2.columns"
   ]
  },
  {
   "cell_type": "code",
   "execution_count": 25,
   "id": "b7512119",
   "metadata": {
    "execution": {
     "iopub.execute_input": "2022-08-13T12:11:46.672517Z",
     "iopub.status.busy": "2022-08-13T12:11:46.672102Z",
     "iopub.status.idle": "2022-08-13T12:11:46.681406Z",
     "shell.execute_reply": "2022-08-13T12:11:46.680280Z"
    },
    "papermill": {
     "duration": 0.036463,
     "end_time": "2022-08-13T12:11:46.683693",
     "exception": false,
     "start_time": "2022-08-13T12:11:46.647230",
     "status": "completed"
    },
    "tags": []
   },
   "outputs": [
    {
     "data": {
      "text/plain": [
       "age\n",
       "18     8\n",
       "19    13\n",
       "20    20\n",
       "21    30\n",
       "22    48\n",
       "      ..\n",
       "89     1\n",
       "90     2\n",
       "92     2\n",
       "93     2\n",
       "95     1\n",
       "Name: age, Length: 76, dtype: int64"
      ]
     },
     "execution_count": 25,
     "metadata": {},
     "output_type": "execute_result"
    }
   ],
   "source": [
    "#handling outliers \n",
    "df2.groupby('age' ,sort= True)['age'].count()\n",
    "#these can be ignored and values lies b/w 18 - 95"
   ]
  },
  {
   "cell_type": "code",
   "execution_count": 26,
   "id": "40b63b0b",
   "metadata": {
    "execution": {
     "iopub.execute_input": "2022-08-13T12:11:46.732932Z",
     "iopub.status.busy": "2022-08-13T12:11:46.732561Z",
     "iopub.status.idle": "2022-08-13T12:11:46.748394Z",
     "shell.execute_reply": "2022-08-13T12:11:46.747306Z"
    },
    "papermill": {
     "duration": 0.04324,
     "end_time": "2022-08-13T12:11:46.750690",
     "exception": false,
     "start_time": "2022-08-13T12:11:46.707450",
     "status": "completed"
    },
    "tags": []
   },
   "outputs": [
    {
     "data": {
      "text/plain": [
       "deposit  balance\n",
       "no       -6847      1\n",
       "         -2712      1\n",
       "         -2282      1\n",
       "         -2049      1\n",
       "         -1965      1\n",
       "                   ..\n",
       "yes       34646     1\n",
       "          36252     1\n",
       "          45248     1\n",
       "          52587     2\n",
       "          81204     2\n",
       "Name: balance, Length: 5082, dtype: int64"
      ]
     },
     "execution_count": 26,
     "metadata": {},
     "output_type": "execute_result"
    }
   ],
   "source": [
    "df2.groupby(['deposit' ,'balance'],sort = True)['balance'].count()\n",
    "#need not to be remoevd as blaance gets higher ,client show interest on deposit"
   ]
  },
  {
   "cell_type": "code",
   "execution_count": 27,
   "id": "d04bf522",
   "metadata": {
    "execution": {
     "iopub.execute_input": "2022-08-13T12:11:46.800179Z",
     "iopub.status.busy": "2022-08-13T12:11:46.799363Z",
     "iopub.status.idle": "2022-08-13T12:11:46.814112Z",
     "shell.execute_reply": "2022-08-13T12:11:46.812748Z"
    },
    "papermill": {
     "duration": 0.042192,
     "end_time": "2022-08-13T12:11:46.816613",
     "exception": false,
     "start_time": "2022-08-13T12:11:46.774421",
     "status": "completed"
    },
    "tags": []
   },
   "outputs": [
    {
     "data": {
      "text/plain": [
       "deposit  duration\n",
       "no       2           1\n",
       "         3           1\n",
       "         4           2\n",
       "         5           4\n",
       "         6           6\n",
       "                    ..\n",
       "yes      3094        1\n",
       "         3102        1\n",
       "         3183        1\n",
       "         3253        1\n",
       "         3881        1\n",
       "Name: duration, Length: 2157, dtype: int64"
      ]
     },
     "execution_count": 27,
     "metadata": {},
     "output_type": "execute_result"
    }
   ],
   "source": [
    "df2.groupby(['deposit' ,'duration'],sort = True)['duration'].count()\n",
    "#should not be removed as with increase in duration the client shows more interest in deposit"
   ]
  },
  {
   "cell_type": "code",
   "execution_count": 28,
   "id": "1d1eb313",
   "metadata": {
    "execution": {
     "iopub.execute_input": "2022-08-13T12:11:46.866469Z",
     "iopub.status.busy": "2022-08-13T12:11:46.865694Z",
     "iopub.status.idle": "2022-08-13T12:11:46.878375Z",
     "shell.execute_reply": "2022-08-13T12:11:46.877450Z"
    },
    "papermill": {
     "duration": 0.040278,
     "end_time": "2022-08-13T12:11:46.880664",
     "exception": false,
     "start_time": "2022-08-13T12:11:46.840386",
     "status": "completed"
    },
    "tags": []
   },
   "outputs": [
    {
     "data": {
      "text/plain": [
       "deposit  campaign\n",
       "no       1           2237\n",
       "         2           1627\n",
       "         3            703\n",
       "         4            454\n",
       "         5            239\n",
       "         6            173\n",
       "         7             92\n",
       "         8             96\n",
       "         9             51\n",
       "         10            38\n",
       "         11            24\n",
       "         12            25\n",
       "         13            24\n",
       "         14            11\n",
       "         15             9\n",
       "         16             7\n",
       "         17             8\n",
       "         18             8\n",
       "         19             5\n",
       "         20             4\n",
       "         21             7\n",
       "         22             4\n",
       "         23             3\n",
       "         24             4\n",
       "         25             3\n",
       "         26             3\n",
       "         27             1\n",
       "         28             1\n",
       "         29             1\n",
       "         30             4\n",
       "         31             1\n",
       "         32             1\n",
       "         33             1\n",
       "         41             1\n",
       "         43             2\n",
       "         63             1\n",
       "yes      1           2561\n",
       "         2           1401\n",
       "         3            618\n",
       "         4            317\n",
       "         5            139\n",
       "         6             92\n",
       "         7             47\n",
       "         8             32\n",
       "         9             21\n",
       "         10            14\n",
       "         11            16\n",
       "         12             4\n",
       "         13             6\n",
       "         14             4\n",
       "         15             4\n",
       "         16             2\n",
       "         17             6\n",
       "         20             1\n",
       "         21             1\n",
       "         24             1\n",
       "         29             1\n",
       "         32             1\n",
       "Name: campaign, dtype: int64"
      ]
     },
     "execution_count": 28,
     "metadata": {},
     "output_type": "execute_result"
    }
   ],
   "source": [
    "df2.groupby(['deposit' ,'campaign'],sort = True)['campaign'].count()"
   ]
  },
  {
   "cell_type": "code",
   "execution_count": 29,
   "id": "b28c48c8",
   "metadata": {
    "execution": {
     "iopub.execute_input": "2022-08-13T12:11:46.930742Z",
     "iopub.status.busy": "2022-08-13T12:11:46.929948Z",
     "iopub.status.idle": "2022-08-13T12:11:46.945948Z",
     "shell.execute_reply": "2022-08-13T12:11:46.944900Z"
    },
    "papermill": {
     "duration": 0.043824,
     "end_time": "2022-08-13T12:11:46.948295",
     "exception": false,
     "start_time": "2022-08-13T12:11:46.904471",
     "status": "completed"
    },
    "tags": []
   },
   "outputs": [
    {
     "data": {
      "text/plain": [
       "deposit  campaign\n",
       "no       1           2237\n",
       "         2           1627\n",
       "         3            703\n",
       "         4            454\n",
       "         5            239\n",
       "         6            173\n",
       "         7             92\n",
       "         8             96\n",
       "         9             51\n",
       "         10            38\n",
       "         11            24\n",
       "         12            25\n",
       "         13            24\n",
       "         14            11\n",
       "         15             9\n",
       "         16             7\n",
       "         17             8\n",
       "         18             8\n",
       "         19             5\n",
       "         20             4\n",
       "         21             7\n",
       "         22             4\n",
       "         23             3\n",
       "         24             4\n",
       "         25             3\n",
       "         26             3\n",
       "         27             1\n",
       "         28             1\n",
       "         29             1\n",
       "         30             4\n",
       "         31             1\n",
       "yes      1           2561\n",
       "         2           1401\n",
       "         3            618\n",
       "         4            317\n",
       "         5            139\n",
       "         6             92\n",
       "         7             47\n",
       "         8             32\n",
       "         9             21\n",
       "         10            14\n",
       "         11            16\n",
       "         12             4\n",
       "         13             6\n",
       "         14             4\n",
       "         15             4\n",
       "         16             2\n",
       "         17             6\n",
       "         20             1\n",
       "         21             1\n",
       "         24             1\n",
       "         29             1\n",
       "Name: campaign, dtype: int64"
      ]
     },
     "execution_count": 29,
     "metadata": {},
     "output_type": "execute_result"
    }
   ],
   "source": [
    "#removing outliers\n",
    "df3 = df2[df2['campaign'] <32]\n",
    "df3.groupby(['deposit' ,'campaign'] ,sort = True)['campaign'].count()"
   ]
  },
  {
   "cell_type": "code",
   "execution_count": 30,
   "id": "31e65ac7",
   "metadata": {
    "execution": {
     "iopub.execute_input": "2022-08-13T12:11:46.998394Z",
     "iopub.status.busy": "2022-08-13T12:11:46.997972Z",
     "iopub.status.idle": "2022-08-13T12:11:47.010646Z",
     "shell.execute_reply": "2022-08-13T12:11:47.009494Z"
    },
    "papermill": {
     "duration": 0.040603,
     "end_time": "2022-08-13T12:11:47.012928",
     "exception": false,
     "start_time": "2022-08-13T12:11:46.972325",
     "status": "completed"
    },
    "tags": []
   },
   "outputs": [
    {
     "data": {
      "text/plain": [
       "deposit  previous\n",
       "no       0           4934\n",
       "         1            304\n",
       "         2            237\n",
       "         3            141\n",
       "         4             73\n",
       "         5             44\n",
       "         6             34\n",
       "         7             23\n",
       "         8             21\n",
       "         9             10\n",
       "         10             4\n",
       "         11             8\n",
       "         12             6\n",
       "         13             2\n",
       "         14             1\n",
       "         15             4\n",
       "         16             2\n",
       "         17             8\n",
       "         18             1\n",
       "         19             2\n",
       "         20             1\n",
       "         23             1\n",
       "         27             2\n",
       "         28             1\n",
       "         37             1\n",
       "         40             1\n",
       "         41             1\n",
       "yes      0           3383\n",
       "         1            583\n",
       "         2            456\n",
       "         3            294\n",
       "         4            171\n",
       "         5            121\n",
       "         6             83\n",
       "         7             54\n",
       "         8             39\n",
       "         9             24\n",
       "         10            26\n",
       "         11            15\n",
       "         12            10\n",
       "         13             9\n",
       "         14             5\n",
       "         15             1\n",
       "         17             3\n",
       "         19             2\n",
       "         20             1\n",
       "         21             1\n",
       "         22             1\n",
       "         23             1\n",
       "         26             1\n",
       "         29             1\n",
       "         30             1\n",
       "         55             1\n",
       "         58             1\n",
       "Name: previous, dtype: int64"
      ]
     },
     "execution_count": 30,
     "metadata": {},
     "output_type": "execute_result"
    }
   ],
   "source": [
    "df3.groupby(['deposit' ,'previous'] ,sort= True)['previous'].count()"
   ]
  },
  {
   "cell_type": "code",
   "execution_count": 31,
   "id": "a6fc283a",
   "metadata": {
    "execution": {
     "iopub.execute_input": "2022-08-13T12:11:47.064489Z",
     "iopub.status.busy": "2022-08-13T12:11:47.063700Z",
     "iopub.status.idle": "2022-08-13T12:11:47.071492Z",
     "shell.execute_reply": "2022-08-13T12:11:47.070564Z"
    },
    "papermill": {
     "duration": 0.036789,
     "end_time": "2022-08-13T12:11:47.073906",
     "exception": false,
     "start_time": "2022-08-13T12:11:47.037117",
     "status": "completed"
    },
    "tags": []
   },
   "outputs": [],
   "source": [
    "#removing outliers \n",
    "df4 = df3[df3['previous'] <31]\n"
   ]
  },
  {
   "cell_type": "markdown",
   "id": "4aa07d94",
   "metadata": {
    "papermill": {
     "duration": 0.024289,
     "end_time": "2022-08-13T12:11:47.122661",
     "exception": false,
     "start_time": "2022-08-13T12:11:47.098372",
     "status": "completed"
    },
    "tags": []
   },
   "source": [
    "***CATEGORICAL FEATURE ENCODING***"
   ]
  },
  {
   "cell_type": "code",
   "execution_count": 32,
   "id": "5591b69e",
   "metadata": {
    "execution": {
     "iopub.execute_input": "2022-08-13T12:11:47.173284Z",
     "iopub.status.busy": "2022-08-13T12:11:47.172487Z",
     "iopub.status.idle": "2022-08-13T12:11:47.183822Z",
     "shell.execute_reply": "2022-08-13T12:11:47.182700Z"
    },
    "papermill": {
     "duration": 0.039538,
     "end_time": "2022-08-13T12:11:47.186238",
     "exception": false,
     "start_time": "2022-08-13T12:11:47.146700",
     "status": "completed"
    },
    "tags": []
   },
   "outputs": [
    {
     "data": {
      "text/plain": [
       "Index(['job', 'marital', 'education', 'housing', 'loan', 'contact', 'month',\n",
       "       'poutcome', 'deposit'],\n",
       "      dtype='object')"
      ]
     },
     "execution_count": 32,
     "metadata": {},
     "output_type": "execute_result"
    }
   ],
   "source": [
    "df4.select_dtypes('object').columns"
   ]
  },
  {
   "cell_type": "code",
   "execution_count": 33,
   "id": "eb9dfbad",
   "metadata": {
    "execution": {
     "iopub.execute_input": "2022-08-13T12:11:47.238094Z",
     "iopub.status.busy": "2022-08-13T12:11:47.237331Z",
     "iopub.status.idle": "2022-08-13T12:11:47.288289Z",
     "shell.execute_reply": "2022-08-13T12:11:47.287303Z"
    },
    "papermill": {
     "duration": 0.079606,
     "end_time": "2022-08-13T12:11:47.291100",
     "exception": false,
     "start_time": "2022-08-13T12:11:47.211494",
     "status": "completed"
    },
    "tags": []
   },
   "outputs": [],
   "source": [
    "cat_cols = ['job', 'marital', 'education' ,'contact', 'month','poutcome']\n",
    "for  col in cat_cols:\n",
    "    df4 =pd.concat([df4.drop(col,axis =1) ,pd.get_dummies(df4[col] ,prefix =col ,drop_first=True ,dummy_na = False)],axis = 1)\n"
   ]
  },
  {
   "cell_type": "code",
   "execution_count": 34,
   "id": "78105a9c",
   "metadata": {
    "execution": {
     "iopub.execute_input": "2022-08-13T12:11:47.360653Z",
     "iopub.status.busy": "2022-08-13T12:11:47.359851Z",
     "iopub.status.idle": "2022-08-13T12:11:47.388481Z",
     "shell.execute_reply": "2022-08-13T12:11:47.387326Z"
    },
    "papermill": {
     "duration": 0.075914,
     "end_time": "2022-08-13T12:11:47.391757",
     "exception": false,
     "start_time": "2022-08-13T12:11:47.315843",
     "status": "completed"
    },
    "tags": []
   },
   "outputs": [],
   "source": [
    "#BOOLEAN TYPE FEATURES (YES /NO)\n",
    "boolean_cols =['housing', 'loan','deposit']\n",
    "for col in boolean_cols:\n",
    "    df4[col +'_new']  =df4[col].apply(lambda x :1 if x =='yes' else 0)\n",
    "    df4.drop(col ,axis =1 ,inplace = True)\n",
    "\n"
   ]
  },
  {
   "cell_type": "markdown",
   "id": "f55a0839",
   "metadata": {
    "papermill": {
     "duration": 0.024034,
     "end_time": "2022-08-13T12:11:47.440357",
     "exception": false,
     "start_time": "2022-08-13T12:11:47.416323",
     "status": "completed"
    },
    "tags": []
   },
   "source": [
    "***FINAL DATASET***"
   ]
  },
  {
   "cell_type": "code",
   "execution_count": 35,
   "id": "3d343ce1",
   "metadata": {
    "execution": {
     "iopub.execute_input": "2022-08-13T12:11:47.491534Z",
     "iopub.status.busy": "2022-08-13T12:11:47.490496Z",
     "iopub.status.idle": "2022-08-13T12:11:47.512457Z",
     "shell.execute_reply": "2022-08-13T12:11:47.511688Z"
    },
    "papermill": {
     "duration": 0.050172,
     "end_time": "2022-08-13T12:11:47.514621",
     "exception": false,
     "start_time": "2022-08-13T12:11:47.464449",
     "status": "completed"
    },
    "tags": []
   },
   "outputs": [
    {
     "data": {
      "text/html": [
       "<div>\n",
       "<style scoped>\n",
       "    .dataframe tbody tr th:only-of-type {\n",
       "        vertical-align: middle;\n",
       "    }\n",
       "\n",
       "    .dataframe tbody tr th {\n",
       "        vertical-align: top;\n",
       "    }\n",
       "\n",
       "    .dataframe thead th {\n",
       "        text-align: right;\n",
       "    }\n",
       "</style>\n",
       "<table border=\"1\" class=\"dataframe\">\n",
       "  <thead>\n",
       "    <tr style=\"text-align: right;\">\n",
       "      <th></th>\n",
       "      <th>age</th>\n",
       "      <th>balance</th>\n",
       "      <th>day</th>\n",
       "      <th>duration</th>\n",
       "      <th>campaign</th>\n",
       "      <th>previous</th>\n",
       "      <th>job_blue-collar</th>\n",
       "      <th>job_entrepreneur</th>\n",
       "      <th>job_housemaid</th>\n",
       "      <th>job_management</th>\n",
       "      <th>...</th>\n",
       "      <th>month_may</th>\n",
       "      <th>month_nov</th>\n",
       "      <th>month_oct</th>\n",
       "      <th>month_sep</th>\n",
       "      <th>poutcome_other</th>\n",
       "      <th>poutcome_success</th>\n",
       "      <th>poutcome_unknown</th>\n",
       "      <th>housing_new</th>\n",
       "      <th>loan_new</th>\n",
       "      <th>deposit_new</th>\n",
       "    </tr>\n",
       "  </thead>\n",
       "  <tbody>\n",
       "    <tr>\n",
       "      <th>0</th>\n",
       "      <td>59</td>\n",
       "      <td>2343</td>\n",
       "      <td>5</td>\n",
       "      <td>1042</td>\n",
       "      <td>1</td>\n",
       "      <td>0</td>\n",
       "      <td>0</td>\n",
       "      <td>0</td>\n",
       "      <td>0</td>\n",
       "      <td>0</td>\n",
       "      <td>...</td>\n",
       "      <td>1</td>\n",
       "      <td>0</td>\n",
       "      <td>0</td>\n",
       "      <td>0</td>\n",
       "      <td>0</td>\n",
       "      <td>0</td>\n",
       "      <td>1</td>\n",
       "      <td>1</td>\n",
       "      <td>0</td>\n",
       "      <td>1</td>\n",
       "    </tr>\n",
       "    <tr>\n",
       "      <th>1</th>\n",
       "      <td>56</td>\n",
       "      <td>45</td>\n",
       "      <td>5</td>\n",
       "      <td>1467</td>\n",
       "      <td>1</td>\n",
       "      <td>0</td>\n",
       "      <td>0</td>\n",
       "      <td>0</td>\n",
       "      <td>0</td>\n",
       "      <td>0</td>\n",
       "      <td>...</td>\n",
       "      <td>1</td>\n",
       "      <td>0</td>\n",
       "      <td>0</td>\n",
       "      <td>0</td>\n",
       "      <td>0</td>\n",
       "      <td>0</td>\n",
       "      <td>1</td>\n",
       "      <td>0</td>\n",
       "      <td>0</td>\n",
       "      <td>1</td>\n",
       "    </tr>\n",
       "    <tr>\n",
       "      <th>2</th>\n",
       "      <td>41</td>\n",
       "      <td>1270</td>\n",
       "      <td>5</td>\n",
       "      <td>1389</td>\n",
       "      <td>1</td>\n",
       "      <td>0</td>\n",
       "      <td>0</td>\n",
       "      <td>0</td>\n",
       "      <td>0</td>\n",
       "      <td>0</td>\n",
       "      <td>...</td>\n",
       "      <td>1</td>\n",
       "      <td>0</td>\n",
       "      <td>0</td>\n",
       "      <td>0</td>\n",
       "      <td>0</td>\n",
       "      <td>0</td>\n",
       "      <td>1</td>\n",
       "      <td>1</td>\n",
       "      <td>0</td>\n",
       "      <td>1</td>\n",
       "    </tr>\n",
       "    <tr>\n",
       "      <th>3</th>\n",
       "      <td>55</td>\n",
       "      <td>2476</td>\n",
       "      <td>5</td>\n",
       "      <td>579</td>\n",
       "      <td>1</td>\n",
       "      <td>0</td>\n",
       "      <td>0</td>\n",
       "      <td>0</td>\n",
       "      <td>0</td>\n",
       "      <td>0</td>\n",
       "      <td>...</td>\n",
       "      <td>1</td>\n",
       "      <td>0</td>\n",
       "      <td>0</td>\n",
       "      <td>0</td>\n",
       "      <td>0</td>\n",
       "      <td>0</td>\n",
       "      <td>1</td>\n",
       "      <td>1</td>\n",
       "      <td>0</td>\n",
       "      <td>1</td>\n",
       "    </tr>\n",
       "    <tr>\n",
       "      <th>4</th>\n",
       "      <td>54</td>\n",
       "      <td>184</td>\n",
       "      <td>5</td>\n",
       "      <td>673</td>\n",
       "      <td>2</td>\n",
       "      <td>0</td>\n",
       "      <td>0</td>\n",
       "      <td>0</td>\n",
       "      <td>0</td>\n",
       "      <td>0</td>\n",
       "      <td>...</td>\n",
       "      <td>1</td>\n",
       "      <td>0</td>\n",
       "      <td>0</td>\n",
       "      <td>0</td>\n",
       "      <td>0</td>\n",
       "      <td>0</td>\n",
       "      <td>1</td>\n",
       "      <td>0</td>\n",
       "      <td>0</td>\n",
       "      <td>1</td>\n",
       "    </tr>\n",
       "    <tr>\n",
       "      <th>...</th>\n",
       "      <td>...</td>\n",
       "      <td>...</td>\n",
       "      <td>...</td>\n",
       "      <td>...</td>\n",
       "      <td>...</td>\n",
       "      <td>...</td>\n",
       "      <td>...</td>\n",
       "      <td>...</td>\n",
       "      <td>...</td>\n",
       "      <td>...</td>\n",
       "      <td>...</td>\n",
       "      <td>...</td>\n",
       "      <td>...</td>\n",
       "      <td>...</td>\n",
       "      <td>...</td>\n",
       "      <td>...</td>\n",
       "      <td>...</td>\n",
       "      <td>...</td>\n",
       "      <td>...</td>\n",
       "      <td>...</td>\n",
       "      <td>...</td>\n",
       "    </tr>\n",
       "    <tr>\n",
       "      <th>11157</th>\n",
       "      <td>33</td>\n",
       "      <td>1</td>\n",
       "      <td>20</td>\n",
       "      <td>257</td>\n",
       "      <td>1</td>\n",
       "      <td>0</td>\n",
       "      <td>1</td>\n",
       "      <td>0</td>\n",
       "      <td>0</td>\n",
       "      <td>0</td>\n",
       "      <td>...</td>\n",
       "      <td>0</td>\n",
       "      <td>0</td>\n",
       "      <td>0</td>\n",
       "      <td>0</td>\n",
       "      <td>0</td>\n",
       "      <td>0</td>\n",
       "      <td>1</td>\n",
       "      <td>1</td>\n",
       "      <td>0</td>\n",
       "      <td>0</td>\n",
       "    </tr>\n",
       "    <tr>\n",
       "      <th>11158</th>\n",
       "      <td>39</td>\n",
       "      <td>733</td>\n",
       "      <td>16</td>\n",
       "      <td>83</td>\n",
       "      <td>4</td>\n",
       "      <td>0</td>\n",
       "      <td>0</td>\n",
       "      <td>0</td>\n",
       "      <td>0</td>\n",
       "      <td>0</td>\n",
       "      <td>...</td>\n",
       "      <td>0</td>\n",
       "      <td>0</td>\n",
       "      <td>0</td>\n",
       "      <td>0</td>\n",
       "      <td>0</td>\n",
       "      <td>0</td>\n",
       "      <td>1</td>\n",
       "      <td>0</td>\n",
       "      <td>0</td>\n",
       "      <td>0</td>\n",
       "    </tr>\n",
       "    <tr>\n",
       "      <th>11159</th>\n",
       "      <td>32</td>\n",
       "      <td>29</td>\n",
       "      <td>19</td>\n",
       "      <td>156</td>\n",
       "      <td>2</td>\n",
       "      <td>0</td>\n",
       "      <td>0</td>\n",
       "      <td>0</td>\n",
       "      <td>0</td>\n",
       "      <td>0</td>\n",
       "      <td>...</td>\n",
       "      <td>0</td>\n",
       "      <td>0</td>\n",
       "      <td>0</td>\n",
       "      <td>0</td>\n",
       "      <td>0</td>\n",
       "      <td>0</td>\n",
       "      <td>1</td>\n",
       "      <td>0</td>\n",
       "      <td>0</td>\n",
       "      <td>0</td>\n",
       "    </tr>\n",
       "    <tr>\n",
       "      <th>11160</th>\n",
       "      <td>43</td>\n",
       "      <td>0</td>\n",
       "      <td>8</td>\n",
       "      <td>9</td>\n",
       "      <td>2</td>\n",
       "      <td>5</td>\n",
       "      <td>0</td>\n",
       "      <td>0</td>\n",
       "      <td>0</td>\n",
       "      <td>0</td>\n",
       "      <td>...</td>\n",
       "      <td>1</td>\n",
       "      <td>0</td>\n",
       "      <td>0</td>\n",
       "      <td>0</td>\n",
       "      <td>0</td>\n",
       "      <td>0</td>\n",
       "      <td>0</td>\n",
       "      <td>0</td>\n",
       "      <td>1</td>\n",
       "      <td>0</td>\n",
       "    </tr>\n",
       "    <tr>\n",
       "      <th>11161</th>\n",
       "      <td>34</td>\n",
       "      <td>0</td>\n",
       "      <td>9</td>\n",
       "      <td>628</td>\n",
       "      <td>1</td>\n",
       "      <td>0</td>\n",
       "      <td>0</td>\n",
       "      <td>0</td>\n",
       "      <td>0</td>\n",
       "      <td>0</td>\n",
       "      <td>...</td>\n",
       "      <td>0</td>\n",
       "      <td>0</td>\n",
       "      <td>0</td>\n",
       "      <td>0</td>\n",
       "      <td>0</td>\n",
       "      <td>0</td>\n",
       "      <td>1</td>\n",
       "      <td>0</td>\n",
       "      <td>0</td>\n",
       "      <td>0</td>\n",
       "    </tr>\n",
       "  </tbody>\n",
       "</table>\n",
       "<p>11150 rows × 41 columns</p>\n",
       "</div>"
      ],
      "text/plain": [
       "       age  balance  day  duration  campaign  previous  job_blue-collar  \\\n",
       "0       59     2343    5      1042         1         0                0   \n",
       "1       56       45    5      1467         1         0                0   \n",
       "2       41     1270    5      1389         1         0                0   \n",
       "3       55     2476    5       579         1         0                0   \n",
       "4       54      184    5       673         2         0                0   \n",
       "...    ...      ...  ...       ...       ...       ...              ...   \n",
       "11157   33        1   20       257         1         0                1   \n",
       "11158   39      733   16        83         4         0                0   \n",
       "11159   32       29   19       156         2         0                0   \n",
       "11160   43        0    8         9         2         5                0   \n",
       "11161   34        0    9       628         1         0                0   \n",
       "\n",
       "       job_entrepreneur  job_housemaid  job_management  ...  month_may  \\\n",
       "0                     0              0               0  ...          1   \n",
       "1                     0              0               0  ...          1   \n",
       "2                     0              0               0  ...          1   \n",
       "3                     0              0               0  ...          1   \n",
       "4                     0              0               0  ...          1   \n",
       "...                 ...            ...             ...  ...        ...   \n",
       "11157                 0              0               0  ...          0   \n",
       "11158                 0              0               0  ...          0   \n",
       "11159                 0              0               0  ...          0   \n",
       "11160                 0              0               0  ...          1   \n",
       "11161                 0              0               0  ...          0   \n",
       "\n",
       "       month_nov  month_oct  month_sep  poutcome_other  poutcome_success  \\\n",
       "0              0          0          0               0                 0   \n",
       "1              0          0          0               0                 0   \n",
       "2              0          0          0               0                 0   \n",
       "3              0          0          0               0                 0   \n",
       "4              0          0          0               0                 0   \n",
       "...          ...        ...        ...             ...               ...   \n",
       "11157          0          0          0               0                 0   \n",
       "11158          0          0          0               0                 0   \n",
       "11159          0          0          0               0                 0   \n",
       "11160          0          0          0               0                 0   \n",
       "11161          0          0          0               0                 0   \n",
       "\n",
       "       poutcome_unknown  housing_new  loan_new  deposit_new  \n",
       "0                     1            1         0            1  \n",
       "1                     1            0         0            1  \n",
       "2                     1            1         0            1  \n",
       "3                     1            1         0            1  \n",
       "4                     1            0         0            1  \n",
       "...                 ...          ...       ...          ...  \n",
       "11157                 1            1         0            0  \n",
       "11158                 1            0         0            0  \n",
       "11159                 1            0         0            0  \n",
       "11160                 0            0         1            0  \n",
       "11161                 1            0         0            0  \n",
       "\n",
       "[11150 rows x 41 columns]"
      ]
     },
     "execution_count": 35,
     "metadata": {},
     "output_type": "execute_result"
    }
   ],
   "source": [
    "df4"
   ]
  },
  {
   "cell_type": "code",
   "execution_count": 36,
   "id": "4e787df9",
   "metadata": {
    "execution": {
     "iopub.execute_input": "2022-08-13T12:11:47.567139Z",
     "iopub.status.busy": "2022-08-13T12:11:47.566308Z",
     "iopub.status.idle": "2022-08-13T12:11:47.574973Z",
     "shell.execute_reply": "2022-08-13T12:11:47.573797Z"
    },
    "papermill": {
     "duration": 0.037416,
     "end_time": "2022-08-13T12:11:47.577378",
     "exception": false,
     "start_time": "2022-08-13T12:11:47.539962",
     "status": "completed"
    },
    "tags": []
   },
   "outputs": [
    {
     "data": {
      "text/plain": [
       "0        1\n",
       "1        1\n",
       "2        1\n",
       "3        1\n",
       "4        1\n",
       "        ..\n",
       "11157    0\n",
       "11158    0\n",
       "11159    0\n",
       "11160    0\n",
       "11161    0\n",
       "Name: deposit_new, Length: 11150, dtype: int64"
      ]
     },
     "execution_count": 36,
     "metadata": {},
     "output_type": "execute_result"
    }
   ],
   "source": [
    "df4.deposit_new"
   ]
  },
  {
   "cell_type": "markdown",
   "id": "46986540",
   "metadata": {
    "papermill": {
     "duration": 0.024824,
     "end_time": "2022-08-13T12:11:47.628550",
     "exception": false,
     "start_time": "2022-08-13T12:11:47.603726",
     "status": "completed"
    },
    "tags": []
   },
   "source": [
    "**DATASET SPLITTING**\n"
   ]
  },
  {
   "cell_type": "markdown",
   "id": "e3ee040b",
   "metadata": {
    "papermill": {
     "duration": 0.024509,
     "end_time": "2022-08-13T12:11:47.678026",
     "exception": false,
     "start_time": "2022-08-13T12:11:47.653517",
     "status": "completed"
    },
    "tags": []
   },
   "source": [
    " **Splitting Dataset into Training and Testing sets**"
   ]
  },
  {
   "cell_type": "code",
   "execution_count": 37,
   "id": "cce799a9",
   "metadata": {
    "execution": {
     "iopub.execute_input": "2022-08-13T12:11:47.730278Z",
     "iopub.status.busy": "2022-08-13T12:11:47.729820Z",
     "iopub.status.idle": "2022-08-13T12:11:47.742503Z",
     "shell.execute_reply": "2022-08-13T12:11:47.741540Z"
    },
    "papermill": {
     "duration": 0.041709,
     "end_time": "2022-08-13T12:11:47.745064",
     "exception": false,
     "start_time": "2022-08-13T12:11:47.703355",
     "status": "completed"
    },
    "tags": []
   },
   "outputs": [],
   "source": [
    "from sklearn.model_selection import train_test_split\n",
    "x= df4.drop(['deposit_new'],axis =1)\n",
    "y= df4['deposit_new']\n",
    "x_train , x_test , y_train , y_test = train_test_split(x ,y, test_size = 0.2 , random_state = 51)"
   ]
  },
  {
   "cell_type": "code",
   "execution_count": 38,
   "id": "0ace2a72",
   "metadata": {
    "execution": {
     "iopub.execute_input": "2022-08-13T12:11:47.797820Z",
     "iopub.status.busy": "2022-08-13T12:11:47.797020Z",
     "iopub.status.idle": "2022-08-13T12:11:47.803720Z",
     "shell.execute_reply": "2022-08-13T12:11:47.802324Z"
    },
    "papermill": {
     "duration": 0.035707,
     "end_time": "2022-08-13T12:11:47.806007",
     "exception": false,
     "start_time": "2022-08-13T12:11:47.770300",
     "status": "completed"
    },
    "tags": []
   },
   "outputs": [
    {
     "name": "stdout",
     "output_type": "stream",
     "text": [
      "8920 2230\n"
     ]
    }
   ],
   "source": [
    "print(len(x_train) ,len(x_test))"
   ]
  },
  {
   "cell_type": "markdown",
   "id": "3268c097",
   "metadata": {
    "papermill": {
     "duration": 0.025074,
     "end_time": "2022-08-13T12:11:47.856295",
     "exception": false,
     "start_time": "2022-08-13T12:11:47.831221",
     "status": "completed"
    },
    "tags": []
   },
   "source": [
    "***SCALING THE DATA (STANDARDIZATION)***"
   ]
  },
  {
   "cell_type": "code",
   "execution_count": 39,
   "id": "35e3c6a8",
   "metadata": {
    "execution": {
     "iopub.execute_input": "2022-08-13T12:11:47.909156Z",
     "iopub.status.busy": "2022-08-13T12:11:47.908352Z",
     "iopub.status.idle": "2022-08-13T12:11:47.934691Z",
     "shell.execute_reply": "2022-08-13T12:11:47.933597Z"
    },
    "papermill": {
     "duration": 0.055744,
     "end_time": "2022-08-13T12:11:47.937267",
     "exception": false,
     "start_time": "2022-08-13T12:11:47.881523",
     "status": "completed"
    },
    "tags": []
   },
   "outputs": [],
   "source": [
    "from sklearn.preprocessing import StandardScaler\n",
    "sc =StandardScaler()\n",
    "x_train= sc.fit_transform(x_train)\n",
    "x_test  = sc.transform(x_test)"
   ]
  },
  {
   "cell_type": "code",
   "execution_count": 40,
   "id": "bbb385cb",
   "metadata": {
    "execution": {
     "iopub.execute_input": "2022-08-13T12:11:48.000013Z",
     "iopub.status.busy": "2022-08-13T12:11:47.999024Z",
     "iopub.status.idle": "2022-08-13T12:11:48.007386Z",
     "shell.execute_reply": "2022-08-13T12:11:48.006332Z"
    },
    "papermill": {
     "duration": 0.043432,
     "end_time": "2022-08-13T12:11:48.009744",
     "exception": false,
     "start_time": "2022-08-13T12:11:47.966312",
     "status": "completed"
    },
    "tags": []
   },
   "outputs": [
    {
     "data": {
      "text/plain": [
       "array([[ 1.14786208, -0.4623037 , -1.02368078, ...,  0.58356408,\n",
       "         1.06224777, -0.38452233],\n",
       "       [-1.19105183, -0.18122141,  0.88111474, ...,  0.58356408,\n",
       "        -0.94139996, -0.38452233],\n",
       "       [ 0.39606833, -0.27026182, -0.07128302, ...,  0.58356408,\n",
       "         1.06224777, -0.38452233],\n",
       "       ...,\n",
       "       [-0.68985599,  0.03005568, -1.38082994, ..., -1.71360786,\n",
       "         1.06224777, -0.38452233],\n",
       "       [-0.85692127, -0.56344368,  0.16681642, ...,  0.58356408,\n",
       "         1.06224777, -0.38452233],\n",
       "       [ 0.06193777,  1.16989711,  0.76206502, ..., -1.71360786,\n",
       "         1.06224777, -0.38452233]])"
      ]
     },
     "execution_count": 40,
     "metadata": {},
     "output_type": "execute_result"
    }
   ],
   "source": [
    "x_train"
   ]
  },
  {
   "cell_type": "code",
   "execution_count": 41,
   "id": "c6aa4427",
   "metadata": {
    "execution": {
     "iopub.execute_input": "2022-08-13T12:11:48.063463Z",
     "iopub.status.busy": "2022-08-13T12:11:48.062657Z",
     "iopub.status.idle": "2022-08-13T12:11:48.075393Z",
     "shell.execute_reply": "2022-08-13T12:11:48.074227Z"
    },
    "papermill": {
     "duration": 0.043241,
     "end_time": "2022-08-13T12:11:48.078683",
     "exception": false,
     "start_time": "2022-08-13T12:11:48.035442",
     "status": "completed"
    },
    "tags": []
   },
   "outputs": [],
   "source": [
    "#using k cross fold validation for model selection \n",
    "from sklearn.model_selection import cross_val_score\n",
    "\n",
    "from sklearn.ensemble import RandomForestClassifier\n",
    "from xgboost import XGBClassifier"
   ]
  },
  {
   "cell_type": "markdown",
   "id": "1566d1f7",
   "metadata": {
    "papermill": {
     "duration": 0.026748,
     "end_time": "2022-08-13T12:11:48.133143",
     "exception": false,
     "start_time": "2022-08-13T12:11:48.106395",
     "status": "completed"
    },
    "tags": []
   },
   "source": [
    "# *MODEL SELECTION*"
   ]
  },
  {
   "cell_type": "markdown",
   "id": "32f016db",
   "metadata": {
    "papermill": {
     "duration": 0.025597,
     "end_time": "2022-08-13T12:11:48.185507",
     "exception": false,
     "start_time": "2022-08-13T12:11:48.159910",
     "status": "completed"
    },
    "tags": []
   },
   "source": [
    "**MODEL SELECTION BASED ON *CROSS VAL SCORES***"
   ]
  },
  {
   "cell_type": "code",
   "execution_count": 42,
   "id": "66c2c966",
   "metadata": {
    "execution": {
     "iopub.execute_input": "2022-08-13T12:11:48.242893Z",
     "iopub.status.busy": "2022-08-13T12:11:48.242522Z",
     "iopub.status.idle": "2022-08-13T12:11:53.619996Z",
     "shell.execute_reply": "2022-08-13T12:11:53.618662Z"
    },
    "papermill": {
     "duration": 5.408511,
     "end_time": "2022-08-13T12:11:53.623893",
     "exception": false,
     "start_time": "2022-08-13T12:11:48.215382",
     "status": "completed"
    },
    "tags": []
   },
   "outputs": [
    {
     "name": "stdout",
     "output_type": "stream",
     "text": [
      "[0.84697309 0.84921525 0.85818386 0.84248879 0.85201794]\n",
      "0.8497757847533631\n"
     ]
    }
   ],
   "source": [
    "rf_model_scores = cross_val_score(estimator=RandomForestClassifier() ,X=x_train ,y= y_train,cv =5)\n",
    "print(rf_model_scores)\n",
    "print(rf_model_scores.mean())"
   ]
  },
  {
   "cell_type": "code",
   "execution_count": 43,
   "id": "00c1c996",
   "metadata": {
    "execution": {
     "iopub.execute_input": "2022-08-13T12:11:53.678375Z",
     "iopub.status.busy": "2022-08-13T12:11:53.677585Z",
     "iopub.status.idle": "2022-08-13T12:11:59.277705Z",
     "shell.execute_reply": "2022-08-13T12:11:59.276562Z"
    },
    "papermill": {
     "duration": 5.630833,
     "end_time": "2022-08-13T12:11:59.281453",
     "exception": false,
     "start_time": "2022-08-13T12:11:53.650620",
     "status": "completed"
    },
    "tags": []
   },
   "outputs": [
    {
     "name": "stdout",
     "output_type": "stream",
     "text": [
      "[0.84360987 0.86042601 0.86434978 0.86154709 0.84753363]\n",
      "0.8554932735426009\n"
     ]
    }
   ],
   "source": [
    "xg_model_scores = cross_val_score(estimator=XGBClassifier() ,X=x_train ,y= y_train,cv =5)\n",
    "print(xg_model_scores)\n",
    "print(xg_model_scores.mean())"
   ]
  },
  {
   "cell_type": "markdown",
   "id": "904560dc",
   "metadata": {
    "papermill": {
     "duration": 0.025376,
     "end_time": "2022-08-13T12:11:59.334828",
     "exception": false,
     "start_time": "2022-08-13T12:11:59.309452",
     "status": "completed"
    },
    "tags": []
   },
   "source": [
    "***MODEL OPTIMAL PARAMETER SELECTION USING GRID CV***"
   ]
  },
  {
   "cell_type": "code",
   "execution_count": 44,
   "id": "8b5fef80",
   "metadata": {
    "execution": {
     "iopub.execute_input": "2022-08-13T12:11:59.388849Z",
     "iopub.status.busy": "2022-08-13T12:11:59.388062Z",
     "iopub.status.idle": "2022-08-13T12:11:59.394551Z",
     "shell.execute_reply": "2022-08-13T12:11:59.393723Z"
    },
    "papermill": {
     "duration": 0.03567,
     "end_time": "2022-08-13T12:11:59.396586",
     "exception": false,
     "start_time": "2022-08-13T12:11:59.360916",
     "status": "completed"
    },
    "tags": []
   },
   "outputs": [],
   "source": [
    "model_params = {\n",
    "    'RandomForestClassifier':{\n",
    "        'model':RandomForestClassifier(),\n",
    "        'param':\n",
    "        {'n_estimators':[10 ,50 ,100,130],\n",
    "         'criterion':['gini' ,'entropy'],\n",
    "         'max_depth':range(2,4,1),\n",
    "         'max_features':['auto' ,'log2']\n",
    "        }\n",
    "    },\n",
    "    \n",
    "    'XGBClassifier':{\n",
    "        'model':XGBClassifier(objective='binary:logistic'),\n",
    "        'param':{\n",
    "            'learning_rate':[0.5,0.1 ,0.01,0.001],\n",
    "            'max_depth':[3,5,10,20],\n",
    "            'n_estimators':[10 ,50,100,200]        \n",
    "        }\n",
    "    } \n",
    "}"
   ]
  },
  {
   "cell_type": "code",
   "execution_count": 45,
   "id": "35a02b20",
   "metadata": {
    "execution": {
     "iopub.execute_input": "2022-08-13T12:11:59.450317Z",
     "iopub.status.busy": "2022-08-13T12:11:59.449574Z",
     "iopub.status.idle": "2022-08-13T12:21:59.185151Z",
     "shell.execute_reply": "2022-08-13T12:21:59.184109Z"
    },
    "papermill": {
     "duration": 599.765804,
     "end_time": "2022-08-13T12:21:59.188057",
     "exception": false,
     "start_time": "2022-08-13T12:11:59.422253",
     "status": "completed"
    },
    "tags": []
   },
   "outputs": [],
   "source": [
    "from sklearn.model_selection import GridSearchCV\n",
    "\n",
    "scores =[]\n",
    "for model_name , mp in model_params.items():\n",
    "    model_sel = GridSearchCV(estimator=mp['model'] ,param_grid=mp['param'] ,cv =5 ,return_train_score=False)\n",
    "    model_sel.fit(x,y)\n",
    "    scores.append(\n",
    "    {\n",
    "        'model':model_name,\n",
    "        'best_score':model_sel.best_score_,\n",
    "        'best_params':model_sel.best_params_\n",
    "    })\n",
    "    "
   ]
  },
  {
   "cell_type": "code",
   "execution_count": 46,
   "id": "c57b5b19",
   "metadata": {
    "execution": {
     "iopub.execute_input": "2022-08-13T12:21:59.243393Z",
     "iopub.status.busy": "2022-08-13T12:21:59.242988Z",
     "iopub.status.idle": "2022-08-13T12:21:59.249414Z",
     "shell.execute_reply": "2022-08-13T12:21:59.248456Z"
    },
    "papermill": {
     "duration": 0.035471,
     "end_time": "2022-08-13T12:21:59.251540",
     "exception": false,
     "start_time": "2022-08-13T12:21:59.216069",
     "status": "completed"
    },
    "tags": []
   },
   "outputs": [
    {
     "data": {
      "text/plain": [
       "[{'model': 'RandomForestClassifier',\n",
       "  'best_score': 0.7458295964125561,\n",
       "  'best_params': {'criterion': 'gini',\n",
       "   'max_depth': 3,\n",
       "   'max_features': 'auto',\n",
       "   'n_estimators': 50}},\n",
       " {'model': 'XGBClassifier',\n",
       "  'best_score': 0.8148878923766816,\n",
       "  'best_params': {'learning_rate': 0.1, 'max_depth': 10, 'n_estimators': 100}}]"
      ]
     },
     "execution_count": 46,
     "metadata": {},
     "output_type": "execute_result"
    }
   ],
   "source": [
    "scores"
   ]
  },
  {
   "cell_type": "markdown",
   "id": "ba61991a",
   "metadata": {
    "papermill": {
     "duration": 0.025592,
     "end_time": "2022-08-13T12:21:59.302769",
     "exception": false,
     "start_time": "2022-08-13T12:21:59.277177",
     "status": "completed"
    },
    "tags": []
   },
   "source": [
    "# MODEL BUILDING"
   ]
  },
  {
   "cell_type": "code",
   "execution_count": 47,
   "id": "ba18cb30",
   "metadata": {
    "execution": {
     "iopub.execute_input": "2022-08-13T12:21:59.355612Z",
     "iopub.status.busy": "2022-08-13T12:21:59.355199Z",
     "iopub.status.idle": "2022-08-13T12:22:01.434069Z",
     "shell.execute_reply": "2022-08-13T12:22:01.433161Z"
    },
    "papermill": {
     "duration": 2.107903,
     "end_time": "2022-08-13T12:22:01.436370",
     "exception": false,
     "start_time": "2022-08-13T12:21:59.328467",
     "status": "completed"
    },
    "tags": []
   },
   "outputs": [
    {
     "name": "stdout",
     "output_type": "stream",
     "text": [
      "XGBModel Score is :\n"
     ]
    },
    {
     "data": {
      "text/plain": [
       "0.8623318385650224"
      ]
     },
     "execution_count": 47,
     "metadata": {},
     "output_type": "execute_result"
    }
   ],
   "source": [
    "xgmodel = XGBClassifier(objective='binary:logistic' ,learning_rate =0.1 ,max_depth=10 ,n_estimators=100)\n",
    "xgmodel.fit(x_train , y_train)\n",
    "print('XGBModel Score is :')\n",
    "xgmodel.score(x_test ,y_test)\n"
   ]
  },
  {
   "cell_type": "markdown",
   "id": "5e80bda7",
   "metadata": {
    "papermill": {
     "duration": 0.025702,
     "end_time": "2022-08-13T12:22:01.488975",
     "exception": false,
     "start_time": "2022-08-13T12:22:01.463273",
     "status": "completed"
    },
    "tags": []
   },
   "source": [
    "***EXTRACTING IMPORTANCE FEATURES OF CLASSIFICATION***"
   ]
  },
  {
   "cell_type": "code",
   "execution_count": 48,
   "id": "7dc6d64a",
   "metadata": {
    "execution": {
     "iopub.execute_input": "2022-08-13T12:22:01.542580Z",
     "iopub.status.busy": "2022-08-13T12:22:01.541813Z",
     "iopub.status.idle": "2022-08-13T12:22:01.556636Z",
     "shell.execute_reply": "2022-08-13T12:22:01.555351Z"
    },
    "papermill": {
     "duration": 0.04415,
     "end_time": "2022-08-13T12:22:01.558913",
     "exception": false,
     "start_time": "2022-08-13T12:22:01.514763",
     "status": "completed"
    },
    "tags": []
   },
   "outputs": [
    {
     "data": {
      "text/html": [
       "<div>\n",
       "<style scoped>\n",
       "    .dataframe tbody tr th:only-of-type {\n",
       "        vertical-align: middle;\n",
       "    }\n",
       "\n",
       "    .dataframe tbody tr th {\n",
       "        vertical-align: top;\n",
       "    }\n",
       "\n",
       "    .dataframe thead th {\n",
       "        text-align: right;\n",
       "    }\n",
       "</style>\n",
       "<table border=\"1\" class=\"dataframe\">\n",
       "  <thead>\n",
       "    <tr style=\"text-align: right;\">\n",
       "      <th></th>\n",
       "      <th>feature_name</th>\n",
       "      <th>score</th>\n",
       "    </tr>\n",
       "  </thead>\n",
       "  <tbody>\n",
       "    <tr>\n",
       "      <th>0</th>\n",
       "      <td>poutcome_success</td>\n",
       "      <td>0.173972</td>\n",
       "    </tr>\n",
       "    <tr>\n",
       "      <th>1</th>\n",
       "      <td>contact_unknown</td>\n",
       "      <td>0.127899</td>\n",
       "    </tr>\n",
       "    <tr>\n",
       "      <th>2</th>\n",
       "      <td>month_mar</td>\n",
       "      <td>0.071036</td>\n",
       "    </tr>\n",
       "    <tr>\n",
       "      <th>3</th>\n",
       "      <td>duration</td>\n",
       "      <td>0.047820</td>\n",
       "    </tr>\n",
       "    <tr>\n",
       "      <th>4</th>\n",
       "      <td>housing_new</td>\n",
       "      <td>0.038266</td>\n",
       "    </tr>\n",
       "  </tbody>\n",
       "</table>\n",
       "</div>"
      ],
      "text/plain": [
       "       feature_name     score\n",
       "0  poutcome_success  0.173972\n",
       "1   contact_unknown  0.127899\n",
       "2         month_mar  0.071036\n",
       "3          duration  0.047820\n",
       "4       housing_new  0.038266"
      ]
     },
     "execution_count": 48,
     "metadata": {},
     "output_type": "execute_result"
    }
   ],
   "source": [
    "cols = [ 'feature_name','score']\n",
    "#decending sort\n",
    "values = sorted(zip(x.columns ,xgmodel.feature_importances_) ,key =lambda x :x[1]*-1)\n",
    "\n",
    "all_feature_imp = pd.DataFrame(values ,columns= cols)\n",
    "all_feature_imp.head()\n"
   ]
  },
  {
   "cell_type": "code",
   "execution_count": 49,
   "id": "ea0b64a9",
   "metadata": {
    "execution": {
     "iopub.execute_input": "2022-08-13T12:22:01.613183Z",
     "iopub.status.busy": "2022-08-13T12:22:01.611973Z",
     "iopub.status.idle": "2022-08-13T12:22:02.155521Z",
     "shell.execute_reply": "2022-08-13T12:22:02.154430Z"
    },
    "papermill": {
     "duration": 0.572868,
     "end_time": "2022-08-13T12:22:02.157909",
     "exception": false,
     "start_time": "2022-08-13T12:22:01.585041",
     "status": "completed"
    },
    "tags": []
   },
   "outputs": [
    {
     "data": {
      "text/plain": [
       "Text(0.5, 0, 'Features')"
      ]
     },
     "execution_count": 49,
     "metadata": {},
     "output_type": "execute_result"
    },
    {
     "data": {
      "image/png": "[encoded data removed]",
      "text/plain": [
       "<Figure size 1080x504 with 1 Axes>"
      ]
     },
     "metadata": {
      "needs_background": "light"
     },
     "output_type": "display_data"
    }
   ],
   "source": [
    "\n",
    "plt.figure(figsize =(15 ,7))\n",
    "x_pos = np.arange(0 ,len(all_feature_imp))\n",
    "plt.bar(x_pos ,all_feature_imp['score'] ,color ='m')\n",
    "plt.xticks(x_pos , all_feature_imp['feature_name'] ,rotation = 90)\n",
    "plt.title('All features Importance (XGB)')\n",
    "plt.ylabel('Importances')\n",
    "plt.xlabel('Features')\n"
   ]
  },
  {
   "cell_type": "markdown",
   "id": "2c798370",
   "metadata": {
    "papermill": {
     "duration": 0.026343,
     "end_time": "2022-08-13T12:22:02.211016",
     "exception": false,
     "start_time": "2022-08-13T12:22:02.184673",
     "status": "completed"
    },
    "tags": []
   },
   "source": [
    "# **CONFUSION MATRIX**"
   ]
  },
  {
   "cell_type": "code",
   "execution_count": 50,
   "id": "09e82c8a",
   "metadata": {
    "execution": {
     "iopub.execute_input": "2022-08-13T12:22:02.266986Z",
     "iopub.status.busy": "2022-08-13T12:22:02.266575Z",
     "iopub.status.idle": "2022-08-13T12:22:02.294214Z",
     "shell.execute_reply": "2022-08-13T12:22:02.289785Z"
    },
    "papermill": {
     "duration": 0.058414,
     "end_time": "2022-08-13T12:22:02.296526",
     "exception": false,
     "start_time": "2022-08-13T12:22:02.238112",
     "status": "completed"
    },
    "tags": []
   },
   "outputs": [
    {
     "data": {
      "text/plain": [
       "array([[999, 200],\n",
       "       [107, 924]])"
      ]
     },
     "execution_count": 50,
     "metadata": {},
     "output_type": "execute_result"
    }
   ],
   "source": [
    "from sklearn.metrics import confusion_matrix\n",
    "cm = confusion_matrix(y_test ,xgmodel.predict(x_test))\n",
    "cm"
   ]
  },
  {
   "cell_type": "code",
   "execution_count": 51,
   "id": "19d10043",
   "metadata": {
    "execution": {
     "iopub.execute_input": "2022-08-13T12:22:02.352991Z",
     "iopub.status.busy": "2022-08-13T12:22:02.352296Z",
     "iopub.status.idle": "2022-08-13T12:22:02.592798Z",
     "shell.execute_reply": "2022-08-13T12:22:02.591691Z"
    },
    "papermill": {
     "duration": 0.271717,
     "end_time": "2022-08-13T12:22:02.595193",
     "exception": false,
     "start_time": "2022-08-13T12:22:02.323476",
     "status": "completed"
    },
    "tags": []
   },
   "outputs": [
    {
     "data": {
      "text/plain": [
       "Text(33.0, 0.5, 'True Value')"
      ]
     },
     "execution_count": 51,
     "metadata": {},
     "output_type": "execute_result"
    },
    {
     "data": {
      "image/png": "[encoded data removed]",
      "text/plain": [
       "<Figure size 432x288 with 2 Axes>"
      ]
     },
     "metadata": {
      "needs_background": "light"
     },
     "output_type": "display_data"
    }
   ],
   "source": [
    "sns.heatmap(cm ,annot = True ,cmap ='Spectral_r')\n",
    "plt.xlabel('Predicted')\n",
    "plt.ylabel('True Value')"
   ]
  },
  {
   "cell_type": "code",
   "execution_count": null,
   "id": "6ebe4639",
   "metadata": {
    "papermill": {
     "duration": 0.027008,
     "end_time": "2022-08-13T12:22:02.649509",
     "exception": false,
     "start_time": "2022-08-13T12:22:02.622501",
     "status": "completed"
    },
    "tags": []
   },
   "outputs": [],
   "source": []
  }
 ],
 "metadata": {
  "kernelspec": {
   "display_name": "Python 3",
   "language": "python",
   "name": "python3"
  },
  "language_info": {
   "codemirror_mode": {
    "name": "ipython",
    "version": 3
   },
   "file_extension": ".py",
   "mimetype": "text/x-python",
   "name": "python",
   "nbconvert_exporter": "python",
   "pygments_lexer": "ipython3",
   "version": "3.7.12"
  },
  "papermill": {
   "default_parameters": {},
   "duration": 635.893539,
   "end_time": "2022-08-13T12:22:03.601046",
   "environment_variables": {},
   "exception": null,
   "input_path": "__notebook__.ipynb",
   "output_path": "__notebook__.ipynb",
   "parameters": {},
   "start_time": "2022-08-13T12:11:27.707507",
   "version": "2.3.4"
  }
 },
 "nbformat": 4,
 "nbformat_minor": 5
}
