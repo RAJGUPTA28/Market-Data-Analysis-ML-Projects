{
 "cells": [
  {
   "cell_type": "code",
   "execution_count": 1,
   "id": "73e039b6",
   "metadata": {
    "_cell_guid": "b1076dfc-b9ad-4769-8c92-a6c4dae69d19",
    "_uuid": "8f2839f25d086af736a60e9eeb907d3b93b6e0e5",
    "execution": {
     "iopub.execute_input": "2022-07-20T13:00:33.322631Z",
     "iopub.status.busy": "2022-07-20T13:00:33.322015Z",
     "iopub.status.idle": "2022-07-20T13:00:33.346725Z",
     "shell.execute_reply": "2022-07-20T13:00:33.345252Z"
    },
    "papermill": {
     "duration": 0.048166,
     "end_time": "2022-07-20T13:00:33.350119",
     "exception": false,
     "start_time": "2022-07-20T13:00:33.301953",
     "status": "completed"
    },
    "tags": []
   },
   "outputs": [
    {
     "name": "stdout",
     "output_type": "stream",
     "text": [
      "/kaggle/input/churn-modelling/Churn_Modelling.csv\n"
     ]
    }
   ],
   "source": [
    "# This Python 3 environment comes with many helpful analytics libraries installed\n",
    "# It is defined by the kaggle/python Docker image: https://github.com/kaggle/docker-python\n",
    "# For example, here's several helpful packages to load\n",
    "\n",
    "import numpy as np # linear algebra\n",
    "import pandas as pd # data processing, CSV file I/O (e.g. pd.read_csv)\n",
    "\n",
    "# Input data files are available in the read-only \"../input/\" directory\n",
    "# For example, running this (by clicking run or pressing Shift+Enter) will list all files under the input directory\n",
    "\n",
    "import os\n",
    "for dirname, _, filenames in os.walk('/kaggle/input'):\n",
    "    for filename in filenames:\n",
    "        print(os.path.join(dirname, filename))\n",
    "\n",
    "# You can write up to 20GB to the current directory (/kaggle/working/) that gets preserved as output when you create a version using \"Save & Run All\" \n",
    "# You can also write temporary files to /kaggle/temp/, but they won't be saved outside of the current session"
   ]
  },
  {
   "cell_type": "markdown",
   "id": "b0e595ae",
   "metadata": {
    "papermill": {
     "duration": 0.016314,
     "end_time": "2022-07-20T13:00:33.383786",
     "exception": false,
     "start_time": "2022-07-20T13:00:33.367472",
     "status": "completed"
    },
    "tags": []
   },
   "source": []
  },
  {
   "cell_type": "code",
   "execution_count": null,
   "id": "faff90b5",
   "metadata": {
    "papermill": {
     "duration": 0.016449,
     "end_time": "2022-07-20T13:00:33.418444",
     "exception": false,
     "start_time": "2022-07-20T13:00:33.401995",
     "status": "completed"
    },
    "tags": []
   },
   "outputs": [],
   "source": []
  },
  {
   "cell_type": "markdown",
   "id": "5cd7ad1d",
   "metadata": {
    "papermill": {
     "duration": 0.01671,
     "end_time": "2022-07-20T13:00:33.452158",
     "exception": false,
     "start_time": "2022-07-20T13:00:33.435448",
     "status": "completed"
    },
    "tags": []
   },
   "source": [
    "***ABOUT NOTEBOOK***"
   ]
  },
  {
   "cell_type": "markdown",
   "id": "05426ce7",
   "metadata": {
    "papermill": {
     "duration": 0.016608,
     "end_time": "2022-07-20T13:00:33.485721",
     "exception": false,
     "start_time": "2022-07-20T13:00:33.469113",
     "status": "completed"
    },
    "tags": []
   },
   "source": [
    "***NOTEBOOK SECTIONS :***"
   ]
  },
  {
   "cell_type": "markdown",
   "id": "5b674036",
   "metadata": {
    "execution": {
     "iopub.execute_input": "2022-07-20T08:49:38.287731Z",
     "iopub.status.busy": "2022-07-20T08:49:38.287306Z",
     "iopub.status.idle": "2022-07-20T08:49:38.297245Z",
     "shell.execute_reply": "2022-07-20T08:49:38.295673Z",
     "shell.execute_reply.started": "2022-07-20T08:49:38.287695Z"
    },
    "papermill": {
     "duration": 0.016372,
     "end_time": "2022-07-20T13:00:33.518642",
     "exception": false,
     "start_time": "2022-07-20T13:00:33.502270",
     "status": "completed"
    },
    "tags": []
   },
   "source": [
    "* 1) DATA LOADING AND DATA INSIGHTS(SHAPE , COLUMNS ,INFORMATION )\n",
    "* 2) DATA CLEANING (HANDLING NULL ,DROPPING IRRELEVANT FEATURES)\n",
    "* 3) DATA VISUALISATION & PLOTTING CORRELATION HEATMAP\n",
    "* 4) BALANCING DATA USING SWOTE (OVERSAMPLING)\n",
    "* 5) CATEGORICAL VARIABLES ENCODING\n",
    "* 6) SPLITTING DATA INTO TRAINING AND TESTING SETS\n",
    "* 7) SCALING DATA USING STANDARDSCALER\n",
    "* 8) APPYLING VARIOUS ML CLASSIFICATION MODELS\n",
    "      LOGISTIC REGRESSION ,K-NEIGHBOURS ,SUPPORT VECTOR MACHINE ,\n",
    "      DECISION TREE ,RANDOM FOREST ,GRADIENT BOOSTING\n",
    "* 9) ESTIMATING MODELS (ACCURACY , PRECISION , RECALL AND F1_SCORE )\n",
    "* 10)SELECTING MODEL BASED ON BEST ESTIMATED SCORES**\n",
    "                                                        \n",
    "\n"
   ]
  },
  {
   "cell_type": "code",
   "execution_count": null,
   "id": "6773ac36",
   "metadata": {
    "papermill": {
     "duration": 0.016382,
     "end_time": "2022-07-20T13:00:33.551865",
     "exception": false,
     "start_time": "2022-07-20T13:00:33.535483",
     "status": "completed"
    },
    "tags": []
   },
   "outputs": [],
   "source": []
  },
  {
   "cell_type": "markdown",
   "id": "7dd4d01e",
   "metadata": {
    "papermill": {
     "duration": 0.0164,
     "end_time": "2022-07-20T13:00:33.584836",
     "exception": false,
     "start_time": "2022-07-20T13:00:33.568436",
     "status": "completed"
    },
    "tags": []
   },
   "source": [
    "****IMPORTING THE LIBRARIES****"
   ]
  },
  {
   "cell_type": "code",
   "execution_count": 2,
   "id": "877e3b5c",
   "metadata": {
    "execution": {
     "iopub.execute_input": "2022-07-20T13:00:33.619980Z",
     "iopub.status.busy": "2022-07-20T13:00:33.619573Z",
     "iopub.status.idle": "2022-07-20T13:00:35.368591Z",
     "shell.execute_reply": "2022-07-20T13:00:35.367331Z"
    },
    "papermill": {
     "duration": 1.770508,
     "end_time": "2022-07-20T13:00:35.371998",
     "exception": false,
     "start_time": "2022-07-20T13:00:33.601490",
     "status": "completed"
    },
    "tags": []
   },
   "outputs": [],
   "source": [
    "\n",
    "import pandas as pd\n",
    "import numpy as np \n",
    "import seaborn as sns\n",
    "import matplotlib.pyplot as plt\n",
    "\n",
    "#for preprocessing \n",
    "from sklearn.model_selection import train_test_split\n",
    "from sklearn.preprocessing import StandardScaler\n",
    "from imblearn.over_sampling  import SMOTE\n",
    "\n",
    "#for model score\n",
    "from sklearn.metrics import accuracy_score\n",
    "from sklearn.metrics import precision_score , recall_score , f1_score\n",
    "\n",
    "#for models\n",
    "from sklearn.linear_model import LogisticRegression\n",
    "from sklearn import svm\n",
    "from sklearn.neighbors import KNeighborsClassifier\n",
    "from sklearn.tree import DecisionTreeClassifier\n",
    "from sklearn.ensemble import RandomForestClassifier\n",
    "from sklearn.ensemble import GradientBoostingClassifier\n"
   ]
  },
  {
   "cell_type": "code",
   "execution_count": 3,
   "id": "e5400950",
   "metadata": {
    "execution": {
     "iopub.execute_input": "2022-07-20T13:00:35.408778Z",
     "iopub.status.busy": "2022-07-20T13:00:35.408412Z",
     "iopub.status.idle": "2022-07-20T13:00:35.475124Z",
     "shell.execute_reply": "2022-07-20T13:00:35.473716Z"
    },
    "papermill": {
     "duration": 0.088647,
     "end_time": "2022-07-20T13:00:35.478836",
     "exception": false,
     "start_time": "2022-07-20T13:00:35.390189",
     "status": "completed"
    },
    "tags": []
   },
   "outputs": [
    {
     "data": {
      "text/html": [
       "<div>\n",
       "<style scoped>\n",
       "    .dataframe tbody tr th:only-of-type {\n",
       "        vertical-align: middle;\n",
       "    }\n",
       "\n",
       "    .dataframe tbody tr th {\n",
       "        vertical-align: top;\n",
       "    }\n",
       "\n",
       "    .dataframe thead th {\n",
       "        text-align: right;\n",
       "    }\n",
       "</style>\n",
       "<table border=\"1\" class=\"dataframe\">\n",
       "  <thead>\n",
       "    <tr style=\"text-align: right;\">\n",
       "      <th></th>\n",
       "      <th>RowNumber</th>\n",
       "      <th>CustomerId</th>\n",
       "      <th>Surname</th>\n",
       "      <th>CreditScore</th>\n",
       "      <th>Geography</th>\n",
       "      <th>Gender</th>\n",
       "      <th>Age</th>\n",
       "      <th>Tenure</th>\n",
       "      <th>Balance</th>\n",
       "      <th>NumOfProducts</th>\n",
       "      <th>HasCrCard</th>\n",
       "      <th>IsActiveMember</th>\n",
       "      <th>EstimatedSalary</th>\n",
       "      <th>Exited</th>\n",
       "    </tr>\n",
       "  </thead>\n",
       "  <tbody>\n",
       "    <tr>\n",
       "      <th>0</th>\n",
       "      <td>1</td>\n",
       "      <td>15634602</td>\n",
       "      <td>Hargrave</td>\n",
       "      <td>619</td>\n",
       "      <td>France</td>\n",
       "      <td>Female</td>\n",
       "      <td>42</td>\n",
       "      <td>2</td>\n",
       "      <td>0.00</td>\n",
       "      <td>1</td>\n",
       "      <td>1</td>\n",
       "      <td>1</td>\n",
       "      <td>101348.88</td>\n",
       "      <td>1</td>\n",
       "    </tr>\n",
       "    <tr>\n",
       "      <th>1</th>\n",
       "      <td>2</td>\n",
       "      <td>15647311</td>\n",
       "      <td>Hill</td>\n",
       "      <td>608</td>\n",
       "      <td>Spain</td>\n",
       "      <td>Female</td>\n",
       "      <td>41</td>\n",
       "      <td>1</td>\n",
       "      <td>83807.86</td>\n",
       "      <td>1</td>\n",
       "      <td>0</td>\n",
       "      <td>1</td>\n",
       "      <td>112542.58</td>\n",
       "      <td>0</td>\n",
       "    </tr>\n",
       "    <tr>\n",
       "      <th>2</th>\n",
       "      <td>3</td>\n",
       "      <td>15619304</td>\n",
       "      <td>Onio</td>\n",
       "      <td>502</td>\n",
       "      <td>France</td>\n",
       "      <td>Female</td>\n",
       "      <td>42</td>\n",
       "      <td>8</td>\n",
       "      <td>159660.80</td>\n",
       "      <td>3</td>\n",
       "      <td>1</td>\n",
       "      <td>0</td>\n",
       "      <td>113931.57</td>\n",
       "      <td>1</td>\n",
       "    </tr>\n",
       "    <tr>\n",
       "      <th>3</th>\n",
       "      <td>4</td>\n",
       "      <td>15701354</td>\n",
       "      <td>Boni</td>\n",
       "      <td>699</td>\n",
       "      <td>France</td>\n",
       "      <td>Female</td>\n",
       "      <td>39</td>\n",
       "      <td>1</td>\n",
       "      <td>0.00</td>\n",
       "      <td>2</td>\n",
       "      <td>0</td>\n",
       "      <td>0</td>\n",
       "      <td>93826.63</td>\n",
       "      <td>0</td>\n",
       "    </tr>\n",
       "    <tr>\n",
       "      <th>4</th>\n",
       "      <td>5</td>\n",
       "      <td>15737888</td>\n",
       "      <td>Mitchell</td>\n",
       "      <td>850</td>\n",
       "      <td>Spain</td>\n",
       "      <td>Female</td>\n",
       "      <td>43</td>\n",
       "      <td>2</td>\n",
       "      <td>125510.82</td>\n",
       "      <td>1</td>\n",
       "      <td>1</td>\n",
       "      <td>1</td>\n",
       "      <td>79084.10</td>\n",
       "      <td>0</td>\n",
       "    </tr>\n",
       "  </tbody>\n",
       "</table>\n",
       "</div>"
      ],
      "text/plain": [
       "   RowNumber  CustomerId   Surname  CreditScore Geography  Gender  Age  \\\n",
       "0          1    15634602  Hargrave          619    France  Female   42   \n",
       "1          2    15647311      Hill          608     Spain  Female   41   \n",
       "2          3    15619304      Onio          502    France  Female   42   \n",
       "3          4    15701354      Boni          699    France  Female   39   \n",
       "4          5    15737888  Mitchell          850     Spain  Female   43   \n",
       "\n",
       "   Tenure    Balance  NumOfProducts  HasCrCard  IsActiveMember  \\\n",
       "0       2       0.00              1          1               1   \n",
       "1       1   83807.86              1          0               1   \n",
       "2       8  159660.80              3          1               0   \n",
       "3       1       0.00              2          0               0   \n",
       "4       2  125510.82              1          1               1   \n",
       "\n",
       "   EstimatedSalary  Exited  \n",
       "0        101348.88       1  \n",
       "1        112542.58       0  \n",
       "2        113931.57       1  \n",
       "3         93826.63       0  \n",
       "4         79084.10       0  "
      ]
     },
     "execution_count": 3,
     "metadata": {},
     "output_type": "execute_result"
    }
   ],
   "source": [
    "df = pd.read_csv('/kaggle/input/churn-modelling/Churn_Modelling.csv')\n",
    "df.head()"
   ]
  },
  {
   "cell_type": "code",
   "execution_count": 4,
   "id": "0fb37581",
   "metadata": {
    "execution": {
     "iopub.execute_input": "2022-07-20T13:00:35.516015Z",
     "iopub.status.busy": "2022-07-20T13:00:35.515331Z",
     "iopub.status.idle": "2022-07-20T13:00:35.522953Z",
     "shell.execute_reply": "2022-07-20T13:00:35.521766Z"
    },
    "papermill": {
     "duration": 0.029041,
     "end_time": "2022-07-20T13:00:35.525400",
     "exception": false,
     "start_time": "2022-07-20T13:00:35.496359",
     "status": "completed"
    },
    "tags": []
   },
   "outputs": [
    {
     "data": {
      "text/plain": [
       "(10000, 14)"
      ]
     },
     "execution_count": 4,
     "metadata": {},
     "output_type": "execute_result"
    }
   ],
   "source": [
    "df.shape"
   ]
  },
  {
   "cell_type": "code",
   "execution_count": 5,
   "id": "92de5ca1",
   "metadata": {
    "execution": {
     "iopub.execute_input": "2022-07-20T13:00:35.561869Z",
     "iopub.status.busy": "2022-07-20T13:00:35.561482Z",
     "iopub.status.idle": "2022-07-20T13:00:35.593251Z",
     "shell.execute_reply": "2022-07-20T13:00:35.591734Z"
    },
    "papermill": {
     "duration": 0.052861,
     "end_time": "2022-07-20T13:00:35.595812",
     "exception": false,
     "start_time": "2022-07-20T13:00:35.542951",
     "status": "completed"
    },
    "tags": []
   },
   "outputs": [
    {
     "name": "stdout",
     "output_type": "stream",
     "text": [
      "<class 'pandas.core.frame.DataFrame'>\n",
      "RangeIndex: 10000 entries, 0 to 9999\n",
      "Data columns (total 14 columns):\n",
      " #   Column           Non-Null Count  Dtype  \n",
      "---  ------           --------------  -----  \n",
      " 0   RowNumber        10000 non-null  int64  \n",
      " 1   CustomerId       10000 non-null  int64  \n",
      " 2   Surname          10000 non-null  object \n",
      " 3   CreditScore      10000 non-null  int64  \n",
      " 4   Geography        10000 non-null  object \n",
      " 5   Gender           10000 non-null  object \n",
      " 6   Age              10000 non-null  int64  \n",
      " 7   Tenure           10000 non-null  int64  \n",
      " 8   Balance          10000 non-null  float64\n",
      " 9   NumOfProducts    10000 non-null  int64  \n",
      " 10  HasCrCard        10000 non-null  int64  \n",
      " 11  IsActiveMember   10000 non-null  int64  \n",
      " 12  EstimatedSalary  10000 non-null  float64\n",
      " 13  Exited           10000 non-null  int64  \n",
      "dtypes: float64(2), int64(9), object(3)\n",
      "memory usage: 1.1+ MB\n"
     ]
    }
   ],
   "source": [
    "df.info()"
   ]
  },
  {
   "cell_type": "markdown",
   "id": "062f643f",
   "metadata": {
    "papermill": {
     "duration": 0.01698,
     "end_time": "2022-07-20T13:00:35.630353",
     "exception": false,
     "start_time": "2022-07-20T13:00:35.613373",
     "status": "completed"
    },
    "tags": []
   },
   "source": [
    "**CHECKING FOR NULL VALUES**"
   ]
  },
  {
   "cell_type": "code",
   "execution_count": 6,
   "id": "19139a46",
   "metadata": {
    "execution": {
     "iopub.execute_input": "2022-07-20T13:00:35.667667Z",
     "iopub.status.busy": "2022-07-20T13:00:35.666602Z",
     "iopub.status.idle": "2022-07-20T13:00:35.678858Z",
     "shell.execute_reply": "2022-07-20T13:00:35.677871Z"
    },
    "papermill": {
     "duration": 0.032876,
     "end_time": "2022-07-20T13:00:35.680969",
     "exception": false,
     "start_time": "2022-07-20T13:00:35.648093",
     "status": "completed"
    },
    "tags": []
   },
   "outputs": [
    {
     "data": {
      "text/plain": [
       "RowNumber          0\n",
       "CustomerId         0\n",
       "Surname            0\n",
       "CreditScore        0\n",
       "Geography          0\n",
       "Gender             0\n",
       "Age                0\n",
       "Tenure             0\n",
       "Balance            0\n",
       "NumOfProducts      0\n",
       "HasCrCard          0\n",
       "IsActiveMember     0\n",
       "EstimatedSalary    0\n",
       "Exited             0\n",
       "dtype: int64"
      ]
     },
     "execution_count": 6,
     "metadata": {},
     "output_type": "execute_result"
    }
   ],
   "source": [
    "df.isnull().sum()"
   ]
  },
  {
   "cell_type": "code",
   "execution_count": 7,
   "id": "29a16d12",
   "metadata": {
    "execution": {
     "iopub.execute_input": "2022-07-20T13:00:35.717837Z",
     "iopub.status.busy": "2022-07-20T13:00:35.717137Z",
     "iopub.status.idle": "2022-07-20T13:00:35.768126Z",
     "shell.execute_reply": "2022-07-20T13:00:35.767299Z"
    },
    "papermill": {
     "duration": 0.071962,
     "end_time": "2022-07-20T13:00:35.770466",
     "exception": false,
     "start_time": "2022-07-20T13:00:35.698504",
     "status": "completed"
    },
    "tags": []
   },
   "outputs": [
    {
     "data": {
      "text/html": [
       "<div>\n",
       "<style scoped>\n",
       "    .dataframe tbody tr th:only-of-type {\n",
       "        vertical-align: middle;\n",
       "    }\n",
       "\n",
       "    .dataframe tbody tr th {\n",
       "        vertical-align: top;\n",
       "    }\n",
       "\n",
       "    .dataframe thead th {\n",
       "        text-align: right;\n",
       "    }\n",
       "</style>\n",
       "<table border=\"1\" class=\"dataframe\">\n",
       "  <thead>\n",
       "    <tr style=\"text-align: right;\">\n",
       "      <th></th>\n",
       "      <th>RowNumber</th>\n",
       "      <th>CustomerId</th>\n",
       "      <th>CreditScore</th>\n",
       "      <th>Age</th>\n",
       "      <th>Tenure</th>\n",
       "      <th>Balance</th>\n",
       "      <th>NumOfProducts</th>\n",
       "      <th>HasCrCard</th>\n",
       "      <th>IsActiveMember</th>\n",
       "      <th>EstimatedSalary</th>\n",
       "      <th>Exited</th>\n",
       "    </tr>\n",
       "  </thead>\n",
       "  <tbody>\n",
       "    <tr>\n",
       "      <th>count</th>\n",
       "      <td>10000.00000</td>\n",
       "      <td>1.000000e+04</td>\n",
       "      <td>10000.000000</td>\n",
       "      <td>10000.000000</td>\n",
       "      <td>10000.000000</td>\n",
       "      <td>10000.000000</td>\n",
       "      <td>10000.000000</td>\n",
       "      <td>10000.00000</td>\n",
       "      <td>10000.000000</td>\n",
       "      <td>10000.000000</td>\n",
       "      <td>10000.000000</td>\n",
       "    </tr>\n",
       "    <tr>\n",
       "      <th>mean</th>\n",
       "      <td>5000.50000</td>\n",
       "      <td>1.569094e+07</td>\n",
       "      <td>650.528800</td>\n",
       "      <td>38.921800</td>\n",
       "      <td>5.012800</td>\n",
       "      <td>76485.889288</td>\n",
       "      <td>1.530200</td>\n",
       "      <td>0.70550</td>\n",
       "      <td>0.515100</td>\n",
       "      <td>100090.239881</td>\n",
       "      <td>0.203700</td>\n",
       "    </tr>\n",
       "    <tr>\n",
       "      <th>std</th>\n",
       "      <td>2886.89568</td>\n",
       "      <td>7.193619e+04</td>\n",
       "      <td>96.653299</td>\n",
       "      <td>10.487806</td>\n",
       "      <td>2.892174</td>\n",
       "      <td>62397.405202</td>\n",
       "      <td>0.581654</td>\n",
       "      <td>0.45584</td>\n",
       "      <td>0.499797</td>\n",
       "      <td>57510.492818</td>\n",
       "      <td>0.402769</td>\n",
       "    </tr>\n",
       "    <tr>\n",
       "      <th>min</th>\n",
       "      <td>1.00000</td>\n",
       "      <td>1.556570e+07</td>\n",
       "      <td>350.000000</td>\n",
       "      <td>18.000000</td>\n",
       "      <td>0.000000</td>\n",
       "      <td>0.000000</td>\n",
       "      <td>1.000000</td>\n",
       "      <td>0.00000</td>\n",
       "      <td>0.000000</td>\n",
       "      <td>11.580000</td>\n",
       "      <td>0.000000</td>\n",
       "    </tr>\n",
       "    <tr>\n",
       "      <th>25%</th>\n",
       "      <td>2500.75000</td>\n",
       "      <td>1.562853e+07</td>\n",
       "      <td>584.000000</td>\n",
       "      <td>32.000000</td>\n",
       "      <td>3.000000</td>\n",
       "      <td>0.000000</td>\n",
       "      <td>1.000000</td>\n",
       "      <td>0.00000</td>\n",
       "      <td>0.000000</td>\n",
       "      <td>51002.110000</td>\n",
       "      <td>0.000000</td>\n",
       "    </tr>\n",
       "    <tr>\n",
       "      <th>50%</th>\n",
       "      <td>5000.50000</td>\n",
       "      <td>1.569074e+07</td>\n",
       "      <td>652.000000</td>\n",
       "      <td>37.000000</td>\n",
       "      <td>5.000000</td>\n",
       "      <td>97198.540000</td>\n",
       "      <td>1.000000</td>\n",
       "      <td>1.00000</td>\n",
       "      <td>1.000000</td>\n",
       "      <td>100193.915000</td>\n",
       "      <td>0.000000</td>\n",
       "    </tr>\n",
       "    <tr>\n",
       "      <th>75%</th>\n",
       "      <td>7500.25000</td>\n",
       "      <td>1.575323e+07</td>\n",
       "      <td>718.000000</td>\n",
       "      <td>44.000000</td>\n",
       "      <td>7.000000</td>\n",
       "      <td>127644.240000</td>\n",
       "      <td>2.000000</td>\n",
       "      <td>1.00000</td>\n",
       "      <td>1.000000</td>\n",
       "      <td>149388.247500</td>\n",
       "      <td>0.000000</td>\n",
       "    </tr>\n",
       "    <tr>\n",
       "      <th>max</th>\n",
       "      <td>10000.00000</td>\n",
       "      <td>1.581569e+07</td>\n",
       "      <td>850.000000</td>\n",
       "      <td>92.000000</td>\n",
       "      <td>10.000000</td>\n",
       "      <td>250898.090000</td>\n",
       "      <td>4.000000</td>\n",
       "      <td>1.00000</td>\n",
       "      <td>1.000000</td>\n",
       "      <td>199992.480000</td>\n",
       "      <td>1.000000</td>\n",
       "    </tr>\n",
       "  </tbody>\n",
       "</table>\n",
       "</div>"
      ],
      "text/plain": [
       "         RowNumber    CustomerId   CreditScore           Age        Tenure  \\\n",
       "count  10000.00000  1.000000e+04  10000.000000  10000.000000  10000.000000   \n",
       "mean    5000.50000  1.569094e+07    650.528800     38.921800      5.012800   \n",
       "std     2886.89568  7.193619e+04     96.653299     10.487806      2.892174   \n",
       "min        1.00000  1.556570e+07    350.000000     18.000000      0.000000   \n",
       "25%     2500.75000  1.562853e+07    584.000000     32.000000      3.000000   \n",
       "50%     5000.50000  1.569074e+07    652.000000     37.000000      5.000000   \n",
       "75%     7500.25000  1.575323e+07    718.000000     44.000000      7.000000   \n",
       "max    10000.00000  1.581569e+07    850.000000     92.000000     10.000000   \n",
       "\n",
       "             Balance  NumOfProducts    HasCrCard  IsActiveMember  \\\n",
       "count   10000.000000   10000.000000  10000.00000    10000.000000   \n",
       "mean    76485.889288       1.530200      0.70550        0.515100   \n",
       "std     62397.405202       0.581654      0.45584        0.499797   \n",
       "min         0.000000       1.000000      0.00000        0.000000   \n",
       "25%         0.000000       1.000000      0.00000        0.000000   \n",
       "50%     97198.540000       1.000000      1.00000        1.000000   \n",
       "75%    127644.240000       2.000000      1.00000        1.000000   \n",
       "max    250898.090000       4.000000      1.00000        1.000000   \n",
       "\n",
       "       EstimatedSalary        Exited  \n",
       "count     10000.000000  10000.000000  \n",
       "mean     100090.239881      0.203700  \n",
       "std       57510.492818      0.402769  \n",
       "min          11.580000      0.000000  \n",
       "25%       51002.110000      0.000000  \n",
       "50%      100193.915000      0.000000  \n",
       "75%      149388.247500      0.000000  \n",
       "max      199992.480000      1.000000  "
      ]
     },
     "execution_count": 7,
     "metadata": {},
     "output_type": "execute_result"
    }
   ],
   "source": [
    "#getting overall description of the data : numerical\n",
    "df.describe()"
   ]
  },
  {
   "cell_type": "code",
   "execution_count": 8,
   "id": "84b3d3c9",
   "metadata": {
    "execution": {
     "iopub.execute_input": "2022-07-20T13:00:35.807725Z",
     "iopub.status.busy": "2022-07-20T13:00:35.807362Z",
     "iopub.status.idle": "2022-07-20T13:00:35.869176Z",
     "shell.execute_reply": "2022-07-20T13:00:35.868054Z"
    },
    "papermill": {
     "duration": 0.083153,
     "end_time": "2022-07-20T13:00:35.871516",
     "exception": false,
     "start_time": "2022-07-20T13:00:35.788363",
     "status": "completed"
    },
    "tags": []
   },
   "outputs": [
    {
     "data": {
      "text/html": [
       "<div>\n",
       "<style scoped>\n",
       "    .dataframe tbody tr th:only-of-type {\n",
       "        vertical-align: middle;\n",
       "    }\n",
       "\n",
       "    .dataframe tbody tr th {\n",
       "        vertical-align: top;\n",
       "    }\n",
       "\n",
       "    .dataframe thead th {\n",
       "        text-align: right;\n",
       "    }\n",
       "</style>\n",
       "<table border=\"1\" class=\"dataframe\">\n",
       "  <thead>\n",
       "    <tr style=\"text-align: right;\">\n",
       "      <th></th>\n",
       "      <th>RowNumber</th>\n",
       "      <th>CustomerId</th>\n",
       "      <th>Surname</th>\n",
       "      <th>CreditScore</th>\n",
       "      <th>Geography</th>\n",
       "      <th>Gender</th>\n",
       "      <th>Age</th>\n",
       "      <th>Tenure</th>\n",
       "      <th>Balance</th>\n",
       "      <th>NumOfProducts</th>\n",
       "      <th>HasCrCard</th>\n",
       "      <th>IsActiveMember</th>\n",
       "      <th>EstimatedSalary</th>\n",
       "      <th>Exited</th>\n",
       "    </tr>\n",
       "  </thead>\n",
       "  <tbody>\n",
       "    <tr>\n",
       "      <th>count</th>\n",
       "      <td>10000.00000</td>\n",
       "      <td>1.000000e+04</td>\n",
       "      <td>10000</td>\n",
       "      <td>10000.000000</td>\n",
       "      <td>10000</td>\n",
       "      <td>10000</td>\n",
       "      <td>10000.000000</td>\n",
       "      <td>10000.000000</td>\n",
       "      <td>10000.000000</td>\n",
       "      <td>10000.000000</td>\n",
       "      <td>10000.00000</td>\n",
       "      <td>10000.000000</td>\n",
       "      <td>10000.000000</td>\n",
       "      <td>10000.000000</td>\n",
       "    </tr>\n",
       "    <tr>\n",
       "      <th>unique</th>\n",
       "      <td>NaN</td>\n",
       "      <td>NaN</td>\n",
       "      <td>2932</td>\n",
       "      <td>NaN</td>\n",
       "      <td>3</td>\n",
       "      <td>2</td>\n",
       "      <td>NaN</td>\n",
       "      <td>NaN</td>\n",
       "      <td>NaN</td>\n",
       "      <td>NaN</td>\n",
       "      <td>NaN</td>\n",
       "      <td>NaN</td>\n",
       "      <td>NaN</td>\n",
       "      <td>NaN</td>\n",
       "    </tr>\n",
       "    <tr>\n",
       "      <th>top</th>\n",
       "      <td>NaN</td>\n",
       "      <td>NaN</td>\n",
       "      <td>Smith</td>\n",
       "      <td>NaN</td>\n",
       "      <td>France</td>\n",
       "      <td>Male</td>\n",
       "      <td>NaN</td>\n",
       "      <td>NaN</td>\n",
       "      <td>NaN</td>\n",
       "      <td>NaN</td>\n",
       "      <td>NaN</td>\n",
       "      <td>NaN</td>\n",
       "      <td>NaN</td>\n",
       "      <td>NaN</td>\n",
       "    </tr>\n",
       "    <tr>\n",
       "      <th>freq</th>\n",
       "      <td>NaN</td>\n",
       "      <td>NaN</td>\n",
       "      <td>32</td>\n",
       "      <td>NaN</td>\n",
       "      <td>5014</td>\n",
       "      <td>5457</td>\n",
       "      <td>NaN</td>\n",
       "      <td>NaN</td>\n",
       "      <td>NaN</td>\n",
       "      <td>NaN</td>\n",
       "      <td>NaN</td>\n",
       "      <td>NaN</td>\n",
       "      <td>NaN</td>\n",
       "      <td>NaN</td>\n",
       "    </tr>\n",
       "    <tr>\n",
       "      <th>mean</th>\n",
       "      <td>5000.50000</td>\n",
       "      <td>1.569094e+07</td>\n",
       "      <td>NaN</td>\n",
       "      <td>650.528800</td>\n",
       "      <td>NaN</td>\n",
       "      <td>NaN</td>\n",
       "      <td>38.921800</td>\n",
       "      <td>5.012800</td>\n",
       "      <td>76485.889288</td>\n",
       "      <td>1.530200</td>\n",
       "      <td>0.70550</td>\n",
       "      <td>0.515100</td>\n",
       "      <td>100090.239881</td>\n",
       "      <td>0.203700</td>\n",
       "    </tr>\n",
       "    <tr>\n",
       "      <th>std</th>\n",
       "      <td>2886.89568</td>\n",
       "      <td>7.193619e+04</td>\n",
       "      <td>NaN</td>\n",
       "      <td>96.653299</td>\n",
       "      <td>NaN</td>\n",
       "      <td>NaN</td>\n",
       "      <td>10.487806</td>\n",
       "      <td>2.892174</td>\n",
       "      <td>62397.405202</td>\n",
       "      <td>0.581654</td>\n",
       "      <td>0.45584</td>\n",
       "      <td>0.499797</td>\n",
       "      <td>57510.492818</td>\n",
       "      <td>0.402769</td>\n",
       "    </tr>\n",
       "    <tr>\n",
       "      <th>min</th>\n",
       "      <td>1.00000</td>\n",
       "      <td>1.556570e+07</td>\n",
       "      <td>NaN</td>\n",
       "      <td>350.000000</td>\n",
       "      <td>NaN</td>\n",
       "      <td>NaN</td>\n",
       "      <td>18.000000</td>\n",
       "      <td>0.000000</td>\n",
       "      <td>0.000000</td>\n",
       "      <td>1.000000</td>\n",
       "      <td>0.00000</td>\n",
       "      <td>0.000000</td>\n",
       "      <td>11.580000</td>\n",
       "      <td>0.000000</td>\n",
       "    </tr>\n",
       "    <tr>\n",
       "      <th>25%</th>\n",
       "      <td>2500.75000</td>\n",
       "      <td>1.562853e+07</td>\n",
       "      <td>NaN</td>\n",
       "      <td>584.000000</td>\n",
       "      <td>NaN</td>\n",
       "      <td>NaN</td>\n",
       "      <td>32.000000</td>\n",
       "      <td>3.000000</td>\n",
       "      <td>0.000000</td>\n",
       "      <td>1.000000</td>\n",
       "      <td>0.00000</td>\n",
       "      <td>0.000000</td>\n",
       "      <td>51002.110000</td>\n",
       "      <td>0.000000</td>\n",
       "    </tr>\n",
       "    <tr>\n",
       "      <th>50%</th>\n",
       "      <td>5000.50000</td>\n",
       "      <td>1.569074e+07</td>\n",
       "      <td>NaN</td>\n",
       "      <td>652.000000</td>\n",
       "      <td>NaN</td>\n",
       "      <td>NaN</td>\n",
       "      <td>37.000000</td>\n",
       "      <td>5.000000</td>\n",
       "      <td>97198.540000</td>\n",
       "      <td>1.000000</td>\n",
       "      <td>1.00000</td>\n",
       "      <td>1.000000</td>\n",
       "      <td>100193.915000</td>\n",
       "      <td>0.000000</td>\n",
       "    </tr>\n",
       "    <tr>\n",
       "      <th>75%</th>\n",
       "      <td>7500.25000</td>\n",
       "      <td>1.575323e+07</td>\n",
       "      <td>NaN</td>\n",
       "      <td>718.000000</td>\n",
       "      <td>NaN</td>\n",
       "      <td>NaN</td>\n",
       "      <td>44.000000</td>\n",
       "      <td>7.000000</td>\n",
       "      <td>127644.240000</td>\n",
       "      <td>2.000000</td>\n",
       "      <td>1.00000</td>\n",
       "      <td>1.000000</td>\n",
       "      <td>149388.247500</td>\n",
       "      <td>0.000000</td>\n",
       "    </tr>\n",
       "    <tr>\n",
       "      <th>max</th>\n",
       "      <td>10000.00000</td>\n",
       "      <td>1.581569e+07</td>\n",
       "      <td>NaN</td>\n",
       "      <td>850.000000</td>\n",
       "      <td>NaN</td>\n",
       "      <td>NaN</td>\n",
       "      <td>92.000000</td>\n",
       "      <td>10.000000</td>\n",
       "      <td>250898.090000</td>\n",
       "      <td>4.000000</td>\n",
       "      <td>1.00000</td>\n",
       "      <td>1.000000</td>\n",
       "      <td>199992.480000</td>\n",
       "      <td>1.000000</td>\n",
       "    </tr>\n",
       "  </tbody>\n",
       "</table>\n",
       "</div>"
      ],
      "text/plain": [
       "          RowNumber    CustomerId Surname   CreditScore Geography Gender  \\\n",
       "count   10000.00000  1.000000e+04   10000  10000.000000     10000  10000   \n",
       "unique          NaN           NaN    2932           NaN         3      2   \n",
       "top             NaN           NaN   Smith           NaN    France   Male   \n",
       "freq            NaN           NaN      32           NaN      5014   5457   \n",
       "mean     5000.50000  1.569094e+07     NaN    650.528800       NaN    NaN   \n",
       "std      2886.89568  7.193619e+04     NaN     96.653299       NaN    NaN   \n",
       "min         1.00000  1.556570e+07     NaN    350.000000       NaN    NaN   \n",
       "25%      2500.75000  1.562853e+07     NaN    584.000000       NaN    NaN   \n",
       "50%      5000.50000  1.569074e+07     NaN    652.000000       NaN    NaN   \n",
       "75%      7500.25000  1.575323e+07     NaN    718.000000       NaN    NaN   \n",
       "max     10000.00000  1.581569e+07     NaN    850.000000       NaN    NaN   \n",
       "\n",
       "                 Age        Tenure        Balance  NumOfProducts    HasCrCard  \\\n",
       "count   10000.000000  10000.000000   10000.000000   10000.000000  10000.00000   \n",
       "unique           NaN           NaN            NaN            NaN          NaN   \n",
       "top              NaN           NaN            NaN            NaN          NaN   \n",
       "freq             NaN           NaN            NaN            NaN          NaN   \n",
       "mean       38.921800      5.012800   76485.889288       1.530200      0.70550   \n",
       "std        10.487806      2.892174   62397.405202       0.581654      0.45584   \n",
       "min        18.000000      0.000000       0.000000       1.000000      0.00000   \n",
       "25%        32.000000      3.000000       0.000000       1.000000      0.00000   \n",
       "50%        37.000000      5.000000   97198.540000       1.000000      1.00000   \n",
       "75%        44.000000      7.000000  127644.240000       2.000000      1.00000   \n",
       "max        92.000000     10.000000  250898.090000       4.000000      1.00000   \n",
       "\n",
       "        IsActiveMember  EstimatedSalary        Exited  \n",
       "count     10000.000000     10000.000000  10000.000000  \n",
       "unique             NaN              NaN           NaN  \n",
       "top                NaN              NaN           NaN  \n",
       "freq               NaN              NaN           NaN  \n",
       "mean          0.515100    100090.239881      0.203700  \n",
       "std           0.499797     57510.492818      0.402769  \n",
       "min           0.000000        11.580000      0.000000  \n",
       "25%           0.000000     51002.110000      0.000000  \n",
       "50%           1.000000    100193.915000      0.000000  \n",
       "75%           1.000000    149388.247500      0.000000  \n",
       "max           1.000000    199992.480000      1.000000  "
      ]
     },
     "execution_count": 8,
     "metadata": {},
     "output_type": "execute_result"
    }
   ],
   "source": [
    "#describe all categorical and numerical\n",
    "df.describe(include ='all')"
   ]
  },
  {
   "cell_type": "markdown",
   "id": "4d1a257b",
   "metadata": {
    "papermill": {
     "duration": 0.019127,
     "end_time": "2022-07-20T13:00:35.909779",
     "exception": false,
     "start_time": "2022-07-20T13:00:35.890652",
     "status": "completed"
    },
    "tags": []
   },
   "source": [
    "**DROPPING IRRELEVANT FEATURES**"
   ]
  },
  {
   "cell_type": "code",
   "execution_count": 9,
   "id": "c517c57f",
   "metadata": {
    "execution": {
     "iopub.execute_input": "2022-07-20T13:00:35.948370Z",
     "iopub.status.busy": "2022-07-20T13:00:35.947625Z",
     "iopub.status.idle": "2022-07-20T13:00:35.954965Z",
     "shell.execute_reply": "2022-07-20T13:00:35.953679Z"
    },
    "papermill": {
     "duration": 0.029063,
     "end_time": "2022-07-20T13:00:35.957105",
     "exception": false,
     "start_time": "2022-07-20T13:00:35.928042",
     "status": "completed"
    },
    "tags": []
   },
   "outputs": [
    {
     "data": {
      "text/plain": [
       "Index(['RowNumber', 'CustomerId', 'Surname', 'CreditScore', 'Geography',\n",
       "       'Gender', 'Age', 'Tenure', 'Balance', 'NumOfProducts', 'HasCrCard',\n",
       "       'IsActiveMember', 'EstimatedSalary', 'Exited'],\n",
       "      dtype='object')"
      ]
     },
     "execution_count": 9,
     "metadata": {},
     "output_type": "execute_result"
    }
   ],
   "source": [
    "df.columns"
   ]
  },
  {
   "cell_type": "code",
   "execution_count": 10,
   "id": "d4be0573",
   "metadata": {
    "execution": {
     "iopub.execute_input": "2022-07-20T13:00:35.995752Z",
     "iopub.status.busy": "2022-07-20T13:00:35.994985Z",
     "iopub.status.idle": "2022-07-20T13:00:36.001511Z",
     "shell.execute_reply": "2022-07-20T13:00:36.000692Z"
    },
    "papermill": {
     "duration": 0.028341,
     "end_time": "2022-07-20T13:00:36.003749",
     "exception": false,
     "start_time": "2022-07-20T13:00:35.975408",
     "status": "completed"
    },
    "tags": []
   },
   "outputs": [],
   "source": [
    "df.drop(['RowNumber' ,'CustomerId' ,'Surname'] , axis =1 ,inplace = True)"
   ]
  },
  {
   "cell_type": "code",
   "execution_count": 11,
   "id": "02448877",
   "metadata": {
    "execution": {
     "iopub.execute_input": "2022-07-20T13:00:36.043410Z",
     "iopub.status.busy": "2022-07-20T13:00:36.042583Z",
     "iopub.status.idle": "2022-07-20T13:00:36.063760Z",
     "shell.execute_reply": "2022-07-20T13:00:36.062663Z"
    },
    "papermill": {
     "duration": 0.043364,
     "end_time": "2022-07-20T13:00:36.065992",
     "exception": false,
     "start_time": "2022-07-20T13:00:36.022628",
     "status": "completed"
    },
    "tags": []
   },
   "outputs": [
    {
     "data": {
      "text/html": [
       "<div>\n",
       "<style scoped>\n",
       "    .dataframe tbody tr th:only-of-type {\n",
       "        vertical-align: middle;\n",
       "    }\n",
       "\n",
       "    .dataframe tbody tr th {\n",
       "        vertical-align: top;\n",
       "    }\n",
       "\n",
       "    .dataframe thead th {\n",
       "        text-align: right;\n",
       "    }\n",
       "</style>\n",
       "<table border=\"1\" class=\"dataframe\">\n",
       "  <thead>\n",
       "    <tr style=\"text-align: right;\">\n",
       "      <th></th>\n",
       "      <th>CreditScore</th>\n",
       "      <th>Geography</th>\n",
       "      <th>Gender</th>\n",
       "      <th>Age</th>\n",
       "      <th>Tenure</th>\n",
       "      <th>Balance</th>\n",
       "      <th>NumOfProducts</th>\n",
       "      <th>HasCrCard</th>\n",
       "      <th>IsActiveMember</th>\n",
       "      <th>EstimatedSalary</th>\n",
       "      <th>Exited</th>\n",
       "    </tr>\n",
       "  </thead>\n",
       "  <tbody>\n",
       "    <tr>\n",
       "      <th>0</th>\n",
       "      <td>619</td>\n",
       "      <td>France</td>\n",
       "      <td>Female</td>\n",
       "      <td>42</td>\n",
       "      <td>2</td>\n",
       "      <td>0.00</td>\n",
       "      <td>1</td>\n",
       "      <td>1</td>\n",
       "      <td>1</td>\n",
       "      <td>101348.88</td>\n",
       "      <td>1</td>\n",
       "    </tr>\n",
       "    <tr>\n",
       "      <th>1</th>\n",
       "      <td>608</td>\n",
       "      <td>Spain</td>\n",
       "      <td>Female</td>\n",
       "      <td>41</td>\n",
       "      <td>1</td>\n",
       "      <td>83807.86</td>\n",
       "      <td>1</td>\n",
       "      <td>0</td>\n",
       "      <td>1</td>\n",
       "      <td>112542.58</td>\n",
       "      <td>0</td>\n",
       "    </tr>\n",
       "    <tr>\n",
       "      <th>2</th>\n",
       "      <td>502</td>\n",
       "      <td>France</td>\n",
       "      <td>Female</td>\n",
       "      <td>42</td>\n",
       "      <td>8</td>\n",
       "      <td>159660.80</td>\n",
       "      <td>3</td>\n",
       "      <td>1</td>\n",
       "      <td>0</td>\n",
       "      <td>113931.57</td>\n",
       "      <td>1</td>\n",
       "    </tr>\n",
       "    <tr>\n",
       "      <th>3</th>\n",
       "      <td>699</td>\n",
       "      <td>France</td>\n",
       "      <td>Female</td>\n",
       "      <td>39</td>\n",
       "      <td>1</td>\n",
       "      <td>0.00</td>\n",
       "      <td>2</td>\n",
       "      <td>0</td>\n",
       "      <td>0</td>\n",
       "      <td>93826.63</td>\n",
       "      <td>0</td>\n",
       "    </tr>\n",
       "    <tr>\n",
       "      <th>4</th>\n",
       "      <td>850</td>\n",
       "      <td>Spain</td>\n",
       "      <td>Female</td>\n",
       "      <td>43</td>\n",
       "      <td>2</td>\n",
       "      <td>125510.82</td>\n",
       "      <td>1</td>\n",
       "      <td>1</td>\n",
       "      <td>1</td>\n",
       "      <td>79084.10</td>\n",
       "      <td>0</td>\n",
       "    </tr>\n",
       "    <tr>\n",
       "      <th>...</th>\n",
       "      <td>...</td>\n",
       "      <td>...</td>\n",
       "      <td>...</td>\n",
       "      <td>...</td>\n",
       "      <td>...</td>\n",
       "      <td>...</td>\n",
       "      <td>...</td>\n",
       "      <td>...</td>\n",
       "      <td>...</td>\n",
       "      <td>...</td>\n",
       "      <td>...</td>\n",
       "    </tr>\n",
       "    <tr>\n",
       "      <th>9995</th>\n",
       "      <td>771</td>\n",
       "      <td>France</td>\n",
       "      <td>Male</td>\n",
       "      <td>39</td>\n",
       "      <td>5</td>\n",
       "      <td>0.00</td>\n",
       "      <td>2</td>\n",
       "      <td>1</td>\n",
       "      <td>0</td>\n",
       "      <td>96270.64</td>\n",
       "      <td>0</td>\n",
       "    </tr>\n",
       "    <tr>\n",
       "      <th>9996</th>\n",
       "      <td>516</td>\n",
       "      <td>France</td>\n",
       "      <td>Male</td>\n",
       "      <td>35</td>\n",
       "      <td>10</td>\n",
       "      <td>57369.61</td>\n",
       "      <td>1</td>\n",
       "      <td>1</td>\n",
       "      <td>1</td>\n",
       "      <td>101699.77</td>\n",
       "      <td>0</td>\n",
       "    </tr>\n",
       "    <tr>\n",
       "      <th>9997</th>\n",
       "      <td>709</td>\n",
       "      <td>France</td>\n",
       "      <td>Female</td>\n",
       "      <td>36</td>\n",
       "      <td>7</td>\n",
       "      <td>0.00</td>\n",
       "      <td>1</td>\n",
       "      <td>0</td>\n",
       "      <td>1</td>\n",
       "      <td>42085.58</td>\n",
       "      <td>1</td>\n",
       "    </tr>\n",
       "    <tr>\n",
       "      <th>9998</th>\n",
       "      <td>772</td>\n",
       "      <td>Germany</td>\n",
       "      <td>Male</td>\n",
       "      <td>42</td>\n",
       "      <td>3</td>\n",
       "      <td>75075.31</td>\n",
       "      <td>2</td>\n",
       "      <td>1</td>\n",
       "      <td>0</td>\n",
       "      <td>92888.52</td>\n",
       "      <td>1</td>\n",
       "    </tr>\n",
       "    <tr>\n",
       "      <th>9999</th>\n",
       "      <td>792</td>\n",
       "      <td>France</td>\n",
       "      <td>Female</td>\n",
       "      <td>28</td>\n",
       "      <td>4</td>\n",
       "      <td>130142.79</td>\n",
       "      <td>1</td>\n",
       "      <td>1</td>\n",
       "      <td>0</td>\n",
       "      <td>38190.78</td>\n",
       "      <td>0</td>\n",
       "    </tr>\n",
       "  </tbody>\n",
       "</table>\n",
       "<p>10000 rows × 11 columns</p>\n",
       "</div>"
      ],
      "text/plain": [
       "      CreditScore Geography  Gender  Age  Tenure    Balance  NumOfProducts  \\\n",
       "0             619    France  Female   42       2       0.00              1   \n",
       "1             608     Spain  Female   41       1   83807.86              1   \n",
       "2             502    France  Female   42       8  159660.80              3   \n",
       "3             699    France  Female   39       1       0.00              2   \n",
       "4             850     Spain  Female   43       2  125510.82              1   \n",
       "...           ...       ...     ...  ...     ...        ...            ...   \n",
       "9995          771    France    Male   39       5       0.00              2   \n",
       "9996          516    France    Male   35      10   57369.61              1   \n",
       "9997          709    France  Female   36       7       0.00              1   \n",
       "9998          772   Germany    Male   42       3   75075.31              2   \n",
       "9999          792    France  Female   28       4  130142.79              1   \n",
       "\n",
       "      HasCrCard  IsActiveMember  EstimatedSalary  Exited  \n",
       "0             1               1        101348.88       1  \n",
       "1             0               1        112542.58       0  \n",
       "2             1               0        113931.57       1  \n",
       "3             0               0         93826.63       0  \n",
       "4             1               1         79084.10       0  \n",
       "...         ...             ...              ...     ...  \n",
       "9995          1               0         96270.64       0  \n",
       "9996          1               1        101699.77       0  \n",
       "9997          0               1         42085.58       1  \n",
       "9998          1               0         92888.52       1  \n",
       "9999          1               0         38190.78       0  \n",
       "\n",
       "[10000 rows x 11 columns]"
      ]
     },
     "execution_count": 11,
     "metadata": {},
     "output_type": "execute_result"
    }
   ],
   "source": [
    "df"
   ]
  },
  {
   "cell_type": "markdown",
   "id": "5adcf7bb",
   "metadata": {
    "papermill": {
     "duration": 0.018509,
     "end_time": "2022-07-20T13:00:36.104064",
     "exception": false,
     "start_time": "2022-07-20T13:00:36.085555",
     "status": "completed"
    },
    "tags": []
   },
   "source": [
    "**DATA VISUALISATION**"
   ]
  },
  {
   "cell_type": "code",
   "execution_count": 12,
   "id": "e159d505",
   "metadata": {
    "execution": {
     "iopub.execute_input": "2022-07-20T13:00:36.143877Z",
     "iopub.status.busy": "2022-07-20T13:00:36.143112Z",
     "iopub.status.idle": "2022-07-20T13:00:36.477052Z",
     "shell.execute_reply": "2022-07-20T13:00:36.475692Z"
    },
    "papermill": {
     "duration": 0.356784,
     "end_time": "2022-07-20T13:00:36.479744",
     "exception": false,
     "start_time": "2022-07-20T13:00:36.122960",
     "status": "completed"
    },
    "tags": []
   },
   "outputs": [
    {
     "name": "stderr",
     "output_type": "stream",
     "text": [
      "/opt/conda/lib/python3.7/site-packages/seaborn/distributions.py:2619: FutureWarning: `distplot` is a deprecated function and will be removed in a future version. Please adapt your code to use either `displot` (a figure-level function with similar flexibility) or `histplot` (an axes-level function for histograms).\n",
      "  warnings.warn(msg, FutureWarning)\n"
     ]
    },
    {
     "data": {
      "text/plain": [
       "<AxesSubplot:xlabel='CreditScore', ylabel='Density'>"
      ]
     },
     "execution_count": 12,
     "metadata": {},
     "output_type": "execute_result"
    },
    {
     "data": {
      "image/png": "[encoded data removed]",
      "text/plain": [
       "<Figure size 432x288 with 1 Axes>"
      ]
     },
     "metadata": {
      "needs_background": "light"
     },
     "output_type": "display_data"
    }
   ],
   "source": [
    "sns.distplot(df['CreditScore'] ,color ='m')"
   ]
  },
  {
   "cell_type": "code",
   "execution_count": 13,
   "id": "e5c17948",
   "metadata": {
    "execution": {
     "iopub.execute_input": "2022-07-20T13:00:36.522204Z",
     "iopub.status.busy": "2022-07-20T13:00:36.521450Z",
     "iopub.status.idle": "2022-07-20T13:00:36.742010Z",
     "shell.execute_reply": "2022-07-20T13:00:36.741148Z"
    },
    "papermill": {
     "duration": 0.243881,
     "end_time": "2022-07-20T13:00:36.744271",
     "exception": false,
     "start_time": "2022-07-20T13:00:36.500390",
     "status": "completed"
    },
    "tags": []
   },
   "outputs": [
    {
     "data": {
      "text/plain": [
       "<AxesSubplot:xlabel='CreditScore', ylabel='Count'>"
      ]
     },
     "execution_count": 13,
     "metadata": {},
     "output_type": "execute_result"
    },
    {
     "data": {
      "image/png": "[encoded data removed]",
      "text/plain": [
       "<Figure size 432x288 with 1 Axes>"
      ]
     },
     "metadata": {
      "needs_background": "light"
     },
     "output_type": "display_data"
    }
   ],
   "source": [
    "sns.histplot(df['CreditScore'])"
   ]
  },
  {
   "cell_type": "code",
   "execution_count": 14,
   "id": "5c471df6",
   "metadata": {
    "execution": {
     "iopub.execute_input": "2022-07-20T13:00:36.786114Z",
     "iopub.status.busy": "2022-07-20T13:00:36.785536Z",
     "iopub.status.idle": "2022-07-20T13:00:37.108618Z",
     "shell.execute_reply": "2022-07-20T13:00:37.107672Z"
    },
    "papermill": {
     "duration": 0.347135,
     "end_time": "2022-07-20T13:00:37.111043",
     "exception": false,
     "start_time": "2022-07-20T13:00:36.763908",
     "status": "completed"
    },
    "tags": []
   },
   "outputs": [
    {
     "name": "stderr",
     "output_type": "stream",
     "text": [
      "/opt/conda/lib/python3.7/site-packages/seaborn/_decorators.py:43: FutureWarning: Pass the following variables as keyword args: x, y. From version 0.12, the only valid positional argument will be `data`, and passing other arguments without an explicit keyword will result in an error or misinterpretation.\n",
      "  FutureWarning\n"
     ]
    },
    {
     "data": {
      "text/plain": [
       "<AxesSubplot:xlabel='Exited', ylabel='Age'>"
      ]
     },
     "execution_count": 14,
     "metadata": {},
     "output_type": "execute_result"
    },
    {
     "data": {
      "image/png": "[encoded data removed]",
      "text/plain": [
       "<Figure size 432x288 with 1 Axes>"
      ]
     },
     "metadata": {
      "needs_background": "light"
     },
     "output_type": "display_data"
    }
   ],
   "source": [
    "sns.barplot( df['Exited'] ,df['Age'] )"
   ]
  },
  {
   "cell_type": "code",
   "execution_count": 15,
   "id": "75361006",
   "metadata": {
    "execution": {
     "iopub.execute_input": "2022-07-20T13:00:37.154026Z",
     "iopub.status.busy": "2022-07-20T13:00:37.153307Z",
     "iopub.status.idle": "2022-07-20T13:00:37.162157Z",
     "shell.execute_reply": "2022-07-20T13:00:37.161376Z"
    },
    "papermill": {
     "duration": 0.033016,
     "end_time": "2022-07-20T13:00:37.164365",
     "exception": false,
     "start_time": "2022-07-20T13:00:37.131349",
     "status": "completed"
    },
    "tags": []
   },
   "outputs": [
    {
     "data": {
      "text/plain": [
       "Male      5457\n",
       "Female    4543\n",
       "Name: Gender, dtype: int64"
      ]
     },
     "execution_count": 15,
     "metadata": {},
     "output_type": "execute_result"
    }
   ],
   "source": [
    "df['Gender'].value_counts()"
   ]
  },
  {
   "cell_type": "code",
   "execution_count": 16,
   "id": "6d3d49cd",
   "metadata": {
    "execution": {
     "iopub.execute_input": "2022-07-20T13:00:37.208484Z",
     "iopub.status.busy": "2022-07-20T13:00:37.207774Z",
     "iopub.status.idle": "2022-07-20T13:00:37.400672Z",
     "shell.execute_reply": "2022-07-20T13:00:37.399807Z"
    },
    "papermill": {
     "duration": 0.217192,
     "end_time": "2022-07-20T13:00:37.402912",
     "exception": false,
     "start_time": "2022-07-20T13:00:37.185720",
     "status": "completed"
    },
    "tags": []
   },
   "outputs": [
    {
     "name": "stderr",
     "output_type": "stream",
     "text": [
      "/opt/conda/lib/python3.7/site-packages/seaborn/_decorators.py:43: FutureWarning: Pass the following variable as a keyword arg: x. From version 0.12, the only valid positional argument will be `data`, and passing other arguments without an explicit keyword will result in an error or misinterpretation.\n",
      "  FutureWarning\n"
     ]
    },
    {
     "data": {
      "text/plain": [
       "<AxesSubplot:xlabel='Gender', ylabel='count'>"
      ]
     },
     "execution_count": 16,
     "metadata": {},
     "output_type": "execute_result"
    },
    {
     "data": {
      "image/png": "[encoded data removed]",
      "text/plain": [
       "<Figure size 432x288 with 1 Axes>"
      ]
     },
     "metadata": {
      "needs_background": "light"
     },
     "output_type": "display_data"
    }
   ],
   "source": [
    "sns.countplot(df['Gender'] ,hue = df['Exited'] ,color ='y')"
   ]
  },
  {
   "cell_type": "code",
   "execution_count": 17,
   "id": "52b4330c",
   "metadata": {
    "execution": {
     "iopub.execute_input": "2022-07-20T13:00:37.447051Z",
     "iopub.status.busy": "2022-07-20T13:00:37.446329Z",
     "iopub.status.idle": "2022-07-20T13:00:37.455324Z",
     "shell.execute_reply": "2022-07-20T13:00:37.454492Z"
    },
    "papermill": {
     "duration": 0.033749,
     "end_time": "2022-07-20T13:00:37.457603",
     "exception": false,
     "start_time": "2022-07-20T13:00:37.423854",
     "status": "completed"
    },
    "tags": []
   },
   "outputs": [
    {
     "data": {
      "text/plain": [
       "France     5014\n",
       "Germany    2509\n",
       "Spain      2477\n",
       "Name: Geography, dtype: int64"
      ]
     },
     "execution_count": 17,
     "metadata": {},
     "output_type": "execute_result"
    }
   ],
   "source": [
    "df['Geography'].value_counts()"
   ]
  },
  {
   "cell_type": "code",
   "execution_count": 18,
   "id": "01cfbefd",
   "metadata": {
    "execution": {
     "iopub.execute_input": "2022-07-20T13:00:37.503022Z",
     "iopub.status.busy": "2022-07-20T13:00:37.502329Z",
     "iopub.status.idle": "2022-07-20T13:00:37.729496Z",
     "shell.execute_reply": "2022-07-20T13:00:37.728275Z"
    },
    "papermill": {
     "duration": 0.252815,
     "end_time": "2022-07-20T13:00:37.732096",
     "exception": false,
     "start_time": "2022-07-20T13:00:37.479281",
     "status": "completed"
    },
    "tags": []
   },
   "outputs": [
    {
     "name": "stderr",
     "output_type": "stream",
     "text": [
      "/opt/conda/lib/python3.7/site-packages/seaborn/_decorators.py:43: FutureWarning: Pass the following variable as a keyword arg: x. From version 0.12, the only valid positional argument will be `data`, and passing other arguments without an explicit keyword will result in an error or misinterpretation.\n",
      "  FutureWarning\n"
     ]
    },
    {
     "data": {
      "text/plain": [
       "<AxesSubplot:xlabel='Geography', ylabel='count'>"
      ]
     },
     "execution_count": 18,
     "metadata": {},
     "output_type": "execute_result"
    },
    {
     "data": {
      "image/png": "[encoded data removed]",
      "text/plain": [
       "<Figure size 432x288 with 1 Axes>"
      ]
     },
     "metadata": {
      "needs_background": "light"
     },
     "output_type": "display_data"
    }
   ],
   "source": [
    "sns.countplot(df['Geography'] ,hue= df['Exited'] ,color ='r')"
   ]
  },
  {
   "cell_type": "code",
   "execution_count": 19,
   "id": "da48d0e5",
   "metadata": {
    "execution": {
     "iopub.execute_input": "2022-07-20T13:00:37.777537Z",
     "iopub.status.busy": "2022-07-20T13:00:37.777152Z",
     "iopub.status.idle": "2022-07-20T13:00:37.956486Z",
     "shell.execute_reply": "2022-07-20T13:00:37.955612Z"
    },
    "papermill": {
     "duration": 0.205001,
     "end_time": "2022-07-20T13:00:37.958736",
     "exception": false,
     "start_time": "2022-07-20T13:00:37.753735",
     "status": "completed"
    },
    "tags": []
   },
   "outputs": [
    {
     "data": {
      "text/plain": [
       "<AxesSubplot:xlabel='IsActiveMember', ylabel='count'>"
      ]
     },
     "execution_count": 19,
     "metadata": {},
     "output_type": "execute_result"
    },
    {
     "data": {
      "image/png": "[encoded data removed]",
      "text/plain": [
       "<Figure size 432x288 with 1 Axes>"
      ]
     },
     "metadata": {
      "needs_background": "light"
     },
     "output_type": "display_data"
    }
   ],
   "source": [
    "sns.countplot(x= 'IsActiveMember' ,data = df  ,hue ='Exited')"
   ]
  },
  {
   "cell_type": "code",
   "execution_count": 20,
   "id": "2b2c2a01",
   "metadata": {
    "execution": {
     "iopub.execute_input": "2022-07-20T13:00:38.005242Z",
     "iopub.status.busy": "2022-07-20T13:00:38.004194Z",
     "iopub.status.idle": "2022-07-20T13:00:38.259909Z",
     "shell.execute_reply": "2022-07-20T13:00:38.258803Z"
    },
    "papermill": {
     "duration": 0.282019,
     "end_time": "2022-07-20T13:00:38.262660",
     "exception": false,
     "start_time": "2022-07-20T13:00:37.980641",
     "status": "completed"
    },
    "tags": []
   },
   "outputs": [
    {
     "name": "stderr",
     "output_type": "stream",
     "text": [
      "/opt/conda/lib/python3.7/site-packages/seaborn/distributions.py:2619: FutureWarning: `distplot` is a deprecated function and will be removed in a future version. Please adapt your code to use either `displot` (a figure-level function with similar flexibility) or `histplot` (an axes-level function for histograms).\n",
      "  warnings.warn(msg, FutureWarning)\n"
     ]
    },
    {
     "data": {
      "text/plain": [
       "<AxesSubplot:xlabel='EstimatedSalary', ylabel='Density'>"
      ]
     },
     "execution_count": 20,
     "metadata": {},
     "output_type": "execute_result"
    },
    {
     "data": {
      "image/png": "[encoded data removed]",
      "text/plain": [
       "<Figure size 432x288 with 1 Axes>"
      ]
     },
     "metadata": {
      "needs_background": "light"
     },
     "output_type": "display_data"
    }
   ],
   "source": [
    "sns.distplot(df['EstimatedSalary'],color ='r' ,)"
   ]
  },
  {
   "cell_type": "code",
   "execution_count": 21,
   "id": "a685c19b",
   "metadata": {
    "execution": {
     "iopub.execute_input": "2022-07-20T13:00:38.308932Z",
     "iopub.status.busy": "2022-07-20T13:00:38.308555Z",
     "iopub.status.idle": "2022-07-20T13:00:38.525676Z",
     "shell.execute_reply": "2022-07-20T13:00:38.524401Z"
    },
    "papermill": {
     "duration": 0.243603,
     "end_time": "2022-07-20T13:00:38.528390",
     "exception": false,
     "start_time": "2022-07-20T13:00:38.284787",
     "status": "completed"
    },
    "tags": []
   },
   "outputs": [
    {
     "data": {
      "text/plain": [
       "<AxesSubplot:xlabel='EstimatedSalary', ylabel='Density'>"
      ]
     },
     "execution_count": 21,
     "metadata": {},
     "output_type": "execute_result"
    },
    {
     "data": {
      "image/png": "[encoded data removed]",
      "text/plain": [
       "<Figure size 432x288 with 1 Axes>"
      ]
     },
     "metadata": {
      "needs_background": "light"
     },
     "output_type": "display_data"
    }
   ],
   "source": [
    "sns.kdeplot(df['EstimatedSalary'],color ='y' ,)"
   ]
  },
  {
   "cell_type": "markdown",
   "id": "b7237c2a",
   "metadata": {
    "papermill": {
     "duration": 0.026057,
     "end_time": "2022-07-20T13:00:38.577625",
     "exception": false,
     "start_time": "2022-07-20T13:00:38.551568",
     "status": "completed"
    },
    "tags": []
   },
   "source": [
    "**CORRELATION B/W ALL COLUMNS**"
   ]
  },
  {
   "cell_type": "code",
   "execution_count": 22,
   "id": "ff2c3e93",
   "metadata": {
    "execution": {
     "iopub.execute_input": "2022-07-20T13:00:38.624868Z",
     "iopub.status.busy": "2022-07-20T13:00:38.624475Z",
     "iopub.status.idle": "2022-07-20T13:00:38.632176Z",
     "shell.execute_reply": "2022-07-20T13:00:38.631109Z"
    },
    "papermill": {
     "duration": 0.0345,
     "end_time": "2022-07-20T13:00:38.634882",
     "exception": false,
     "start_time": "2022-07-20T13:00:38.600382",
     "status": "completed"
    },
    "tags": []
   },
   "outputs": [],
   "source": [
    "correlation = df.corr()"
   ]
  },
  {
   "cell_type": "code",
   "execution_count": 23,
   "id": "623980a5",
   "metadata": {
    "execution": {
     "iopub.execute_input": "2022-07-20T13:00:38.683113Z",
     "iopub.status.busy": "2022-07-20T13:00:38.682697Z",
     "iopub.status.idle": "2022-07-20T13:00:39.334566Z",
     "shell.execute_reply": "2022-07-20T13:00:39.333817Z"
    },
    "papermill": {
     "duration": 0.679151,
     "end_time": "2022-07-20T13:00:39.336939",
     "exception": false,
     "start_time": "2022-07-20T13:00:38.657788",
     "status": "completed"
    },
    "tags": []
   },
   "outputs": [
    {
     "data": {
      "text/plain": [
       "<AxesSubplot:>"
      ]
     },
     "execution_count": 23,
     "metadata": {},
     "output_type": "execute_result"
    },
    {
     "data": {
      "image/png": "[encoded data removed]",
      "text/plain": [
       "<Figure size 864x864 with 2 Axes>"
      ]
     },
     "metadata": {
      "needs_background": "light"
     },
     "output_type": "display_data"
    }
   ],
   "source": [
    "plt.figure(figsize = (12 ,12))\n",
    "sns.heatmap(correlation ,cbar = True , annot = True ,cmap ='PuOr_r' ,fmt='.2f' ,annot_kws={\"size\": 12})"
   ]
  },
  {
   "cell_type": "code",
   "execution_count": 24,
   "id": "befe798b",
   "metadata": {
    "execution": {
     "iopub.execute_input": "2022-07-20T13:00:39.386707Z",
     "iopub.status.busy": "2022-07-20T13:00:39.386205Z",
     "iopub.status.idle": "2022-07-20T13:00:39.555614Z",
     "shell.execute_reply": "2022-07-20T13:00:39.554508Z"
    },
    "papermill": {
     "duration": 0.197003,
     "end_time": "2022-07-20T13:00:39.557875",
     "exception": false,
     "start_time": "2022-07-20T13:00:39.360872",
     "status": "completed"
    },
    "tags": []
   },
   "outputs": [
    {
     "name": "stderr",
     "output_type": "stream",
     "text": [
      "/opt/conda/lib/python3.7/site-packages/seaborn/_decorators.py:43: FutureWarning: Pass the following variable as a keyword arg: x. From version 0.12, the only valid positional argument will be `data`, and passing other arguments without an explicit keyword will result in an error or misinterpretation.\n",
      "  FutureWarning\n"
     ]
    },
    {
     "data": {
      "text/plain": [
       "<AxesSubplot:xlabel='Exited', ylabel='count'>"
      ]
     },
     "execution_count": 24,
     "metadata": {},
     "output_type": "execute_result"
    },
    {
     "data": {
      "image/png": "[encoded data removed]",
      "text/plain": [
       "<Figure size 432x288 with 1 Axes>"
      ]
     },
     "metadata": {
      "needs_background": "light"
     },
     "output_type": "display_data"
    }
   ],
   "source": [
    "sns.countplot(df['Exited'])"
   ]
  },
  {
   "cell_type": "markdown",
   "id": "42f4790f",
   "metadata": {
    "papermill": {
     "duration": 0.024098,
     "end_time": "2022-07-20T13:00:39.606131",
     "exception": false,
     "start_time": "2022-07-20T13:00:39.582033",
     "status": "completed"
    },
    "tags": []
   },
   "source": [
    "* THIS SHOWS WE HAVE HIGHLY IMBALANCED DATA \n",
    "* WE HAVE TO MAKE DATA BALANCED INORDER TO GET CORRECT PREFECT PREDICTION \n",
    "* WAYS : UNDERSAMPLING AND OVERSAMPLING \n",
    "* UNDERSAMPLING MAY LEAD TO HIGH IMP DATA LOSS SO WE WOULD PREFER OVERSAMPLING\n"
   ]
  },
  {
   "cell_type": "code",
   "execution_count": 25,
   "id": "1d630a55",
   "metadata": {
    "execution": {
     "iopub.execute_input": "2022-07-20T13:00:39.657455Z",
     "iopub.status.busy": "2022-07-20T13:00:39.657011Z",
     "iopub.status.idle": "2022-07-20T13:00:39.664143Z",
     "shell.execute_reply": "2022-07-20T13:00:39.663094Z"
    },
    "papermill": {
     "duration": 0.035158,
     "end_time": "2022-07-20T13:00:39.666342",
     "exception": false,
     "start_time": "2022-07-20T13:00:39.631184",
     "status": "completed"
    },
    "tags": []
   },
   "outputs": [
    {
     "data": {
      "text/plain": [
       "Index(['CreditScore', 'Geography', 'Gender', 'Age', 'Tenure', 'Balance',\n",
       "       'NumOfProducts', 'HasCrCard', 'IsActiveMember', 'EstimatedSalary',\n",
       "       'Exited'],\n",
       "      dtype='object')"
      ]
     },
     "execution_count": 25,
     "metadata": {},
     "output_type": "execute_result"
    }
   ],
   "source": [
    "df.columns"
   ]
  },
  {
   "cell_type": "code",
   "execution_count": 26,
   "id": "c2891987",
   "metadata": {
    "execution": {
     "iopub.execute_input": "2022-07-20T13:00:39.716772Z",
     "iopub.status.busy": "2022-07-20T13:00:39.716407Z",
     "iopub.status.idle": "2022-07-20T13:00:40.227018Z",
     "shell.execute_reply": "2022-07-20T13:00:40.225808Z"
    },
    "papermill": {
     "duration": 0.53904,
     "end_time": "2022-07-20T13:00:40.229570",
     "exception": false,
     "start_time": "2022-07-20T13:00:39.690530",
     "status": "completed"
    },
    "tags": []
   },
   "outputs": [
    {
     "name": "stderr",
     "output_type": "stream",
     "text": [
      "/opt/conda/lib/python3.7/site-packages/seaborn/_decorators.py:43: FutureWarning: Pass the following variables as keyword args: x, y. From version 0.12, the only valid positional argument will be `data`, and passing other arguments without an explicit keyword will result in an error or misinterpretation.\n",
      "  FutureWarning\n"
     ]
    },
    {
     "data": {
      "text/plain": [
       "<AxesSubplot:xlabel='Exited', ylabel='NumOfProducts'>"
      ]
     },
     "execution_count": 26,
     "metadata": {},
     "output_type": "execute_result"
    },
    {
     "data": {
      "image/png": "[encoded data removed]",
      "text/plain": [
       "<Figure size 432x288 with 1 Axes>"
      ]
     },
     "metadata": {
      "needs_background": "light"
     },
     "output_type": "display_data"
    }
   ],
   "source": [
    "sns.lineplot(df['Exited'] ,df['NumOfProducts'])"
   ]
  },
  {
   "cell_type": "code",
   "execution_count": 27,
   "id": "51a07b01",
   "metadata": {
    "execution": {
     "iopub.execute_input": "2022-07-20T13:00:40.281472Z",
     "iopub.status.busy": "2022-07-20T13:00:40.280840Z",
     "iopub.status.idle": "2022-07-20T13:00:40.464416Z",
     "shell.execute_reply": "2022-07-20T13:00:40.463147Z"
    },
    "papermill": {
     "duration": 0.212344,
     "end_time": "2022-07-20T13:00:40.466931",
     "exception": false,
     "start_time": "2022-07-20T13:00:40.254587",
     "status": "completed"
    },
    "tags": []
   },
   "outputs": [
    {
     "name": "stderr",
     "output_type": "stream",
     "text": [
      "/opt/conda/lib/python3.7/site-packages/seaborn/_decorators.py:43: FutureWarning: Pass the following variable as a keyword arg: x. From version 0.12, the only valid positional argument will be `data`, and passing other arguments without an explicit keyword will result in an error or misinterpretation.\n",
      "  FutureWarning\n"
     ]
    },
    {
     "data": {
      "text/plain": [
       "<AxesSubplot:xlabel='Exited', ylabel='count'>"
      ]
     },
     "execution_count": 27,
     "metadata": {},
     "output_type": "execute_result"
    },
    {
     "data": {
      "image/png": "[encoded data removed]",
      "text/plain": [
       "<Figure size 432x288 with 1 Axes>"
      ]
     },
     "metadata": {
      "needs_background": "light"
     },
     "output_type": "display_data"
    }
   ],
   "source": [
    "sns.countplot(df['Exited'] ,hue=df['HasCrCard'] ,color ='m' )"
   ]
  },
  {
   "cell_type": "code",
   "execution_count": 28,
   "id": "de2d96e4",
   "metadata": {
    "execution": {
     "iopub.execute_input": "2022-07-20T13:00:40.520144Z",
     "iopub.status.busy": "2022-07-20T13:00:40.519768Z",
     "iopub.status.idle": "2022-07-20T13:00:40.700378Z",
     "shell.execute_reply": "2022-07-20T13:00:40.699525Z"
    },
    "papermill": {
     "duration": 0.209792,
     "end_time": "2022-07-20T13:00:40.702788",
     "exception": false,
     "start_time": "2022-07-20T13:00:40.492996",
     "status": "completed"
    },
    "tags": []
   },
   "outputs": [
    {
     "name": "stderr",
     "output_type": "stream",
     "text": [
      "/opt/conda/lib/python3.7/site-packages/seaborn/_decorators.py:43: FutureWarning: Pass the following variable as a keyword arg: x. From version 0.12, the only valid positional argument will be `data`, and passing other arguments without an explicit keyword will result in an error or misinterpretation.\n",
      "  FutureWarning\n"
     ]
    },
    {
     "data": {
      "text/plain": [
       "<AxesSubplot:xlabel='IsActiveMember', ylabel='count'>"
      ]
     },
     "execution_count": 28,
     "metadata": {},
     "output_type": "execute_result"
    },
    {
     "data": {
      "image/png": "[encoded data removed]",
      "text/plain": [
       "<Figure size 432x288 with 1 Axes>"
      ]
     },
     "metadata": {
      "needs_background": "light"
     },
     "output_type": "display_data"
    }
   ],
   "source": [
    "sns.countplot(df['IsActiveMember'] ,hue = df['Exited'] , color = 'g')"
   ]
  },
  {
   "cell_type": "markdown",
   "id": "1f9eb31b",
   "metadata": {
    "papermill": {
     "duration": 0.026219,
     "end_time": "2022-07-20T13:00:40.754884",
     "exception": false,
     "start_time": "2022-07-20T13:00:40.728665",
     "status": "completed"
    },
    "tags": []
   },
   "source": [
    "**HANDLING CATEGORICAL VALUES**\n"
   ]
  },
  {
   "cell_type": "code",
   "execution_count": 29,
   "id": "bbaf31df",
   "metadata": {
    "execution": {
     "iopub.execute_input": "2022-07-20T13:00:40.810680Z",
     "iopub.status.busy": "2022-07-20T13:00:40.809539Z",
     "iopub.status.idle": "2022-07-20T13:00:40.818773Z",
     "shell.execute_reply": "2022-07-20T13:00:40.817773Z"
    },
    "papermill": {
     "duration": 0.039882,
     "end_time": "2022-07-20T13:00:40.820919",
     "exception": false,
     "start_time": "2022-07-20T13:00:40.781037",
     "status": "completed"
    },
    "tags": []
   },
   "outputs": [
    {
     "data": {
      "text/plain": [
       "Index(['Geography', 'Gender'], dtype='object')"
      ]
     },
     "execution_count": 29,
     "metadata": {},
     "output_type": "execute_result"
    }
   ],
   "source": [
    "df.select_dtypes('object').columns"
   ]
  },
  {
   "cell_type": "code",
   "execution_count": 30,
   "id": "ab27da4c",
   "metadata": {
    "execution": {
     "iopub.execute_input": "2022-07-20T13:00:40.878543Z",
     "iopub.status.busy": "2022-07-20T13:00:40.877320Z",
     "iopub.status.idle": "2022-07-20T13:00:40.891972Z",
     "shell.execute_reply": "2022-07-20T13:00:40.890773Z"
    },
    "papermill": {
     "duration": 0.04651,
     "end_time": "2022-07-20T13:00:40.894401",
     "exception": false,
     "start_time": "2022-07-20T13:00:40.847891",
     "status": "completed"
    },
    "tags": []
   },
   "outputs": [],
   "source": [
    "df = pd.get_dummies(df , drop_first = True)\n",
    "#drop first  = true inorder to remove dummy variable trap"
   ]
  },
  {
   "cell_type": "code",
   "execution_count": 31,
   "id": "a5ff9e8c",
   "metadata": {
    "execution": {
     "iopub.execute_input": "2022-07-20T13:00:40.950098Z",
     "iopub.status.busy": "2022-07-20T13:00:40.948926Z",
     "iopub.status.idle": "2022-07-20T13:00:40.969054Z",
     "shell.execute_reply": "2022-07-20T13:00:40.967991Z"
    },
    "papermill": {
     "duration": 0.050327,
     "end_time": "2022-07-20T13:00:40.971419",
     "exception": false,
     "start_time": "2022-07-20T13:00:40.921092",
     "status": "completed"
    },
    "tags": []
   },
   "outputs": [
    {
     "data": {
      "text/html": [
       "<div>\n",
       "<style scoped>\n",
       "    .dataframe tbody tr th:only-of-type {\n",
       "        vertical-align: middle;\n",
       "    }\n",
       "\n",
       "    .dataframe tbody tr th {\n",
       "        vertical-align: top;\n",
       "    }\n",
       "\n",
       "    .dataframe thead th {\n",
       "        text-align: right;\n",
       "    }\n",
       "</style>\n",
       "<table border=\"1\" class=\"dataframe\">\n",
       "  <thead>\n",
       "    <tr style=\"text-align: right;\">\n",
       "      <th></th>\n",
       "      <th>CreditScore</th>\n",
       "      <th>Age</th>\n",
       "      <th>Tenure</th>\n",
       "      <th>Balance</th>\n",
       "      <th>NumOfProducts</th>\n",
       "      <th>HasCrCard</th>\n",
       "      <th>IsActiveMember</th>\n",
       "      <th>EstimatedSalary</th>\n",
       "      <th>Exited</th>\n",
       "      <th>Geography_Germany</th>\n",
       "      <th>Geography_Spain</th>\n",
       "      <th>Gender_Male</th>\n",
       "    </tr>\n",
       "  </thead>\n",
       "  <tbody>\n",
       "    <tr>\n",
       "      <th>0</th>\n",
       "      <td>619</td>\n",
       "      <td>42</td>\n",
       "      <td>2</td>\n",
       "      <td>0.00</td>\n",
       "      <td>1</td>\n",
       "      <td>1</td>\n",
       "      <td>1</td>\n",
       "      <td>101348.88</td>\n",
       "      <td>1</td>\n",
       "      <td>0</td>\n",
       "      <td>0</td>\n",
       "      <td>0</td>\n",
       "    </tr>\n",
       "    <tr>\n",
       "      <th>1</th>\n",
       "      <td>608</td>\n",
       "      <td>41</td>\n",
       "      <td>1</td>\n",
       "      <td>83807.86</td>\n",
       "      <td>1</td>\n",
       "      <td>0</td>\n",
       "      <td>1</td>\n",
       "      <td>112542.58</td>\n",
       "      <td>0</td>\n",
       "      <td>0</td>\n",
       "      <td>1</td>\n",
       "      <td>0</td>\n",
       "    </tr>\n",
       "    <tr>\n",
       "      <th>2</th>\n",
       "      <td>502</td>\n",
       "      <td>42</td>\n",
       "      <td>8</td>\n",
       "      <td>159660.80</td>\n",
       "      <td>3</td>\n",
       "      <td>1</td>\n",
       "      <td>0</td>\n",
       "      <td>113931.57</td>\n",
       "      <td>1</td>\n",
       "      <td>0</td>\n",
       "      <td>0</td>\n",
       "      <td>0</td>\n",
       "    </tr>\n",
       "    <tr>\n",
       "      <th>3</th>\n",
       "      <td>699</td>\n",
       "      <td>39</td>\n",
       "      <td>1</td>\n",
       "      <td>0.00</td>\n",
       "      <td>2</td>\n",
       "      <td>0</td>\n",
       "      <td>0</td>\n",
       "      <td>93826.63</td>\n",
       "      <td>0</td>\n",
       "      <td>0</td>\n",
       "      <td>0</td>\n",
       "      <td>0</td>\n",
       "    </tr>\n",
       "    <tr>\n",
       "      <th>4</th>\n",
       "      <td>850</td>\n",
       "      <td>43</td>\n",
       "      <td>2</td>\n",
       "      <td>125510.82</td>\n",
       "      <td>1</td>\n",
       "      <td>1</td>\n",
       "      <td>1</td>\n",
       "      <td>79084.10</td>\n",
       "      <td>0</td>\n",
       "      <td>0</td>\n",
       "      <td>1</td>\n",
       "      <td>0</td>\n",
       "    </tr>\n",
       "    <tr>\n",
       "      <th>...</th>\n",
       "      <td>...</td>\n",
       "      <td>...</td>\n",
       "      <td>...</td>\n",
       "      <td>...</td>\n",
       "      <td>...</td>\n",
       "      <td>...</td>\n",
       "      <td>...</td>\n",
       "      <td>...</td>\n",
       "      <td>...</td>\n",
       "      <td>...</td>\n",
       "      <td>...</td>\n",
       "      <td>...</td>\n",
       "    </tr>\n",
       "    <tr>\n",
       "      <th>9995</th>\n",
       "      <td>771</td>\n",
       "      <td>39</td>\n",
       "      <td>5</td>\n",
       "      <td>0.00</td>\n",
       "      <td>2</td>\n",
       "      <td>1</td>\n",
       "      <td>0</td>\n",
       "      <td>96270.64</td>\n",
       "      <td>0</td>\n",
       "      <td>0</td>\n",
       "      <td>0</td>\n",
       "      <td>1</td>\n",
       "    </tr>\n",
       "    <tr>\n",
       "      <th>9996</th>\n",
       "      <td>516</td>\n",
       "      <td>35</td>\n",
       "      <td>10</td>\n",
       "      <td>57369.61</td>\n",
       "      <td>1</td>\n",
       "      <td>1</td>\n",
       "      <td>1</td>\n",
       "      <td>101699.77</td>\n",
       "      <td>0</td>\n",
       "      <td>0</td>\n",
       "      <td>0</td>\n",
       "      <td>1</td>\n",
       "    </tr>\n",
       "    <tr>\n",
       "      <th>9997</th>\n",
       "      <td>709</td>\n",
       "      <td>36</td>\n",
       "      <td>7</td>\n",
       "      <td>0.00</td>\n",
       "      <td>1</td>\n",
       "      <td>0</td>\n",
       "      <td>1</td>\n",
       "      <td>42085.58</td>\n",
       "      <td>1</td>\n",
       "      <td>0</td>\n",
       "      <td>0</td>\n",
       "      <td>0</td>\n",
       "    </tr>\n",
       "    <tr>\n",
       "      <th>9998</th>\n",
       "      <td>772</td>\n",
       "      <td>42</td>\n",
       "      <td>3</td>\n",
       "      <td>75075.31</td>\n",
       "      <td>2</td>\n",
       "      <td>1</td>\n",
       "      <td>0</td>\n",
       "      <td>92888.52</td>\n",
       "      <td>1</td>\n",
       "      <td>1</td>\n",
       "      <td>0</td>\n",
       "      <td>1</td>\n",
       "    </tr>\n",
       "    <tr>\n",
       "      <th>9999</th>\n",
       "      <td>792</td>\n",
       "      <td>28</td>\n",
       "      <td>4</td>\n",
       "      <td>130142.79</td>\n",
       "      <td>1</td>\n",
       "      <td>1</td>\n",
       "      <td>0</td>\n",
       "      <td>38190.78</td>\n",
       "      <td>0</td>\n",
       "      <td>0</td>\n",
       "      <td>0</td>\n",
       "      <td>0</td>\n",
       "    </tr>\n",
       "  </tbody>\n",
       "</table>\n",
       "<p>10000 rows × 12 columns</p>\n",
       "</div>"
      ],
      "text/plain": [
       "      CreditScore  Age  Tenure    Balance  NumOfProducts  HasCrCard  \\\n",
       "0             619   42       2       0.00              1          1   \n",
       "1             608   41       1   83807.86              1          0   \n",
       "2             502   42       8  159660.80              3          1   \n",
       "3             699   39       1       0.00              2          0   \n",
       "4             850   43       2  125510.82              1          1   \n",
       "...           ...  ...     ...        ...            ...        ...   \n",
       "9995          771   39       5       0.00              2          1   \n",
       "9996          516   35      10   57369.61              1          1   \n",
       "9997          709   36       7       0.00              1          0   \n",
       "9998          772   42       3   75075.31              2          1   \n",
       "9999          792   28       4  130142.79              1          1   \n",
       "\n",
       "      IsActiveMember  EstimatedSalary  Exited  Geography_Germany  \\\n",
       "0                  1        101348.88       1                  0   \n",
       "1                  1        112542.58       0                  0   \n",
       "2                  0        113931.57       1                  0   \n",
       "3                  0         93826.63       0                  0   \n",
       "4                  1         79084.10       0                  0   \n",
       "...              ...              ...     ...                ...   \n",
       "9995               0         96270.64       0                  0   \n",
       "9996               1        101699.77       0                  0   \n",
       "9997               1         42085.58       1                  0   \n",
       "9998               0         92888.52       1                  1   \n",
       "9999               0         38190.78       0                  0   \n",
       "\n",
       "      Geography_Spain  Gender_Male  \n",
       "0                   0            0  \n",
       "1                   1            0  \n",
       "2                   0            0  \n",
       "3                   0            0  \n",
       "4                   1            0  \n",
       "...               ...          ...  \n",
       "9995                0            1  \n",
       "9996                0            1  \n",
       "9997                0            0  \n",
       "9998                0            1  \n",
       "9999                0            0  \n",
       "\n",
       "[10000 rows x 12 columns]"
      ]
     },
     "execution_count": 31,
     "metadata": {},
     "output_type": "execute_result"
    }
   ],
   "source": [
    "df"
   ]
  },
  {
   "cell_type": "markdown",
   "id": "e8adfbc8",
   "metadata": {
    "papermill": {
     "duration": 0.027553,
     "end_time": "2022-07-20T13:00:41.026351",
     "exception": false,
     "start_time": "2022-07-20T13:00:40.998798",
     "status": "completed"
    },
    "tags": []
   },
   "source": [
    "**SPLIT DATA**"
   ]
  },
  {
   "cell_type": "code",
   "execution_count": 32,
   "id": "edb05f0d",
   "metadata": {
    "execution": {
     "iopub.execute_input": "2022-07-20T13:00:41.082117Z",
     "iopub.status.busy": "2022-07-20T13:00:41.081508Z",
     "iopub.status.idle": "2022-07-20T13:00:41.089752Z",
     "shell.execute_reply": "2022-07-20T13:00:41.088499Z"
    },
    "papermill": {
     "duration": 0.03836,
     "end_time": "2022-07-20T13:00:41.092015",
     "exception": false,
     "start_time": "2022-07-20T13:00:41.053655",
     "status": "completed"
    },
    "tags": []
   },
   "outputs": [
    {
     "name": "stdout",
     "output_type": "stream",
     "text": [
      "(10000, 12) (10000, 11) (10000,)\n"
     ]
    }
   ],
   "source": [
    "x = df.drop('Exited' , axis =1)\n",
    "y = df['Exited']\n",
    "\n",
    "print(df.shape ,x.shape , y.shape)"
   ]
  },
  {
   "cell_type": "markdown",
   "id": "b13d5975",
   "metadata": {
    "papermill": {
     "duration": 0.026432,
     "end_time": "2022-07-20T13:00:41.145542",
     "exception": false,
     "start_time": "2022-07-20T13:00:41.119110",
     "status": "completed"
    },
    "tags": []
   },
   "source": [
    "**HANDING IMBALANCED DATA USING SMOTE(OVER SAMPLING)**"
   ]
  },
  {
   "cell_type": "code",
   "execution_count": 33,
   "id": "3380cb4b",
   "metadata": {
    "execution": {
     "iopub.execute_input": "2022-07-20T13:00:41.201999Z",
     "iopub.status.busy": "2022-07-20T13:00:41.201387Z",
     "iopub.status.idle": "2022-07-20T13:00:41.370013Z",
     "shell.execute_reply": "2022-07-20T13:00:41.368888Z"
    },
    "papermill": {
     "duration": 0.199597,
     "end_time": "2022-07-20T13:00:41.372416",
     "exception": false,
     "start_time": "2022-07-20T13:00:41.172819",
     "status": "completed"
    },
    "tags": []
   },
   "outputs": [
    {
     "name": "stderr",
     "output_type": "stream",
     "text": [
      "/opt/conda/lib/python3.7/site-packages/seaborn/_decorators.py:43: FutureWarning: Pass the following variable as a keyword arg: x. From version 0.12, the only valid positional argument will be `data`, and passing other arguments without an explicit keyword will result in an error or misinterpretation.\n",
      "  FutureWarning\n"
     ]
    },
    {
     "data": {
      "text/plain": [
       "<AxesSubplot:xlabel='Exited', ylabel='count'>"
      ]
     },
     "execution_count": 33,
     "metadata": {},
     "output_type": "execute_result"
    },
    {
     "data": {
      "image/png": "[encoded data removed]",
      "text/plain": [
       "<Figure size 432x288 with 1 Axes>"
      ]
     },
     "metadata": {
      "needs_background": "light"
     },
     "output_type": "display_data"
    }
   ],
   "source": [
    "sns.countplot(df['Exited'])"
   ]
  },
  {
   "cell_type": "code",
   "execution_count": 34,
   "id": "714a62ea",
   "metadata": {
    "execution": {
     "iopub.execute_input": "2022-07-20T13:00:41.430374Z",
     "iopub.status.busy": "2022-07-20T13:00:41.429212Z",
     "iopub.status.idle": "2022-07-20T13:00:41.466048Z",
     "shell.execute_reply": "2022-07-20T13:00:41.464926Z"
    },
    "papermill": {
     "duration": 0.069017,
     "end_time": "2022-07-20T13:00:41.468593",
     "exception": false,
     "start_time": "2022-07-20T13:00:41.399576",
     "status": "completed"
    },
    "tags": []
   },
   "outputs": [
    {
     "data": {
      "text/plain": [
       "1    7963\n",
       "0    7963\n",
       "Name: Exited, dtype: int64"
      ]
     },
     "execution_count": 34,
     "metadata": {},
     "output_type": "execute_result"
    }
   ],
   "source": [
    "smt = SMOTE()\n",
    "x_res , y_res  = smt.fit_resample(x,y)\n",
    "y_res.value_counts()\n",
    "#now we got balanced data "
   ]
  },
  {
   "cell_type": "markdown",
   "id": "1dbbde89",
   "metadata": {
    "papermill": {
     "duration": 0.028221,
     "end_time": "2022-07-20T13:00:41.525468",
     "exception": false,
     "start_time": "2022-07-20T13:00:41.497247",
     "status": "completed"
    },
    "tags": []
   },
   "source": [
    "**SPLITTING DATA INTO TRAINING AND TESTING DATA**"
   ]
  },
  {
   "cell_type": "code",
   "execution_count": 35,
   "id": "51ea8ccf",
   "metadata": {
    "execution": {
     "iopub.execute_input": "2022-07-20T13:00:41.581864Z",
     "iopub.status.busy": "2022-07-20T13:00:41.581415Z",
     "iopub.status.idle": "2022-07-20T13:00:41.592585Z",
     "shell.execute_reply": "2022-07-20T13:00:41.591041Z"
    },
    "papermill": {
     "duration": 0.043346,
     "end_time": "2022-07-20T13:00:41.595932",
     "exception": false,
     "start_time": "2022-07-20T13:00:41.552586",
     "status": "completed"
    },
    "tags": []
   },
   "outputs": [
    {
     "name": "stdout",
     "output_type": "stream",
     "text": [
      "(11148, 11) (4778, 11) (11148,) (4778,)\n"
     ]
    }
   ],
   "source": [
    "x_train , x_test , y_train , y_test = train_test_split(x_res , y_res , test_size = 0.3 , random_state = 52)\n",
    "\n",
    "print(x_train.shape , x_test.shape , y_train.shape , y_test.shape )"
   ]
  },
  {
   "cell_type": "code",
   "execution_count": null,
   "id": "f0289798",
   "metadata": {
    "papermill": {
     "duration": 0.026508,
     "end_time": "2022-07-20T13:00:41.649687",
     "exception": false,
     "start_time": "2022-07-20T13:00:41.623179",
     "status": "completed"
    },
    "tags": []
   },
   "outputs": [],
   "source": []
  },
  {
   "cell_type": "markdown",
   "id": "9387c8a2",
   "metadata": {
    "papermill": {
     "duration": 0.026391,
     "end_time": "2022-07-20T13:00:41.702828",
     "exception": false,
     "start_time": "2022-07-20T13:00:41.676437",
     "status": "completed"
    },
    "tags": []
   },
   "source": [
    "**SCALING THE DATA**"
   ]
  },
  {
   "cell_type": "code",
   "execution_count": 36,
   "id": "5de823b3",
   "metadata": {
    "execution": {
     "iopub.execute_input": "2022-07-20T13:00:41.760368Z",
     "iopub.status.busy": "2022-07-20T13:00:41.759875Z",
     "iopub.status.idle": "2022-07-20T13:00:41.773174Z",
     "shell.execute_reply": "2022-07-20T13:00:41.772251Z"
    },
    "papermill": {
     "duration": 0.044948,
     "end_time": "2022-07-20T13:00:41.775547",
     "exception": false,
     "start_time": "2022-07-20T13:00:41.730599",
     "status": "completed"
    },
    "tags": []
   },
   "outputs": [],
   "source": [
    "sc = StandardScaler()\n",
    "x_train = sc.fit_transform(x_train)\n",
    "x_test = sc.transform(x_test)\n"
   ]
  },
  {
   "cell_type": "code",
   "execution_count": 37,
   "id": "690197cd",
   "metadata": {
    "execution": {
     "iopub.execute_input": "2022-07-20T13:00:41.832475Z",
     "iopub.status.busy": "2022-07-20T13:00:41.831671Z",
     "iopub.status.idle": "2022-07-20T13:00:41.838665Z",
     "shell.execute_reply": "2022-07-20T13:00:41.837867Z"
    },
    "papermill": {
     "duration": 0.038181,
     "end_time": "2022-07-20T13:00:41.840669",
     "exception": false,
     "start_time": "2022-07-20T13:00:41.802488",
     "status": "completed"
    },
    "tags": []
   },
   "outputs": [
    {
     "data": {
      "text/plain": [
       "array([[ 1.43451991,  0.70970307,  0.07461809, ...,  1.72626972,\n",
       "        -0.45943545, -0.84110584],\n",
       "       [-1.99077505,  1.00875697, -0.28958614, ..., -0.57928375,\n",
       "        -0.45943545, -0.84110584],\n",
       "       [-0.30531245, -0.88525104, -0.28958614, ..., -0.57928375,\n",
       "        -0.45943545, -0.84110584],\n",
       "       ...,\n",
       "       [-0.68590078,  0.21127991,  1.16723077, ..., -0.57928375,\n",
       "        -0.45943545, -0.84110584],\n",
       "       [ 1.1191753 ,  0.70970307, -0.28958614, ..., -0.57928375,\n",
       "        -0.45943545, -0.84110584],\n",
       "       [-0.97949749, -0.88525104,  1.89563922, ..., -0.57928375,\n",
       "        -0.45943545,  1.18891102]])"
      ]
     },
     "execution_count": 37,
     "metadata": {},
     "output_type": "execute_result"
    }
   ],
   "source": [
    "x_train"
   ]
  },
  {
   "cell_type": "markdown",
   "id": "823b0386",
   "metadata": {
    "papermill": {
     "duration": 0.027015,
     "end_time": "2022-07-20T13:00:41.894608",
     "exception": false,
     "start_time": "2022-07-20T13:00:41.867593",
     "status": "completed"
    },
    "tags": []
   },
   "source": [
    " # APPLYING DIFFERENT MODELS"
   ]
  },
  {
   "cell_type": "code",
   "execution_count": 38,
   "id": "523f1eae",
   "metadata": {
    "execution": {
     "iopub.execute_input": "2022-07-20T13:00:41.951839Z",
     "iopub.status.busy": "2022-07-20T13:00:41.950745Z",
     "iopub.status.idle": "2022-07-20T13:00:41.956428Z",
     "shell.execute_reply": "2022-07-20T13:00:41.955397Z"
    },
    "papermill": {
     "duration": 0.03685,
     "end_time": "2022-07-20T13:00:41.958710",
     "exception": false,
     "start_time": "2022-07-20T13:00:41.921860",
     "status": "completed"
    },
    "tags": []
   },
   "outputs": [],
   "source": [
    "from sklearn.metrics import accuracy_score\n",
    "from sklearn.metrics import precision_score , recall_score , f1_score"
   ]
  },
  {
   "cell_type": "markdown",
   "id": "9d1cf480",
   "metadata": {
    "papermill": {
     "duration": 0.026651,
     "end_time": "2022-07-20T13:00:42.014205",
     "exception": false,
     "start_time": "2022-07-20T13:00:41.987554",
     "status": "completed"
    },
    "tags": []
   },
   "source": [
    "* PRECISION = TP / (TP +FP)\n",
    "* RECALL = TP /(TP +FN)\n"
   ]
  },
  {
   "cell_type": "markdown",
   "id": "07210b11",
   "metadata": {
    "papermill": {
     "duration": 0.027337,
     "end_time": "2022-07-20T13:00:42.069551",
     "exception": false,
     "start_time": "2022-07-20T13:00:42.042214",
     "status": "completed"
    },
    "tags": []
   },
   "source": [
    "**LOGISTIC REGRESSION**"
   ]
  },
  {
   "cell_type": "code",
   "execution_count": 39,
   "id": "ecca7bef",
   "metadata": {
    "execution": {
     "iopub.execute_input": "2022-07-20T13:00:42.126272Z",
     "iopub.status.busy": "2022-07-20T13:00:42.125889Z",
     "iopub.status.idle": "2022-07-20T13:00:42.174233Z",
     "shell.execute_reply": "2022-07-20T13:00:42.172946Z"
    },
    "papermill": {
     "duration": 0.080993,
     "end_time": "2022-07-20T13:00:42.178048",
     "exception": false,
     "start_time": "2022-07-20T13:00:42.097055",
     "status": "completed"
    },
    "tags": []
   },
   "outputs": [
    {
     "name": "stdout",
     "output_type": "stream",
     "text": [
      "LOGISTIC REGRESSION ACCURACY :  0.7879866052741733\n",
      "LOGISTIC REGRESSION PRECISON :  0.7940813810110974\n",
      "LOGISTIC REGRESSION RECALL :  0.79050736497545\n",
      "LOGISTIC REGRESSION F1_SCORE :  0.7922903424236211\n"
     ]
    }
   ],
   "source": [
    "from sklearn.linear_model import LogisticRegression\n",
    "lr = LogisticRegression()\n",
    "lr.fit(x_train , y_train)\n",
    "\n",
    "ytest_pred = lr.predict(x_test)\n",
    "\n",
    "#finding different scores\n",
    "acc1 = accuracy_score(y_test ,ytest_pred)\n",
    "pre = precision_score(y_test ,ytest_pred)\n",
    "rec = recall_score(y_test ,ytest_pred)\n",
    "f1 = f1_score(y_test ,ytest_pred)\n",
    "print('LOGISTIC REGRESSION ACCURACY : ',acc1)\n",
    "print('LOGISTIC REGRESSION PRECISON : ',pre)\n",
    "print('LOGISTIC REGRESSION RECALL : ',rec)\n",
    "print('LOGISTIC REGRESSION F1_SCORE : ',f1)"
   ]
  },
  {
   "cell_type": "markdown",
   "id": "b7fd684c",
   "metadata": {
    "papermill": {
     "duration": 0.048395,
     "end_time": "2022-07-20T13:00:42.277935",
     "exception": false,
     "start_time": "2022-07-20T13:00:42.229540",
     "status": "completed"
    },
    "tags": []
   },
   "source": [
    "**SUPPORT VECTOR MACHINE**"
   ]
  },
  {
   "cell_type": "code",
   "execution_count": 40,
   "id": "d5b1bc14",
   "metadata": {
    "execution": {
     "iopub.execute_input": "2022-07-20T13:00:42.335496Z",
     "iopub.status.busy": "2022-07-20T13:00:42.334349Z",
     "iopub.status.idle": "2022-07-20T13:00:47.806183Z",
     "shell.execute_reply": "2022-07-20T13:00:47.804612Z"
    },
    "papermill": {
     "duration": 5.502614,
     "end_time": "2022-07-20T13:00:47.808528",
     "exception": false,
     "start_time": "2022-07-20T13:00:42.305914",
     "status": "completed"
    },
    "tags": []
   },
   "outputs": [
    {
     "name": "stdout",
     "output_type": "stream",
     "text": [
      "SUPPORT VECTOR MACHINE ACCURACY :  0.839891167852658\n",
      "SUPPORT VECTOR MACHINE PRECISON :  0.8490644490644491\n",
      "SUPPORT VECTOR MACHINE RECALL :  0.8355155482815058\n",
      "SUPPORT VECTOR MACHINE F1_SCORE :  0.8422355124767994\n"
     ]
    }
   ],
   "source": [
    "from sklearn import svm\n",
    "svm = svm.SVC()\n",
    "svm.fit(x_train , y_train)\n",
    "\n",
    "ytest_pred = svm.predict(x_test)\n",
    "\n",
    "#finding different scores\n",
    "acc2 = accuracy_score(y_test ,ytest_pred)\n",
    "pre = precision_score(y_test ,ytest_pred)\n",
    "rec = recall_score(y_test ,ytest_pred)\n",
    "f1 = f1_score(y_test ,ytest_pred)\n",
    "print('SUPPORT VECTOR MACHINE ACCURACY : ',acc2)\n",
    "print('SUPPORT VECTOR MACHINE PRECISON : ',pre)\n",
    "print('SUPPORT VECTOR MACHINE RECALL : ',rec)\n",
    "print('SUPPORT VECTOR MACHINE F1_SCORE : ',f1)"
   ]
  },
  {
   "cell_type": "markdown",
   "id": "e5bfcef7",
   "metadata": {
    "papermill": {
     "duration": 0.02715,
     "end_time": "2022-07-20T13:00:47.863098",
     "exception": false,
     "start_time": "2022-07-20T13:00:47.835948",
     "status": "completed"
    },
    "tags": []
   },
   "source": [
    "**KNEIGHBORS CLASSIFIER**"
   ]
  },
  {
   "cell_type": "code",
   "execution_count": 41,
   "id": "680e1304",
   "metadata": {
    "execution": {
     "iopub.execute_input": "2022-07-20T13:00:47.921000Z",
     "iopub.status.busy": "2022-07-20T13:00:47.920580Z",
     "iopub.status.idle": "2022-07-20T13:00:48.436798Z",
     "shell.execute_reply": "2022-07-20T13:00:48.435312Z"
    },
    "papermill": {
     "duration": 0.547925,
     "end_time": "2022-07-20T13:00:48.439682",
     "exception": false,
     "start_time": "2022-07-20T13:00:47.891757",
     "status": "completed"
    },
    "tags": []
   },
   "outputs": [
    {
     "name": "stdout",
     "output_type": "stream",
     "text": [
      "KNEIGHBORS CLASSIFIER ACCURACY :  0.8235663457513605\n",
      "KNEIGHBORS CLASSIFIER PRECISON :  0.8234343434343434\n",
      "KNEIGHBORS CLASSIFIER RECALL :  0.8338788870703764\n",
      "KNEIGHBORS CLASSIFIER F1_SCORE :  0.8286237040048791\n"
     ]
    }
   ],
   "source": [
    "from sklearn.neighbors import KNeighborsClassifier\n",
    "kn = KNeighborsClassifier()\n",
    "kn.fit(x_train , y_train)\n",
    "\n",
    "ytest_pred = kn.predict(x_test)\n",
    "\n",
    "#finding different scores\n",
    "acc3 = accuracy_score(y_test ,ytest_pred)\n",
    "pre = precision_score(y_test ,ytest_pred)\n",
    "rec = recall_score(y_test ,ytest_pred)\n",
    "f1 = f1_score(y_test ,ytest_pred)\n",
    "print('KNEIGHBORS CLASSIFIER ACCURACY : ',acc3)\n",
    "print('KNEIGHBORS CLASSIFIER PRECISON : ',pre)\n",
    "print('KNEIGHBORS CLASSIFIER RECALL : ',rec)\n",
    "print('KNEIGHBORS CLASSIFIER F1_SCORE : ',f1)\n"
   ]
  },
  {
   "cell_type": "markdown",
   "id": "581732d0",
   "metadata": {
    "papermill": {
     "duration": 0.027101,
     "end_time": "2022-07-20T13:00:48.494202",
     "exception": false,
     "start_time": "2022-07-20T13:00:48.467101",
     "status": "completed"
    },
    "tags": []
   },
   "source": [
    "**DECISION TREE CLASSIFIER**"
   ]
  },
  {
   "cell_type": "code",
   "execution_count": 42,
   "id": "aa0a7a7b",
   "metadata": {
    "execution": {
     "iopub.execute_input": "2022-07-20T13:00:48.550575Z",
     "iopub.status.busy": "2022-07-20T13:00:48.549950Z",
     "iopub.status.idle": "2022-07-20T13:00:48.625757Z",
     "shell.execute_reply": "2022-07-20T13:00:48.624836Z"
    },
    "papermill": {
     "duration": 0.107013,
     "end_time": "2022-07-20T13:00:48.628158",
     "exception": false,
     "start_time": "2022-07-20T13:00:48.521145",
     "status": "completed"
    },
    "tags": []
   },
   "outputs": [
    {
     "name": "stdout",
     "output_type": "stream",
     "text": [
      "DECISION TREE CLASSIFIER ACCURACY :  0.7867308497279196\n",
      "DECISION TREE CLASSIFIER PRECISON :  0.7906976744186046\n",
      "DECISION TREE CLASSIFIER RECALL :  0.792962356792144\n",
      "DECISION TREE CLASSIFIER F1_SCORE :  0.7918283963227782\n"
     ]
    }
   ],
   "source": [
    "from sklearn.tree import DecisionTreeClassifier\n",
    "dt= DecisionTreeClassifier()\n",
    "dt.fit(x_train , y_train)\n",
    "\n",
    "ytest_pred = dt.predict(x_test)\n",
    "\n",
    "#finding different scores\n",
    "acc4 = accuracy_score(y_test ,ytest_pred)\n",
    "pre = precision_score(y_test ,ytest_pred)\n",
    "rec = recall_score(y_test ,ytest_pred)\n",
    "f1 = f1_score(y_test ,ytest_pred)\n",
    "print('DECISION TREE CLASSIFIER ACCURACY : ',acc4)\n",
    "print('DECISION TREE CLASSIFIER PRECISON : ',pre)\n",
    "print('DECISION TREE CLASSIFIER RECALL : ',rec)\n",
    "print('DECISION TREE CLASSIFIER F1_SCORE : ',f1)"
   ]
  },
  {
   "cell_type": "markdown",
   "id": "4a0e375d",
   "metadata": {
    "papermill": {
     "duration": 0.026813,
     "end_time": "2022-07-20T13:00:48.682451",
     "exception": false,
     "start_time": "2022-07-20T13:00:48.655638",
     "status": "completed"
    },
    "tags": []
   },
   "source": [
    "**RANDOM FOREST CLASSIFIER**"
   ]
  },
  {
   "cell_type": "code",
   "execution_count": 43,
   "id": "7a88638e",
   "metadata": {
    "execution": {
     "iopub.execute_input": "2022-07-20T13:00:48.739603Z",
     "iopub.status.busy": "2022-07-20T13:00:48.738876Z",
     "iopub.status.idle": "2022-07-20T13:00:50.264918Z",
     "shell.execute_reply": "2022-07-20T13:00:50.263485Z"
    },
    "papermill": {
     "duration": 1.558606,
     "end_time": "2022-07-20T13:00:50.268348",
     "exception": false,
     "start_time": "2022-07-20T13:00:48.709742",
     "status": "completed"
    },
    "tags": []
   },
   "outputs": [
    {
     "name": "stdout",
     "output_type": "stream",
     "text": [
      "RANDOM FOREST  CLASSIFIER ACCURACY :  0.8597739640016744\n",
      "RANDOM FOREST  CLASSIFIER PRECISON :  0.8686616791354946\n",
      "RANDOM FOREST  CLASSIFIER RECALL :  0.8551554828150573\n",
      "RANDOM FOREST  CLASSIFIER F1_SCORE :  0.8618556701030928\n"
     ]
    }
   ],
   "source": [
    "from sklearn.ensemble import RandomForestClassifier\n",
    "rf = RandomForestClassifier()\n",
    "rf.fit(x_train , y_train)\n",
    "\n",
    "ytest_pred = rf.predict(x_test)\n",
    "\n",
    "#finding different scores\n",
    "acc5 = accuracy_score(y_test ,ytest_pred)\n",
    "pre = precision_score(y_test ,ytest_pred)\n",
    "rec = recall_score(y_test ,ytest_pred)\n",
    "f1 = f1_score(y_test ,ytest_pred)\n",
    "print('RANDOM FOREST  CLASSIFIER ACCURACY : ',acc5)\n",
    "print('RANDOM FOREST  CLASSIFIER PRECISON : ',pre)\n",
    "print('RANDOM FOREST  CLASSIFIER RECALL : ',rec)\n",
    "print('RANDOM FOREST  CLASSIFIER F1_SCORE : ',f1)"
   ]
  },
  {
   "cell_type": "markdown",
   "id": "e409621c",
   "metadata": {
    "papermill": {
     "duration": 0.027228,
     "end_time": "2022-07-20T13:00:50.323725",
     "exception": false,
     "start_time": "2022-07-20T13:00:50.296497",
     "status": "completed"
    },
    "tags": []
   },
   "source": [
    "**GRADIENT BOOSTING CLASSIFIER**"
   ]
  },
  {
   "cell_type": "code",
   "execution_count": 44,
   "id": "9f39e3d8",
   "metadata": {
    "execution": {
     "iopub.execute_input": "2022-07-20T13:00:50.380892Z",
     "iopub.status.busy": "2022-07-20T13:00:50.380100Z",
     "iopub.status.idle": "2022-07-20T13:00:51.942229Z",
     "shell.execute_reply": "2022-07-20T13:00:51.940820Z"
    },
    "papermill": {
     "duration": 1.593638,
     "end_time": "2022-07-20T13:00:51.944883",
     "exception": false,
     "start_time": "2022-07-20T13:00:50.351245",
     "status": "completed"
    },
    "tags": []
   },
   "outputs": [
    {
     "name": "stdout",
     "output_type": "stream",
     "text": [
      "GRADIENT BOOSTING  CLASSIFIER ACCURACY :  0.845960652992884\n",
      "GRADIENT BOOSTING  CLASSIFIER PRECISON :  0.8594276094276094\n",
      "GRADIENT BOOSTING  CLASSIFIER RECALL :  0.8355155482815058\n",
      "GRADIENT BOOSTING  CLASSIFIER F1_SCORE :  0.8473029045643153\n"
     ]
    }
   ],
   "source": [
    "from sklearn.ensemble import GradientBoostingClassifier\n",
    "gc = GradientBoostingClassifier()\n",
    "gc.fit(x_train , y_train)\n",
    "\n",
    "ytest_pred = gc.predict(x_test)\n",
    "\n",
    "#finding different scores\n",
    "acc6 = accuracy_score(y_test ,ytest_pred)\n",
    "pre = precision_score(y_test ,ytest_pred)\n",
    "rec = recall_score(y_test ,ytest_pred)\n",
    "f1 = f1_score(y_test ,ytest_pred)\n",
    "print('GRADIENT BOOSTING  CLASSIFIER ACCURACY : ',acc6)\n",
    "print('GRADIENT BOOSTING  CLASSIFIER PRECISON : ',pre)\n",
    "print('GRADIENT BOOSTING  CLASSIFIER RECALL : ',rec)\n",
    "print('GRADIENT BOOSTING  CLASSIFIER F1_SCORE : ',f1)"
   ]
  },
  {
   "cell_type": "code",
   "execution_count": 45,
   "id": "a4950363",
   "metadata": {
    "execution": {
     "iopub.execute_input": "2022-07-20T13:00:52.001502Z",
     "iopub.status.busy": "2022-07-20T13:00:52.001074Z",
     "iopub.status.idle": "2022-07-20T13:00:52.177806Z",
     "shell.execute_reply": "2022-07-20T13:00:52.176949Z"
    },
    "papermill": {
     "duration": 0.207779,
     "end_time": "2022-07-20T13:00:52.180135",
     "exception": false,
     "start_time": "2022-07-20T13:00:51.972356",
     "status": "completed"
    },
    "tags": []
   },
   "outputs": [
    {
     "data": {
      "text/plain": [
       "Text(0.5, 1.0, 'MODELS AND ACCURACY OBSERVED')"
      ]
     },
     "execution_count": 45,
     "metadata": {},
     "output_type": "execute_result"
    },
    {
     "data": {
      "image/png": "[encoded data removed]",
      "text/plain": [
       "<Figure size 432x288 with 1 Axes>"
      ]
     },
     "metadata": {
      "needs_background": "light"
     },
     "output_type": "display_data"
    }
   ],
   "source": [
    "model_acc = {'LR' : acc1 , 'SVC':acc2 , 'KNN':acc3 ,'DTC':acc4 ,'RFC':acc5 ,'GBC' :acc6 }\n",
    "\n",
    "plt.bar(model_acc.keys() , model_acc.values() ,color= ['r','g','y','b','k' ,'m'])\n",
    "plt.xlabel('MODELS')\n",
    "plt.ylabel('ACCURACY')\n",
    "plt.title('MODELS AND ACCURACY OBSERVED')"
   ]
  },
  {
   "cell_type": "markdown",
   "id": "c4f7464c",
   "metadata": {
    "papermill": {
     "duration": 0.02822,
     "end_time": "2022-07-20T13:00:52.236137",
     "exception": false,
     "start_time": "2022-07-20T13:00:52.207917",
     "status": "completed"
    },
    "tags": []
   },
   "source": [
    "*  SO WE OBSERVED HIGH ACCURACY FOR  RANDOM FOREST CLASSIFIER MODEL"
   ]
  },
  {
   "cell_type": "markdown",
   "id": "419ae65c",
   "metadata": {
    "papermill": {
     "duration": 0.027328,
     "end_time": "2022-07-20T13:00:52.291009",
     "exception": false,
     "start_time": "2022-07-20T13:00:52.263681",
     "status": "completed"
    },
    "tags": []
   },
   "source": [
    "# SELECTED MODEL -> RANDOM FOREST (RFC)"
   ]
  },
  {
   "cell_type": "code",
   "execution_count": null,
   "id": "76050961",
   "metadata": {
    "papermill": {
     "duration": 0.027308,
     "end_time": "2022-07-20T13:00:52.345911",
     "exception": false,
     "start_time": "2022-07-20T13:00:52.318603",
     "status": "completed"
    },
    "tags": []
   },
   "outputs": [],
   "source": []
  },
  {
   "cell_type": "code",
   "execution_count": null,
   "id": "cf4334f7",
   "metadata": {
    "papermill": {
     "duration": 0.027502,
     "end_time": "2022-07-20T13:00:52.400887",
     "exception": false,
     "start_time": "2022-07-20T13:00:52.373385",
     "status": "completed"
    },
    "tags": []
   },
   "outputs": [],
   "source": []
  }
 ],
 "metadata": {
  "kernelspec": {
   "display_name": "Python 3",
   "language": "python",
   "name": "python3"
  },
  "language_info": {
   "codemirror_mode": {
    "name": "ipython",
    "version": 3
   },
   "file_extension": ".py",
   "mimetype": "text/x-python",
   "name": "python",
   "nbconvert_exporter": "python",
   "pygments_lexer": "ipython3",
   "version": "3.7.12"
  },
  "papermill": {
   "default_parameters": {},
   "duration": 30.062484,
   "end_time": "2022-07-20T13:00:53.250183",
   "environment_variables": {},
   "exception": null,
   "input_path": "__notebook__.ipynb",
   "output_path": "__notebook__.ipynb",
   "parameters": {},
   "start_time": "2022-07-20T13:00:23.187699",
   "version": "2.3.4"
  }
 },
 "nbformat": 4,
 "nbformat_minor": 5
}
